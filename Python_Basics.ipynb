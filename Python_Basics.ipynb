{
  "nbformat": 4,
  "nbformat_minor": 0,
  "metadata": {
    "colab": {
      "provenance": []
    },
    "kernelspec": {
      "name": "python3",
      "display_name": "Python 3"
    },
    "language_info": {
      "name": "python"
    }
  },
  "cells": [
    {
      "cell_type": "markdown",
      "source": [
        "# **Python Basic Questions | Vikash Kumar | wiryvikash15@gmail.com**\n",
        "\n",
        "1. **What is Python, and why is it popular?**\n",
        "\n",
        "=> Python is the integrated programming language which helps user to solve the given problem. It is widely used in the various industries to solve simple as well as complicated problem using a wide variety of ready made functions or packages.\n",
        "\n",
        "2. **What is an interpreter in Python?**\n",
        "\n",
        "=> Interpreter is the very useful feature in python which helps to run the code line by line instead of running whole block of code at a time.. It also translates each high-level statement into lower-level instructions that the computer can understand and run.\n",
        "\n",
        "3. **What are pre-defined keywords in Python ?**\n",
        "\n",
        "=> Python Keywords are some predefined and reserved words in Python that have special meanings. Keywords are used to define the syntax of the coding. The keyword cannot be used as an identifier, function, or variable name.\n",
        "\n",
        "4. **Can keywords be used as variable names?**\n",
        "\n",
        "=> No, keywords cannot be used as variable names in most programming languages. Keywords are reserved words with specific meanings in the language, and using them as variable names would lead to conflicts and errors.\n",
        "\n",
        "5. **What is mutability in Python ?**\n",
        "\n",
        "=> In Python, mutability refers to an object's ability to be modified after its creation. Mutable objects can be changed in place, meaning their content can be altered without creating a new object. This is in contrast to immutable objects, which cannot be changed after they are created.\n",
        "\n",
        "6. **Why are lists mutable, but tuples are immutable ?**\n",
        "\n",
        "=> Tuples and lists are the same in every way except two: tuples use parentheses instead of square brackets, and the items in tuples cannot be modified (but the items in lists can be modified). We often call lists mutable (meaning they can be changed) and tuples immutable (meaning they cannot be changed).\n",
        "\n",
        "7. **What is the difference between “==” and “is” operators in Python?**\n",
        "\n",
        "=>The following are the differences:-\n",
        "\n",
        "a) == compares values, while 'is' compares memory locations.\n",
        "\n",
        "b) Two objects can have the same value but different identities.\n",
        "\n",
        "c)'is' is often used to check if a variable is None.\n",
        "\n",
        "\n",
        "8.  **What are logical operators in Python ?**\n",
        "\n",
        "=>Python offers three logical operators: and, or, and not. These operators, also known as Boolean operators, evaluate multiple conditions and determine an expression's overall truth value.\n",
        "\n",
        "9. **What is type casting in Python ?**\n",
        "\n",
        "=> Type casting, also known as type conversion, is the process of changing a variable's data type to another. This is necessary because different data types have different properties and functions associated with them.\n",
        "There are two main types of type casting in Python:\n",
        "1. Implicit Type Casting:\n",
        "Python automatically converts the data type of a variable.\n",
        "This usually happens when performing operations between different data types.\n",
        "It is convenient but can lead to unexpected results if not careful.\n",
        "2. Explicit Type Casting:\n",
        "The programmer manually converts the data type using built-in functions.\n",
        "This allows for more control over the conversion process.\n",
        "Common functions for explicit type casting include int(), float(), str(), bool(), list(), tuple(), set(), and dict().\n",
        "\n",
        "\n",
        "\n",
        "10. **What is the difference between implicit and explicit type casting ?**\n",
        "\n",
        "=> Implicit type casting, also known as widening or upcasting, is when the compiler automatically converts a data type to a larger or more inclusive type. Explicit type casting, also called narrowing or downcasting, requires the programmer to use a cast operator to manually convert a data type to a smaller or less inclusive type.\n",
        "\n",
        "11. **What is the purpose of conditional statements in Python ?**\n",
        "\n",
        "=> Conditional statements in Python are used to control the flow of execution of a program based on certain conditions. They allow the program to make decisions and execute different blocks of code based on whether a condition is true or false.\n",
        "\n",
        "Here are the main types of conditional statements in Python:\n",
        "\n",
        "1. if statement: This statement executes a block of code if a specified condition is true.\n",
        "\n",
        "2. if-else statement: This statement executes one block of code if a condition is true, and another block of code if the condition is false.\n",
        "\n",
        "3. if-elif-else statement: This statement allows you to check multiple conditions in sequence. It executes the block of code corresponding to the first true condition, and if none of the conditions are true, it executes the else block.\n",
        "\n",
        "\n",
        "12. **How does the elif statement work ?**\n",
        "\n",
        "=> 'Elif' stands for 'else if' and is used in Python programming to test multiple conditions. It is written following an if statement in Python to check an alternative condition if the first condition is false. The code block under the elif statement will be executed only if its condition is true.\n",
        "\n",
        "13. **What is the difference between for and while loops ?**\n",
        "\n",
        "=> The primary difference between for and while loops is that for loops are best used when the number of iterations is known in advance, while while loops are more flexible and used when the number of iterations depends on a dynamic condition or is unknown. For loops iterate over a sequence or a predefined range, while while loops continue execution as long as a specified condition remains true.\n",
        "\n",
        "14. **Describe a scenario where a while loop is more suitable than a for loop.**\n",
        "\n",
        "=> In programming, for loops are best used when you know the number of iterations ahead of time, whereas a while loop is best used when you don't know the number of iterations in advance. Both methods can help you iterate through the code."
      ],
      "metadata": {
        "id": "wlT8Wy0TbFzK"
      }
    },
    {
      "cell_type": "markdown",
      "source": [
        "\n",
        "# **Practical Questions**\n",
        "\n",
        "1. **Write a Python program to print \"Hello, World!\"**"
      ],
      "metadata": {
        "id": "rU-CeQunhHbf"
      }
    },
    {
      "cell_type": "code",
      "source": [
        "print(\"Hello, World!\")"
      ],
      "metadata": {
        "colab": {
          "base_uri": "https://localhost:8080/"
        },
        "id": "PSnx2skOhuyD",
        "outputId": "54803571-052f-4539-9676-e5f0860c88e1"
      },
      "execution_count": 1,
      "outputs": [
        {
          "output_type": "stream",
          "name": "stdout",
          "text": [
            "Hello, World!\n"
          ]
        }
      ]
    },
    {
      "cell_type": "markdown",
      "source": [
        "2. **Write a Python program that displays your name and age.**"
      ],
      "metadata": {
        "id": "5V96jpF0h3wY"
      }
    },
    {
      "cell_type": "code",
      "source": [
        " a=input(\"Please enter your name\")\n",
        " b= int(input(\"Please enter your age\"))\n",
        " print(a)\n",
        " print(b)"
      ],
      "metadata": {
        "colab": {
          "base_uri": "https://localhost:8080/"
        },
        "id": "xaKGD04NhyPg",
        "outputId": "3db28d43-0f98-4beb-a5b7-3fc9c98e5ea0"
      },
      "execution_count": 3,
      "outputs": [
        {
          "output_type": "stream",
          "name": "stdout",
          "text": [
            "Please enter your nameVikash\n",
            "Please enter your age18\n",
            "Vikash\n",
            "18\n"
          ]
        }
      ]
    },
    {
      "cell_type": "markdown",
      "source": [
        "3. **Write code to print all the pre-defined keywords in Python using the keyword library.**"
      ],
      "metadata": {
        "id": "cl1uTdxCiams"
      }
    },
    {
      "cell_type": "code",
      "source": [
        "import keyword\n",
        "\n",
        "print(keyword.kwlist)"
      ],
      "metadata": {
        "colab": {
          "base_uri": "https://localhost:8080/"
        },
        "id": "EPtaC0LuiNPm",
        "outputId": "608977c7-7c0c-41f8-adcb-cdfe698459db"
      },
      "execution_count": 5,
      "outputs": [
        {
          "output_type": "stream",
          "name": "stdout",
          "text": [
            "['False', 'None', 'True', 'and', 'as', 'assert', 'async', 'await', 'break', 'class', 'continue', 'def', 'del', 'elif', 'else', 'except', 'finally', 'for', 'from', 'global', 'if', 'import', 'in', 'is', 'lambda', 'nonlocal', 'not', 'or', 'pass', 'raise', 'return', 'try', 'while', 'with', 'yield']\n"
          ]
        }
      ]
    },
    {
      "cell_type": "markdown",
      "source": [
        "4. **Write a program that checks if a given word is a Python keyword.**"
      ],
      "metadata": {
        "id": "gqxwkn7xit5-"
      }
    },
    {
      "cell_type": "code",
      "source": [
        "import keyword\n",
        "\n",
        "def is_keyword(word):\n",
        "\n",
        "    return keyword.iskeyword(word)\n",
        "\n",
        "word1 = input(\"Please enter word1: \")\n",
        "word2 = input(\"Please enter word2: \")\n",
        "\n",
        "if is_keyword(word1):\n",
        "    print(f\"'{word1}' is a Python keyword.\")\n",
        "else:\n",
        "    print(f\"'{word1}' is not a Python keyword.\")\n",
        "\n",
        "if is_keyword(word2):\n",
        "    print(f\"'{word2}' is a Python keyword.\")\n",
        "else:\n",
        "    print(f\"'{word2}' is not a Python keyword.\")"
      ],
      "metadata": {
        "colab": {
          "base_uri": "https://localhost:8080/"
        },
        "id": "lSVKp1Tbi2kc",
        "outputId": "5173a7a9-cbf4-4729-d62e-a9729d11036f"
      },
      "execution_count": 8,
      "outputs": [
        {
          "output_type": "stream",
          "name": "stdout",
          "text": [
            "Please enter word1: Vikash\n",
            "Please enter word2: for\n",
            "'Vikash' is not a Python keyword.\n",
            "'for' is a Python keyword.\n"
          ]
        }
      ]
    },
    {
      "cell_type": "markdown",
      "source": [
        "5. **Create a list and tuple in Python, and demonstrate how attempting to change an element works differently\n",
        "for each.**"
      ],
      "metadata": {
        "id": "GMbBTyewlYt8"
      }
    },
    {
      "cell_type": "code",
      "source": [
        "my_list = [1, 2, 3]\n",
        "my_tuple = (4, 5, 6)\n",
        "\n",
        "print(\"list:\", my_list)\n",
        "print(\"tuple:\", my_tuple)\n",
        "\n",
        "my_list[1] = 10\n",
        "print(\"Modified list:\", my_list)\n",
        "\n",
        "try:\n",
        "  my_tuple[1] = 10\n",
        "except TypeError as e:\n",
        "  print(\"Error:\", e)"
      ],
      "metadata": {
        "colab": {
          "base_uri": "https://localhost:8080/"
        },
        "id": "S_Em9KdpigOS",
        "outputId": "8216ba79-36af-4ae4-c5d7-b01fc9cbd9f9"
      },
      "execution_count": 12,
      "outputs": [
        {
          "output_type": "stream",
          "name": "stdout",
          "text": [
            "list: [1, 2, 3]\n",
            "tuple: (4, 5, 6)\n",
            "Modified list: [1, 10, 3]\n",
            "Error: 'tuple' object does not support item assignment\n"
          ]
        }
      ]
    },
    {
      "cell_type": "markdown",
      "source": [
        "6. **Write a function to demonstrate the behavior of mutable and immutable arguments.**"
      ],
      "metadata": {
        "id": "3Oz0nuAbmObz"
      }
    },
    {
      "cell_type": "code",
      "source": [
        "def modify_args(immutable_arg, mutable_arg):\n",
        "\n",
        "    # Attempt to modify the immutable argument (integer)\n",
        "    immutable_arg += 1\n",
        "    print(f\"Inside function - immutable_arg: {immutable_arg}\")\n",
        "\n",
        "    # Modify the mutable argument (list)\n",
        "    mutable_arg.append(4)\n",
        "    print(f\"Inside function - mutable_arg: {mutable_arg}\")\n",
        "\n",
        "immutable_value = 5\n",
        "mutable_list = [1, 2, 3]\n",
        "\n",
        "print(f\"Before function call - immutable_value: {immutable_value}\")\n",
        "print(f\"Before function call - mutable_list: {mutable_list}\")\n",
        "\n",
        "modify_args(immutable_value, mutable_list)\n",
        "\n",
        "print(f\"After function call - immutable_value: {immutable_value}\")\n",
        "print(f\"After function call - mutable_list: {mutable_list}\")"
      ],
      "metadata": {
        "colab": {
          "base_uri": "https://localhost:8080/"
        },
        "id": "Ye1DtWlHmBHl",
        "outputId": "af6e9fa6-5181-46ec-cde6-89e19485c076"
      },
      "execution_count": 13,
      "outputs": [
        {
          "output_type": "stream",
          "name": "stdout",
          "text": [
            "Before function call - immutable_value: 5\n",
            "Before function call - mutable_list: [1, 2, 3]\n",
            "Inside function - immutable_arg: 6\n",
            "Inside function - mutable_arg: [1, 2, 3, 4]\n",
            "After function call - immutable_value: 5\n",
            "After function call - mutable_list: [1, 2, 3, 4]\n"
          ]
        }
      ]
    },
    {
      "cell_type": "markdown",
      "source": [
        "7. **Write a program that performs basic arithmetic operations on two user-input numbers.**"
      ],
      "metadata": {
        "id": "qJJtgNOZmzqn"
      }
    },
    {
      "cell_type": "code",
      "source": [
        "a=int(input(\"Enter the number1: \"))\n",
        "b=int(input(\"enter the number2: \"))\n",
        "print(a+b)\n",
        "print(a-b)\n",
        "print(a*b)"
      ],
      "metadata": {
        "colab": {
          "base_uri": "https://localhost:8080/"
        },
        "id": "iVeHLULYmrN4",
        "outputId": "fc90bbe4-b30f-4f75-9caa-e198a0e19d25"
      },
      "execution_count": 15,
      "outputs": [
        {
          "output_type": "stream",
          "name": "stdout",
          "text": [
            "Enter the number1: 78\n",
            "enter the number2: 45\n",
            "123\n",
            "33\n",
            "3510\n"
          ]
        }
      ]
    },
    {
      "cell_type": "markdown",
      "source": [
        "8. **Write a program to demonstrate the use of logical operators.**\n"
      ],
      "metadata": {
        "id": "e7De1XxEnQCL"
      }
    },
    {
      "cell_type": "code",
      "source": [
        "print(\"Logical AND:\")\n",
        "a = True\n",
        "b = False\n",
        "print(f\"a and b: {a and b}\")\n",
        "a = True\n",
        "b = True\n",
        "print(f\"a and b: {a and b}\")\n",
        "\n",
        "# Logical OR (or)\n",
        "print(\"\\nLogical OR:\")\n",
        "a = True\n",
        "b = False\n",
        "print(f\"a or b: {a or b}\")\n",
        "a = False\n",
        "b = False\n",
        "print(f\"a or b: {a or b}\")\n",
        "\n",
        "# Logical NOT (not)\n",
        "print(\"\\nLogical NOT:\")\n",
        "a = True\n",
        "print(f\"not a: {not a}\")\n",
        "a = False\n",
        "print(f\"not a: {not a}\")\n",
        "\n",
        "# Combining logical operators\n",
        "print(\"\\nCombined Operators:\")\n",
        "x = 5\n",
        "y = 10\n",
        "result = (x > 0 and y < 20) or not (x == 5)\n",
        "print(f\"Result: {result}\")"
      ],
      "metadata": {
        "colab": {
          "base_uri": "https://localhost:8080/"
        },
        "id": "Kqa1FiQ7nHAa",
        "outputId": "4c8b1489-8a90-439f-abbc-8ce02ded145d"
      },
      "execution_count": 18,
      "outputs": [
        {
          "output_type": "stream",
          "name": "stdout",
          "text": [
            "Logical AND:\n",
            "a and b: False\n",
            "a and b: True\n",
            "\n",
            "Logical OR:\n",
            "a or b: True\n",
            "a or b: False\n",
            "\n",
            "Logical NOT:\n",
            "not a: False\n",
            "not a: True\n",
            "\n",
            "Combined Operators:\n",
            "Result: True\n"
          ]
        }
      ]
    },
    {
      "cell_type": "markdown",
      "source": [
        "9. **Write a Python program to convert user input from string to integer, float, and boolean types.**"
      ],
      "metadata": {
        "id": "_ZqVaqgRn2Ns"
      }
    },
    {
      "cell_type": "code",
      "source": [
        "a=input(\"Enter a number: \")\n",
        "b=type(a)\n",
        "c=int(a)\n",
        "d=float(a)\n",
        "e=bool(a)\n",
        "print(a)\n",
        "print(b)\n",
        "print(c)\n",
        "print(d)\n",
        "print(e)"
      ],
      "metadata": {
        "colab": {
          "base_uri": "https://localhost:8080/"
        },
        "id": "r4qfmR0engud",
        "outputId": "fd30601f-3e19-4cfe-e00d-06c06066eb01"
      },
      "execution_count": 21,
      "outputs": [
        {
          "output_type": "stream",
          "name": "stdout",
          "text": [
            "Enter a number: 6\n",
            "6\n",
            "<class 'str'>\n",
            "6\n",
            "6.0\n",
            "True\n"
          ]
        }
      ]
    },
    {
      "cell_type": "markdown",
      "source": [
        "10. **Write code to demonstrate type casting with list elements.**"
      ],
      "metadata": {
        "id": "f7BK5ukwojvW"
      }
    },
    {
      "cell_type": "code",
      "source": [
        "my_list = [1, 2.5, \"3\", True]\n",
        "casted_list = []\n",
        "\n",
        "for item in my_list:\n",
        "    if isinstance(item, int):\n",
        "        casted_list.append(float(item))  # Convert int to float\n",
        "    elif isinstance(item, float):\n",
        "        casted_list.append(int(item))  # Convert float to int\n",
        "    elif isinstance(item, str):\n",
        "        casted_list.append(int(item))  # Convert string to int\n",
        "    elif isinstance(item, bool):\n",
        "        casted_list.append(int(item)) # Convert bool to int\n",
        "\n",
        "print(casted_list)"
      ],
      "metadata": {
        "colab": {
          "base_uri": "https://localhost:8080/"
        },
        "id": "QeXwvef-oNQt",
        "outputId": "519aed0a-09c7-4be6-845d-dfc6db178459"
      },
      "execution_count": 24,
      "outputs": [
        {
          "output_type": "stream",
          "name": "stdout",
          "text": [
            "[1.0, 2, 3, 1.0]\n"
          ]
        }
      ]
    },
    {
      "cell_type": "markdown",
      "source": [
        "11. **Write a program that checks if a number is positive, negative, or zero.**\n"
      ],
      "metadata": {
        "id": "NdkO-8xbpEDe"
      }
    },
    {
      "cell_type": "code",
      "source": [
        "a=int(input(\"Hey Coder! Please enter a number: \"))\n",
        "if a>0:\n",
        "  print(\"The number is positive\")\n",
        "elif a<0:\n",
        "  print(\"The number is negative\")\n",
        "else:\n",
        "  print(\"The number is Zero\")"
      ],
      "metadata": {
        "colab": {
          "base_uri": "https://localhost:8080/"
        },
        "id": "0-VXZNbiow5N",
        "outputId": "34054643-7c32-400d-f1bb-7e7e73f163be"
      },
      "execution_count": 29,
      "outputs": [
        {
          "output_type": "stream",
          "name": "stdout",
          "text": [
            "Hey Coder! Please enter a number: 9\n",
            "The number is positive\n"
          ]
        }
      ]
    },
    {
      "cell_type": "markdown",
      "source": [
        "12. **Write a program for loop to print numbers from 1 to 10.**"
      ],
      "metadata": {
        "id": "GDXPxU1ZplMz"
      }
    },
    {
      "cell_type": "code",
      "source": [
        "for i in range(1,11):\n",
        "  print(i)"
      ],
      "metadata": {
        "colab": {
          "base_uri": "https://localhost:8080/"
        },
        "id": "_v3U4PTjpSZa",
        "outputId": "e13a7694-26fd-42ea-a786-314ab76ae033"
      },
      "execution_count": 30,
      "outputs": [
        {
          "output_type": "stream",
          "name": "stdout",
          "text": [
            "1\n",
            "2\n",
            "3\n",
            "4\n",
            "5\n",
            "6\n",
            "7\n",
            "8\n",
            "9\n",
            "10\n"
          ]
        }
      ]
    },
    {
      "cell_type": "markdown",
      "source": [
        "13. **Write a Python program to find the sum of all even numbers between 1 and 50.**"
      ],
      "metadata": {
        "id": "AraUoCDGp4Sa"
      }
    },
    {
      "cell_type": "code",
      "source": [
        "sum=0\n",
        "for i in range(1,51):\n",
        "  if i%2==0:\n",
        "    sum = sum+i\n",
        "print(\"The sum of all even numbers between 1 and 50 is : \",sum)"
      ],
      "metadata": {
        "colab": {
          "base_uri": "https://localhost:8080/"
        },
        "id": "e_kH5v0Ipyfc",
        "outputId": "59b2fe1f-738c-46fb-d6e0-3bc04a85914a"
      },
      "execution_count": 33,
      "outputs": [
        {
          "output_type": "stream",
          "name": "stdout",
          "text": [
            "The sum of all even numbers between 1 and 50 is :  650\n"
          ]
        }
      ]
    },
    {
      "cell_type": "markdown",
      "source": [
        "14.  **Write a program to reverse a string using a while loop.**"
      ],
      "metadata": {
        "id": "s15gGch6qenY"
      }
    },
    {
      "cell_type": "code",
      "source": [
        "def reverse_string(s):\n",
        "    reversed_s = \"\"\n",
        "    length = len(s) - 1\n",
        "    while length >= 0:\n",
        "        reversed_s += s[length]\n",
        "        length -= 1\n",
        "    return reversed_s\n",
        "\n",
        "input_string = \"Vikash Kumar\"\n",
        "reversed_string = reverse_string(input_string)\n",
        "print(\"Original String:\", input_string)\n",
        "print(\"Reversed String:\", reversed_string)"
      ],
      "metadata": {
        "colab": {
          "base_uri": "https://localhost:8080/"
        },
        "id": "KeI5whR4p_EO",
        "outputId": "0b2eeb63-031c-4d63-e1bb-6013f69904e9"
      },
      "execution_count": 35,
      "outputs": [
        {
          "output_type": "stream",
          "name": "stdout",
          "text": [
            "Original String: Vikash Kumar\n",
            "Reversed String: ramuK hsakiV\n"
          ]
        }
      ]
    },
    {
      "cell_type": "markdown",
      "source": [
        "15. **Write a Python program to calculate the factorial of a number provided by the user using a while loop.**"
      ],
      "metadata": {
        "id": "ejxPLBKvrCkU"
      }
    },
    {
      "cell_type": "code",
      "source": [
        "number = int(input(\"Please enter a number: \"))\n",
        "factorial = 1\n",
        "i = 1\n",
        "\n",
        "if number < 0:\n",
        "    print(\"Factorial does not exist for negative numbers\")\n",
        "elif number == 0:\n",
        "    print(\"The factorial of 0 is 1\")\n",
        "else:\n",
        "    while i <= number:\n",
        "        factorial *= i\n",
        "        i += 1\n",
        "    print(\"The factorial of\", number, \"is\", factorial)\n"
      ],
      "metadata": {
        "colab": {
          "base_uri": "https://localhost:8080/"
        },
        "id": "3y53RxsdqzVt",
        "outputId": "554aed94-f6e3-48ff-d1bd-3b33ce8b8b6e"
      },
      "execution_count": 37,
      "outputs": [
        {
          "output_type": "stream",
          "name": "stdout",
          "text": [
            "Enter a number: 6\n",
            "The factorial of 6 is 720\n"
          ]
        }
      ]
    }
  ]
}