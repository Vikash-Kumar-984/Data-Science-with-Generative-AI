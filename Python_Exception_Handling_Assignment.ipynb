{
  "cells": [
    {
      "cell_type": "markdown",
      "source": [
        "# **Files, Exceptional Handling, Logging and Memory Management Questions & Answers | Vikash Kumar | wiryvikash15@gmail.com**"
      ],
      "metadata": {
        "id": "dJAzdnSTxyrq"
      }
    },
    {
      "cell_type": "markdown",
      "metadata": {
        "id": "qj83854rnQru"
      },
      "source": [
        "**1. What is the difference between interpreted and compiled languages?**\n",
        "\n",
        "\n",
        "- Interpreted Language: Executes code line by line using an interpreter (e.g., Python).  \n",
        "- Compiled Language: Translates code into machine code before execution (e.g., C++).  \n",
        "\n",
        "Example (Python is interpreted):\n",
        "\n"
      ]
    },
    {
      "cell_type": "code",
      "source": [
        "\n",
        "print(\"Hello\")"
      ],
      "metadata": {
        "colab": {
          "base_uri": "https://localhost:8080/"
        },
        "id": "lUHBCrDgnlQ8",
        "outputId": "ea89c488-441e-4d2b-caee-79ee60371c79"
      },
      "execution_count": 2,
      "outputs": [
        {
          "output_type": "stream",
          "name": "stdout",
          "text": [
            "Hello\n"
          ]
        }
      ]
    },
    {
      "cell_type": "code",
      "source": [
        "\n",
        "x = 10 / 0  # Runtime error, but \"Hello\" will be printed"
      ],
      "metadata": {
        "colab": {
          "base_uri": "https://localhost:8080/",
          "height": 141
        },
        "id": "AJGbb1BYnrWt",
        "outputId": "c2de0d77-8069-492f-d6a3-e3b79c92b588"
      },
      "execution_count": 3,
      "outputs": [
        {
          "output_type": "error",
          "ename": "ZeroDivisionError",
          "evalue": "division by zero",
          "traceback": [
            "\u001b[0;31m---------------------------------------------------------------------------\u001b[0m",
            "\u001b[0;31mZeroDivisionError\u001b[0m                         Traceback (most recent call last)",
            "\u001b[0;32m/tmp/ipython-input-3-3687306851.py\u001b[0m in \u001b[0;36m<cell line: 0>\u001b[0;34m()\u001b[0m\n\u001b[0;32m----> 1\u001b[0;31m \u001b[0mx\u001b[0m \u001b[0;34m=\u001b[0m \u001b[0;36m10\u001b[0m \u001b[0;34m/\u001b[0m \u001b[0;36m0\u001b[0m  \u001b[0;31m# Runtime error, but \"Hello\" will be printed\u001b[0m\u001b[0;34m\u001b[0m\u001b[0;34m\u001b[0m\u001b[0m\n\u001b[0m",
            "\u001b[0;31mZeroDivisionError\u001b[0m: division by zero"
          ]
        }
      ]
    },
    {
      "cell_type": "markdown",
      "metadata": {
        "id": "EIR1IK3MnQry"
      },
      "source": [
        "**2. What is exception handling in Python?**\n",
        "\n",
        "It helps handle runtime errors gracefully.  \n",
        "\n"
      ]
    },
    {
      "cell_type": "code",
      "source": [
        "try:\n",
        "    result = 10 / 0\n",
        "except ZeroDivisionError:\n",
        "    print(\"Cannot divide by zero!\")\n"
      ],
      "metadata": {
        "colab": {
          "base_uri": "https://localhost:8080/"
        },
        "id": "I7zI2sgEnzZi",
        "outputId": "cb66be62-fa20-4684-a17f-663c49745b20"
      },
      "execution_count": 4,
      "outputs": [
        {
          "output_type": "stream",
          "name": "stdout",
          "text": [
            "Cannot divide by zero!\n"
          ]
        }
      ]
    },
    {
      "cell_type": "markdown",
      "metadata": {
        "id": "mpKKluvZnQrz"
      },
      "source": [
        "**3. What is the purpose of the finally block in exception handling?**\n",
        "\n",
        "Ensures code runs whether or not an exception occurs.  \n",
        "\n"
      ]
    },
    {
      "cell_type": "code",
      "source": [
        "\n",
        "try:\n",
        "    f = open(\"file.txt\")\n",
        "except FileNotFoundError:\n",
        "    print(\"File not found.\")\n",
        "finally:\n",
        "    print(\"This will always run.\")\n"
      ],
      "metadata": {
        "colab": {
          "base_uri": "https://localhost:8080/"
        },
        "id": "0L6UYUx5n54E",
        "outputId": "f40d449b-6c1d-4b5f-b139-81adaa8ece9f"
      },
      "execution_count": 5,
      "outputs": [
        {
          "output_type": "stream",
          "name": "stdout",
          "text": [
            "File not found.\n",
            "This will always run.\n"
          ]
        }
      ]
    },
    {
      "cell_type": "markdown",
      "metadata": {
        "id": "vvXexEz9nQrz"
      },
      "source": [
        "**4. What is logging in Python?**\n",
        "\n",
        "Logging records program events, useful for debugging.  \n"
      ]
    },
    {
      "cell_type": "code",
      "source": [
        "import logging\n",
        "logging.basicConfig(level=logging.INFO)\n",
        "logging.info(\"This is an info log.\")"
      ],
      "metadata": {
        "id": "KFe7fvhEn-EV"
      },
      "execution_count": 6,
      "outputs": []
    },
    {
      "cell_type": "markdown",
      "metadata": {
        "id": "aT4I4zf2nQr0"
      },
      "source": [
        "**5. What is the significance of the __del__ method in Python?**\n",
        "\n",
        "'__del__' is Called when an object is destroyed (acts like a destructor).  \n",
        "\n"
      ]
    },
    {
      "cell_type": "code",
      "source": [
        "class Demo:\n",
        "    def __del__(self):\n",
        "        print(\"Object destroyed.\")\n",
        "\n",
        "obj = Demo()\n",
        "del obj\n"
      ],
      "metadata": {
        "colab": {
          "base_uri": "https://localhost:8080/"
        },
        "id": "nhrlJcDdoQ62",
        "outputId": "9e644a7e-0601-470e-b4c3-3429bbf28c28"
      },
      "execution_count": 7,
      "outputs": [
        {
          "output_type": "stream",
          "name": "stdout",
          "text": [
            "Object destroyed.\n"
          ]
        }
      ]
    },
    {
      "cell_type": "markdown",
      "metadata": {
        "id": "pnFWvIPNnQr0"
      },
      "source": [
        "**6. What is the difference between import and from ... import in Python?**\n",
        "\n",
        "import module: imports the entire module and requires the module name to access functions or classes.\n",
        "\n",
        "from module import name: imports a specific attribute/class/function from the module.\n"
      ]
    },
    {
      "cell_type": "code",
      "source": [
        "\n",
        "import math\n",
        "print(math.sqrt(16))  # using module name\n",
        "\n",
        "from math import sqrt\n",
        "print(sqrt(16))  # direct usage\n"
      ],
      "metadata": {
        "colab": {
          "base_uri": "https://localhost:8080/"
        },
        "id": "Q_zJInSDoeAh",
        "outputId": "cb9beb6e-c155-4645-fc8d-c7e653a2c28e"
      },
      "execution_count": 8,
      "outputs": [
        {
          "output_type": "stream",
          "name": "stdout",
          "text": [
            "4.0\n",
            "4.0\n"
          ]
        }
      ]
    },
    {
      "cell_type": "markdown",
      "metadata": {
        "id": "UQBypYEKnQr0"
      },
      "source": [
        "**7. How can you handle multiple exceptions in Python?**\n",
        "\n",
        "We can handle multiple exceptions using multiple `except` blocks or a tuple in one block.\n"
      ]
    },
    {
      "cell_type": "code",
      "source": [
        "try:\n",
        "    a = int(\"hello\")\n",
        "except ValueError:\n",
        "    print(\"ValueError occurred\")\n",
        "except TypeError:\n",
        "    print(\"TypeError occurred\")\n"
      ],
      "metadata": {
        "colab": {
          "base_uri": "https://localhost:8080/"
        },
        "id": "tEQw5-06omfz",
        "outputId": "5ac29d1e-7f99-4e6c-97a5-337dac521d36"
      },
      "execution_count": 9,
      "outputs": [
        {
          "output_type": "stream",
          "name": "stdout",
          "text": [
            "ValueError occurred\n"
          ]
        }
      ]
    },
    {
      "cell_type": "markdown",
      "metadata": {
        "id": "7LdlLpAQnQr1"
      },
      "source": [
        "**8. What is the purpose of the with statement when handling files in Python?**\n",
        "\n",
        "The `with` statement ensures that the file is automatically closed after use, even if an error occurs.\n"
      ]
    },
    {
      "cell_type": "code",
      "source": [
        "with open(\"example.txt\", \"r\") as file:\n",
        "    content = file.read()\n",
        "print(\"File closed:\", file.closed)\n"
      ],
      "metadata": {
        "colab": {
          "base_uri": "https://localhost:8080/"
        },
        "id": "1sG8ZOqmor1m",
        "outputId": "7186a7d7-789f-4088-bf17-4e452da5d6c3"
      },
      "execution_count": 11,
      "outputs": [
        {
          "output_type": "stream",
          "name": "stdout",
          "text": [
            "File closed: True\n"
          ]
        }
      ]
    },
    {
      "cell_type": "markdown",
      "metadata": {
        "id": "rbY3kXwanQr1"
      },
      "source": [
        "**9. What is the difference between multithreading and multiprocessing?**\n",
        "\n",
        "- **Multithreading**: Runs multiple threads (lightweight processes) within the same process memory.\n",
        "- **Multiprocessing**: Runs separate processes with their own memory space.\n",
        "\n",
        "**Use when:**\n",
        "- Multithreading for I/O-bound tasks.\n",
        "- Multiprocessing for CPU-bound tasks.\n"
      ]
    },
    {
      "cell_type": "markdown",
      "metadata": {
        "id": "HC3cZVinnQr1"
      },
      "source": [
        "**10. What are the advantages of using logging in a program?**\n",
        "\n",
        "- Helps track events during execution.\n",
        "- Facilitates debugging and error analysis.\n",
        "- Supports different log levels: DEBUG, INFO, WARNING, ERROR, CRITICAL.\n",
        "- Allows logging to files, streams, or remote servers.\n"
      ]
    },
    {
      "cell_type": "code",
      "source": [
        "\n",
        "import logging\n",
        "logging.basicConfig(filename='app.log', level=logging.INFO)\n",
        "logging.info(\"Program started\")\n"
      ],
      "metadata": {
        "id": "WM1l-8jCpFIF"
      },
      "execution_count": 13,
      "outputs": []
    },
    {
      "cell_type": "markdown",
      "source": [
        "**11. What is memory management in Python?**\n",
        "\n",
        "Memory management in Python involves allocating and deallocating memory to variables and objects during program execution. Python handles this automatically using:\n",
        "\n",
        "- Private heap space: All Python objects and data structures are stored in a private heap.\n",
        "\n",
        "- Garbage Collection: Python automatically deletes unused objects to free memory.\n",
        "\n",
        "- Reference Counting: Each object has a reference count; when it drops to zero, the object is deleted."
      ],
      "metadata": {
        "id": "DTrxF7cepiNe"
      }
    },
    {
      "cell_type": "code",
      "source": [
        "a = [1, 2, 3]  # memory is allocated\n",
        "del a          # memory is deallocated\n"
      ],
      "metadata": {
        "id": "-k9gv87gpERL"
      },
      "execution_count": 14,
      "outputs": []
    },
    {
      "cell_type": "markdown",
      "source": [
        "**12. What are the basic steps involved in exception handling in Python?**\n",
        "\n",
        "Python's exception handling involves these steps:\n",
        "\n",
        "1.Try Block: Code that might raise an exception.\n",
        "\n",
        "2.Except Block: Code to handle the exception.\n",
        "\n",
        "3.Else Block (optional): Runs if no exception occurs.\n",
        "\n",
        "4.Finally Block (optional): Runs no matter what (used for cleanup)."
      ],
      "metadata": {
        "id": "W3F9g6QQpzGW"
      }
    },
    {
      "cell_type": "code",
      "source": [
        "try:\n",
        "    num = int(input(\"Enter a number: \"))\n",
        "except ValueError:\n",
        "    print(\"Invalid input! Please enter a number.\")\n",
        "else:\n",
        "    print(\"You entered:\", num)\n",
        "finally:\n",
        "    print(\"End of program.\")\n"
      ],
      "metadata": {
        "colab": {
          "base_uri": "https://localhost:8080/"
        },
        "id": "dhwgxmd4pwHO",
        "outputId": "134f5773-1d47-49b2-e9fa-1a5222b4bc01"
      },
      "execution_count": 15,
      "outputs": [
        {
          "output_type": "stream",
          "name": "stdout",
          "text": [
            "Enter a number: 12\n",
            "You entered: 12\n",
            "End of program.\n"
          ]
        }
      ]
    },
    {
      "cell_type": "markdown",
      "source": [
        "**13. Why is memory management important in Python?**\n",
        "\n",
        "- Prevents memory leaks by deallocating unused memory\n",
        "\n",
        "- Improves performance and resource usage\n",
        "\n",
        "- Ensures efficient use of RAM in large-scale or long-running programs\n",
        "\n",
        "- Avoids crashes due to excessive memory usage\n",
        "\n",
        "Python uses automatic memory management (garbage collector + reference counting), but being mindful of object lifecycle is still important for performance and stability.\n",
        "\n"
      ],
      "metadata": {
        "id": "hx9T8hKdqGNU"
      }
    },
    {
      "cell_type": "markdown",
      "source": [
        "**14. What is the role of try and except in exception handling?**\n",
        "\n",
        "\n",
        "- try block: Wraps code that might raise an exception.\n",
        "\n",
        "- except block: Defines how to handle specific exceptions.\n",
        "\n",
        "This helps prevent the program from crashing due to unexpected errors."
      ],
      "metadata": {
        "id": "LiwE1bsEqO_X"
      }
    },
    {
      "cell_type": "code",
      "source": [
        "try:\n",
        "    result = 10 / 0\n",
        "except ZeroDivisionError:\n",
        "    print(\"You can't divide by zero!\")\n"
      ],
      "metadata": {
        "colab": {
          "base_uri": "https://localhost:8080/"
        },
        "id": "bcvy-VrWp-2d",
        "outputId": "12c59950-613e-47c8-9f06-29f12bd51b02"
      },
      "execution_count": 17,
      "outputs": [
        {
          "output_type": "stream",
          "name": "stdout",
          "text": [
            "You can't divide by zero!\n"
          ]
        }
      ]
    },
    {
      "cell_type": "markdown",
      "source": [
        "Without the try-except, the above program would crash with a ZeroDivisionError.\n",
        "\n"
      ],
      "metadata": {
        "id": "vOl-0iTqqaWg"
      }
    },
    {
      "cell_type": "markdown",
      "source": [
        "**15. How does Python’s garbage collection system work?**\n",
        "\n",
        "Python uses automatic garbage collection to reclaim memory from unused objects.\n",
        "\n",
        "Main mechanisms:\n",
        "\n",
        "- Reference Counting: Every object has a count of references pointing to it.\n",
        "\n",
        "- Garbage Collector: A background process that detects and cleans up circular references (like mutually referencing objects)."
      ],
      "metadata": {
        "id": "njMvyx8Yqbw5"
      }
    },
    {
      "cell_type": "code",
      "source": [
        "import gc\n",
        "\n",
        "class Demo:\n",
        "    def __del__(self):\n",
        "        print(\"Object is being destroyed\")\n",
        "\n",
        "obj = Demo()\n",
        "del obj  # Triggers __del__\n",
        "\n",
        "gc.collect()  # Explicitly runs garbage collection\n"
      ],
      "metadata": {
        "colab": {
          "base_uri": "https://localhost:8080/"
        },
        "id": "bGv-oTM3qXNH",
        "outputId": "2f062aa2-bf06-475a-80ea-0aefe7d4d643"
      },
      "execution_count": 18,
      "outputs": [
        {
          "output_type": "stream",
          "name": "stdout",
          "text": [
            "Object is being destroyed\n"
          ]
        },
        {
          "output_type": "execute_result",
          "data": {
            "text/plain": [
              "38"
            ]
          },
          "metadata": {},
          "execution_count": 18
        }
      ]
    },
    {
      "cell_type": "markdown",
      "source": [
        "The __del__ method is called when the object is garbage collected."
      ],
      "metadata": {
        "id": "EqdmqhbmqlI1"
      }
    },
    {
      "cell_type": "markdown",
      "source": [
        "**16. What is the purpose of the else block in exception handling?**\n",
        "\n",
        "\n",
        "The else block is executed only if no exception occurs in the try block. It's useful for code that should run only when the try block is successful."
      ],
      "metadata": {
        "id": "xF3UbFFVqpIg"
      }
    },
    {
      "cell_type": "code",
      "source": [
        "try:\n",
        "    num = int(input(\"Enter a number: \"))\n",
        "except ValueError:\n",
        "    print(\"Invalid input!\")\n",
        "else:\n",
        "    print(\"You entered:\", num)  # Runs only if no exception\n"
      ],
      "metadata": {
        "colab": {
          "base_uri": "https://localhost:8080/"
        },
        "id": "BZIQnrOrqiMb",
        "outputId": "05ee5ea1-c5a1-44c1-e942-7f2cdc735a39"
      },
      "execution_count": 20,
      "outputs": [
        {
          "output_type": "stream",
          "name": "stdout",
          "text": [
            "Enter a number: vikash\n",
            "Invalid input!\n"
          ]
        }
      ]
    },
    {
      "cell_type": "markdown",
      "source": [
        "**17. What are the common logging levels in Python?**\n",
        "\n",
        "Python’s logging module provides several standard log levels (in increasing order of severity):\n",
        "\n",
        "Level:\tPurpose\n",
        "\n",
        "DEBUG:\tDetailed diagnostic info\n",
        "\n",
        "INFO:\tGeneral events/information\n",
        "\n",
        "WARNING:\tSomething unexpected but not fatal\n",
        "\n",
        "ERROR:\tSerious problem, program can continue\n",
        "\n",
        "CRITICAL:\tVery serious error, may stop program"
      ],
      "metadata": {
        "id": "8fBuZ6t1qzNz"
      }
    },
    {
      "cell_type": "code",
      "source": [
        "import logging\n",
        "\n",
        "logging.basicConfig(level=logging.DEBUG)\n",
        "logging.debug(\"Debugging info\")\n",
        "logging.info(\"Info message\")\n",
        "logging.warning(\"Warning message\")\n",
        "logging.error(\"Error occurred\")\n",
        "logging.critical(\"Critical error\")\n"
      ],
      "metadata": {
        "colab": {
          "base_uri": "https://localhost:8080/"
        },
        "id": "l3I65tfxqsKz",
        "outputId": "b2c6eed4-bba2-42a7-d2e2-38eabd4ebedd"
      },
      "execution_count": 21,
      "outputs": [
        {
          "output_type": "stream",
          "name": "stderr",
          "text": [
            "WARNING:root:Warning message\n",
            "ERROR:root:Error occurred\n",
            "CRITICAL:root:Critical error\n"
          ]
        }
      ]
    },
    {
      "cell_type": "markdown",
      "source": [
        "**18. What is the difference between os.fork() and multiprocessing in Python?**\n",
        "\n",
        "os.fork() is a Unix/Linux-only function to create a child process from the parent.\n",
        "\n",
        "multiprocessing is a cross-platform module for running processes in parallel.\n",
        "\n",
        "\n",
        "| Features        | `os.fork()`      | `Multiprocessing`                      |\n",
        "| -------------- | ---------------- | -------------------------------------- |\n",
        "| Platform       | Unix/Linux only  | Cross-platform (Windows, macOS, Linux) |\n",
        "| API Complexity | Low-level        | High-level, user-friendly              |\n",
        "| Safety         | More error-prone | Safer and more robust                  |\n"
      ],
      "metadata": {
        "id": "RQ1uQEqVrESp"
      }
    },
    {
      "cell_type": "code",
      "source": [
        "from multiprocessing import Process\n",
        "\n",
        "def greet():\n",
        "    print(\"Hello from a new process!\")\n",
        "\n",
        "p = Process(target=greet)\n",
        "p.start()\n",
        "p.join()\n"
      ],
      "metadata": {
        "colab": {
          "base_uri": "https://localhost:8080/"
        },
        "id": "Ujad7lWgrA2E",
        "outputId": "2599aee2-dbb7-4a20-eac8-d96c9c3a3d3b"
      },
      "execution_count": 22,
      "outputs": [
        {
          "output_type": "stream",
          "name": "stdout",
          "text": [
            "Hello from a new process!\n"
          ]
        }
      ]
    },
    {
      "cell_type": "markdown",
      "source": [
        "**19. What is the importance of closing a file in Python?**\n",
        "\n",
        "- Frees system resources (file handles, buffers)\n",
        "\n",
        "- Ensures all data is written to disk (especially in write mode)\n",
        "\n",
        "- Prevents file corruption or locks\n",
        "\n",
        "Best Practice: Use with statement to close files automatically."
      ],
      "metadata": {
        "id": "djWEtsQCrUDk"
      }
    },
    {
      "cell_type": "code",
      "source": [
        "# Manual method\n",
        "file = open(\"data.txt\", \"w\")\n",
        "file.write(\"Hello\")\n",
        "file.close()  # Important!\n",
        "\n",
        "# Better method\n",
        "with open(\"data.txt\", \"w\") as f:\n",
        "    f.write(\"Hello\")  # Automatically closed\n"
      ],
      "metadata": {
        "id": "5EevvrynrROp"
      },
      "execution_count": 23,
      "outputs": []
    },
    {
      "cell_type": "markdown",
      "source": [
        "**20. What is the difference between file.read() and file.readline() in Python?**\n",
        "\n",
        "\n",
        "file.read() reads the entire content of the file at once as a single string.\n",
        "\n",
        "file.readline() reads one line at a time."
      ],
      "metadata": {
        "id": "4kubg_IOre9e"
      }
    },
    {
      "cell_type": "code",
      "source": [
        "with open(\"data.txt\", \"r\") as f:\n",
        "    print(f.read())       # Whole content\n",
        "    f.seek(0)             # Move cursor to start\n",
        "    print(f.readline())   # First line only\n"
      ],
      "metadata": {
        "colab": {
          "base_uri": "https://localhost:8080/"
        },
        "id": "42SpTKoYrcFX",
        "outputId": "238d5b5c-cb12-4ab0-f7c3-ef169ddba003"
      },
      "execution_count": 25,
      "outputs": [
        {
          "output_type": "stream",
          "name": "stdout",
          "text": [
            "Hello\n",
            "Hello\n"
          ]
        }
      ]
    },
    {
      "cell_type": "markdown",
      "source": [
        "**21. What is the logging module in Python used for?**\n",
        "\n",
        "The logging module is used to track events that happen during program execution. It helps:\n",
        "\n",
        "- Report errors and warnings\n",
        "\n",
        "- Debug issues\n",
        "\n",
        "- Record program flow\n",
        "\n",
        "- Write logs to files, consoles, or external systems"
      ],
      "metadata": {
        "id": "3SA7jsKdrrNo"
      }
    },
    {
      "cell_type": "code",
      "source": [
        "import logging\n",
        "\n",
        "logging.basicConfig(filename='app.log', level=logging.INFO)\n",
        "logging.info(\"Program started\")\n",
        "logging.error(\"Something went wrong\")\n"
      ],
      "metadata": {
        "colab": {
          "base_uri": "https://localhost:8080/"
        },
        "id": "rmp-4dGurjam",
        "outputId": "ab958a7e-6dec-4aa1-8f5f-370d107399f9"
      },
      "execution_count": 26,
      "outputs": [
        {
          "output_type": "stream",
          "name": "stderr",
          "text": [
            "ERROR:root:Something went wrong\n"
          ]
        }
      ]
    },
    {
      "cell_type": "markdown",
      "source": [
        "The log file app.log will contain the recorded messages.\n",
        "\n"
      ],
      "metadata": {
        "id": "k6mLq38_r0p_"
      }
    },
    {
      "cell_type": "markdown",
      "source": [
        "**22. What is the os module in Python used for in file handling?**\n",
        "\n",
        "The os module allows interaction with the operating system. In file handling, it's used to:\n",
        "\n",
        "- Check if a file or directory exists\n",
        "\n",
        "- Get file size, path, or metadata\n",
        "\n",
        "- Create/remove directories\n",
        "\n",
        "- Navigate the filesystem"
      ],
      "metadata": {
        "id": "qAj6aYS6r1qX"
      }
    },
    {
      "cell_type": "code",
      "source": [
        "import os\n",
        "\n",
        "# Check if a file exists\n",
        "if os.path.exists(\"sample.txt\"):\n",
        "    print(\"File found\")\n",
        "else:\n",
        "    print(\"File not found\")\n"
      ],
      "metadata": {
        "colab": {
          "base_uri": "https://localhost:8080/"
        },
        "id": "u-zEj8F9rxw6",
        "outputId": "7d83e8f5-38a9-432b-d5a2-9212f9e980b4"
      },
      "execution_count": 27,
      "outputs": [
        {
          "output_type": "stream",
          "name": "stdout",
          "text": [
            "File not found\n"
          ]
        }
      ]
    },
    {
      "cell_type": "markdown",
      "source": [
        "**23. What are the challenges associated with memory management in Python?**\n",
        "\n",
        "\n",
        "Some challenges include:\n",
        "\n",
        "- Circular references: Two objects referencing each other may not be deleted automatically.\n",
        "\n",
        "- Memory leaks: Long-lived objects or global variables can unintentionally consume memory.\n",
        "\n",
        "- Unreleased resources: Forgetting to close files or network connections.\n",
        "\n",
        "- Heavy objects: Large data structures (e.g., big lists or dictionaries) can quickly consume memory.\n",
        "\n",
        "Note: We can use tools like gc (garbage collection) and memory_profiler to track memory usage."
      ],
      "metadata": {
        "id": "PgtssqpCsApu"
      }
    },
    {
      "cell_type": "markdown",
      "source": [
        "**24. How do you raise an exception manually in Python?**\n",
        "\n",
        "We can use the raise statement to manually trigger an exception.\n"
      ],
      "metadata": {
        "id": "9V8RdG76sN7E"
      }
    },
    {
      "cell_type": "code",
      "source": [
        "# raise ExceptionType(\"error message\")\n",
        "def divide(a, b):\n",
        "    if b == 0:\n",
        "        raise ZeroDivisionError(\"Cannot divide by zero\")\n",
        "    return a / b\n",
        "\n",
        "try:\n",
        "    result = divide(10, 0)\n",
        "except ZeroDivisionError as e:\n",
        "    print(\"Caught an error:\", e)\n",
        "\n"
      ],
      "metadata": {
        "colab": {
          "base_uri": "https://localhost:8080/"
        },
        "id": "v2oQ_NrMr9od",
        "outputId": "5e1415b1-c7ef-4233-a123-7c2a7c0a166c"
      },
      "execution_count": 30,
      "outputs": [
        {
          "output_type": "stream",
          "name": "stdout",
          "text": [
            "Caught an error: Cannot divide by zero\n"
          ]
        }
      ]
    },
    {
      "cell_type": "markdown",
      "source": [
        "**25. Why is it important to use multithreading in certain applications?**\n",
        "\n",
        "Multithreading is useful for:\n",
        "\n",
        "- I/O-bound tasks (e.g., file I/O, network requests) where the program spends time waiting.\n",
        "\n",
        "- Concurrent operations, like downloading multiple files or handling multiple user requests.\n",
        "\n",
        "- Improving responsiveness in GUI applications."
      ],
      "metadata": {
        "id": "HPVS1Xuqsbqt"
      }
    },
    {
      "cell_type": "code",
      "source": [
        "import threading\n",
        "\n",
        "def greet():\n",
        "    print(\"Hello from a thread\")\n",
        "\n",
        "t = threading.Thread(target=greet)\n",
        "t.start()\n",
        "t.join()\n"
      ],
      "metadata": {
        "colab": {
          "base_uri": "https://localhost:8080/"
        },
        "id": "VoBwqBlYsSt2",
        "outputId": "4295bd8a-b228-4e61-ecfc-3081e6a4d469"
      },
      "execution_count": 31,
      "outputs": [
        {
          "output_type": "stream",
          "name": "stdout",
          "text": [
            "Hello from a thread\n"
          ]
        }
      ]
    },
    {
      "cell_type": "markdown",
      "source": [
        "Note: Due to Python’s Global Interpreter Lock (GIL), multithreading doesn’t improve performance for CPU-bound tasks — use multiprocessing in such cases.\n",
        "\n"
      ],
      "metadata": {
        "id": "4prl_dQvsmLn"
      }
    },
    {
      "cell_type": "markdown",
      "source": [
        "# **Practical Questions**"
      ],
      "metadata": {
        "id": "mxkrYSl0sveu"
      }
    },
    {
      "cell_type": "markdown",
      "source": [
        "**1.  How can you open a file for writing in Python and write a string to it?**\n",
        "\n",
        "\n",
        "Use the built-in open() function with mode \"w\" (write). Then use write() to write content to the file."
      ],
      "metadata": {
        "id": "HxKRrB6Hs54C"
      }
    },
    {
      "cell_type": "code",
      "source": [
        "with open(\"output.txt\", \"w\") as f:\n",
        "    f.write(\"Hello, this is a test.\")\n"
      ],
      "metadata": {
        "id": "gVvd_VOlsjXg"
      },
      "execution_count": 32,
      "outputs": []
    },
    {
      "cell_type": "markdown",
      "source": [
        "- If the file doesn't exist, it will be created.\n",
        "\n",
        "- If it exists, it will be overwritten."
      ],
      "metadata": {
        "id": "X2XqJSzHs_7f"
      }
    },
    {
      "cell_type": "markdown",
      "source": [
        "**2. Write a Python program to read the contents of a file and print each line**"
      ],
      "metadata": {
        "id": "I_9_CIpZtEz1"
      }
    },
    {
      "cell_type": "code",
      "source": [
        "with open(\"example.txt\", \"r\") as f:\n",
        "    for line in f:\n",
        "        print(line.strip())  # strip() removes trailing newline\n"
      ],
      "metadata": {
        "id": "o7uR5P_Xs9OZ"
      },
      "execution_count": 33,
      "outputs": []
    },
    {
      "cell_type": "markdown",
      "source": [
        "This reads and prints the file line by line."
      ],
      "metadata": {
        "id": "h56ATQbttJlo"
      }
    },
    {
      "cell_type": "markdown",
      "source": [
        "**3. How would you handle a case where the file doesn't exist while trying to open it for reading?**\n",
        "\n",
        "Use a try-except block to catch a FileNotFoundError."
      ],
      "metadata": {
        "id": "wyp0ONUYtMlt"
      }
    },
    {
      "cell_type": "code",
      "source": [
        "try:\n",
        "    with open(\"nonexistent.txt\", \"r\") as f:\n",
        "        print(f.read())\n",
        "except FileNotFoundError:\n",
        "    print(\"File does not exist.\")\n"
      ],
      "metadata": {
        "colab": {
          "base_uri": "https://localhost:8080/"
        },
        "id": "ThP8v5DrtG_M",
        "outputId": "599eb4c2-1335-47ec-f5b5-fe5602470c9c"
      },
      "execution_count": 34,
      "outputs": [
        {
          "output_type": "stream",
          "name": "stdout",
          "text": [
            "File does not exist.\n"
          ]
        }
      ]
    },
    {
      "cell_type": "markdown",
      "source": [
        "This avoids a crash and provides a friendly error message."
      ],
      "metadata": {
        "id": "ZY-P7KdctSUT"
      }
    },
    {
      "cell_type": "markdown",
      "source": [
        "**4. Write a Python script that reads from one file and writes its content to another file**"
      ],
      "metadata": {
        "id": "hfoeeWm_tVXk"
      }
    },
    {
      "cell_type": "code",
      "source": [
        "with open(\"output.txt\", \"r\") as src, open(\"destination.txt\", \"w\") as dest:\n",
        "    for line in src:\n",
        "        dest.write(line)\n"
      ],
      "metadata": {
        "id": "6WMrjqo3tPcF"
      },
      "execution_count": 36,
      "outputs": []
    },
    {
      "cell_type": "markdown",
      "source": [
        "This script copies the contents of source.txt to destination.txt.\n",
        "\n"
      ],
      "metadata": {
        "id": "UY8yQmw2tevc"
      }
    },
    {
      "cell_type": "markdown",
      "source": [
        "**5. How would you catch and handle a division by zero error in Python?**\n",
        "\n",
        "Use try-except to catch the ZeroDivisionError."
      ],
      "metadata": {
        "id": "nKD3gY-rtioK"
      }
    },
    {
      "cell_type": "code",
      "source": [
        "try:\n",
        "    result = 10 / 0\n",
        "except ZeroDivisionError:\n",
        "    print(\"Cannot divide by zero.\")\n"
      ],
      "metadata": {
        "colab": {
          "base_uri": "https://localhost:8080/"
        },
        "id": "_6a9TSRmtXrG",
        "outputId": "d2b697da-7253-4222-c5c1-bac28b10cb65"
      },
      "execution_count": 37,
      "outputs": [
        {
          "output_type": "stream",
          "name": "stdout",
          "text": [
            "Cannot divide by zero.\n"
          ]
        }
      ]
    },
    {
      "cell_type": "markdown",
      "source": [
        "This avoids a crash and allows you to handle the error gracefully.\n",
        "\n"
      ],
      "metadata": {
        "id": "hN6kKD51tnij"
      }
    },
    {
      "cell_type": "markdown",
      "source": [
        "**6. Write a Python program that logs an error message to a log file when a division by zero exception occurs**"
      ],
      "metadata": {
        "id": "EB8UxcRMtrT8"
      }
    },
    {
      "cell_type": "code",
      "source": [
        "import logging\n",
        "\n",
        "# Configure logging\n",
        "logging.basicConfig(filename='errors.log', level=logging.ERROR)\n",
        "\n",
        "try:\n",
        "    result = 10 / 0\n",
        "except ZeroDivisionError as e:\n",
        "    logging.error(\"Division by zero error occurred: %s\", e)\n"
      ],
      "metadata": {
        "colab": {
          "base_uri": "https://localhost:8080/"
        },
        "id": "ObhHYQ0btlgY",
        "outputId": "57871670-c313-4458-be70-94615773bf36"
      },
      "execution_count": 38,
      "outputs": [
        {
          "output_type": "stream",
          "name": "stderr",
          "text": [
            "ERROR:root:Division by zero error occurred: division by zero\n"
          ]
        }
      ]
    },
    {
      "cell_type": "markdown",
      "source": [
        "This writes the error message to errors.log instead of printing it to the console.\n",
        "\n"
      ],
      "metadata": {
        "id": "upYw0KrVtzW6"
      }
    },
    {
      "cell_type": "markdown",
      "source": [
        "**7. How do you log information at different levels (INFO, ERROR, WARNING) in Python using the logging module?**"
      ],
      "metadata": {
        "id": "ZcTc3gJVt1uT"
      }
    },
    {
      "cell_type": "code",
      "source": [
        "import logging\n",
        "\n",
        "logging.basicConfig(level=logging.DEBUG)\n",
        "\n",
        "logging.debug(\"This is a DEBUG message\")\n",
        "logging.info(\"This is an INFO message\")\n",
        "logging.warning(\"This is a WARNING message\")\n",
        "logging.error(\"This is an ERROR message\")\n",
        "logging.critical(\"This is a CRITICAL message\")\n"
      ],
      "metadata": {
        "colab": {
          "base_uri": "https://localhost:8080/"
        },
        "id": "0GNJevPAtuJ4",
        "outputId": "bbdbab83-64c3-4e16-c1ba-5b5e4cc13763"
      },
      "execution_count": 39,
      "outputs": [
        {
          "output_type": "stream",
          "name": "stderr",
          "text": [
            "WARNING:root:This is a WARNING message\n",
            "ERROR:root:This is an ERROR message\n",
            "CRITICAL:root:This is a CRITICAL message\n"
          ]
        }
      ]
    },
    {
      "cell_type": "markdown",
      "source": [
        "Each log level is meant for different purposes and severities."
      ],
      "metadata": {
        "id": "Su0h8IEvt5c3"
      }
    },
    {
      "cell_type": "markdown",
      "source": [
        "**8. Write a program to handle a file opening error using exception handling**"
      ],
      "metadata": {
        "id": "3qdXp5Pqt8R1"
      }
    },
    {
      "cell_type": "code",
      "source": [
        "try:\n",
        "    with open(\"missing_file.txt\", \"r\") as f:\n",
        "        content = f.read()\n",
        "except FileNotFoundError:\n",
        "    print(\"The file could not be found.\")\n"
      ],
      "metadata": {
        "colab": {
          "base_uri": "https://localhost:8080/"
        },
        "id": "8Zvo_Nuqt3du",
        "outputId": "357310d8-2979-412e-d433-a88eaf9e2238"
      },
      "execution_count": 40,
      "outputs": [
        {
          "output_type": "stream",
          "name": "stdout",
          "text": [
            "The file could not be found.\n"
          ]
        }
      ]
    },
    {
      "cell_type": "markdown",
      "source": [
        "This avoids a crash when the file doesn't exist."
      ],
      "metadata": {
        "id": "mXyFQYhwuBrv"
      }
    },
    {
      "cell_type": "markdown",
      "source": [
        "**9. How can you read a file line by line and store its content in a list in Python?**"
      ],
      "metadata": {
        "id": "uPkbm9LHuEpx"
      }
    },
    {
      "cell_type": "code",
      "source": [
        "with open(\"data.txt\", \"r\") as f:\n",
        "    lines = f.readlines()\n",
        "\n",
        "print(lines)  # This will print a list of lines from the file\n"
      ],
      "metadata": {
        "colab": {
          "base_uri": "https://localhost:8080/"
        },
        "id": "I3DSDqcyt_lP",
        "outputId": "9a717036-e509-4801-dd21-1247875cb971"
      },
      "execution_count": 41,
      "outputs": [
        {
          "output_type": "stream",
          "name": "stdout",
          "text": [
            "['Hello']\n"
          ]
        }
      ]
    },
    {
      "cell_type": "markdown",
      "source": [
        "**10. How can you append data to an existing file in Python?**\n",
        "\n",
        "Use the \"a\" (append) mode in the open() function."
      ],
      "metadata": {
        "id": "V9BVC2OjuNaj"
      }
    },
    {
      "cell_type": "code",
      "source": [
        "with open(\"log.txt\", \"a\") as f:\n",
        "    f.write(\"Appended line of text.\\n\")\n"
      ],
      "metadata": {
        "id": "ea27SL7GuIn3"
      },
      "execution_count": 43,
      "outputs": []
    },
    {
      "cell_type": "markdown",
      "source": [
        "This adds content to the end of the file without overwriting existing data."
      ],
      "metadata": {
        "id": "InyVAQY_uTY_"
      }
    },
    {
      "cell_type": "markdown",
      "source": [
        "**11. Write a Python program that uses a try-except block to handle an error when attempting to access a dictionary key that doesn't exist**"
      ],
      "metadata": {
        "id": "NX4PqyTYuW2W"
      }
    },
    {
      "cell_type": "code",
      "source": [
        "my_dict = {\"name\": \"Vikash\", \"age\": 24}\n",
        "\n",
        "try:\n",
        "    print(my_dict[\"gender\"])\n",
        "except KeyError:\n",
        "    print(\"Key 'gender' not found in the dictionary.\")\n"
      ],
      "metadata": {
        "colab": {
          "base_uri": "https://localhost:8080/"
        },
        "id": "sf-Nn6muuRI-",
        "outputId": "db18aa5c-2a2b-43ae-e7c1-6e41217143f3"
      },
      "execution_count": 45,
      "outputs": [
        {
          "output_type": "stream",
          "name": "stdout",
          "text": [
            "Key 'gender' not found in the dictionary.\n"
          ]
        }
      ]
    },
    {
      "cell_type": "markdown",
      "source": [
        "This prevents the program from crashing due to a KeyError"
      ],
      "metadata": {
        "id": "U-Y8XrfZubQ6"
      }
    },
    {
      "cell_type": "markdown",
      "source": [
        "**12.  Write a program that demonstrates using multiple except blocks to handle different types of exceptions**"
      ],
      "metadata": {
        "id": "rGyAfzNduhgn"
      }
    },
    {
      "cell_type": "code",
      "source": [
        "try:\n",
        "    x = int(\"abc\")  # ValueError\n",
        "    y = 10 / 0       # ZeroDivisionError\n",
        "except ValueError:\n",
        "    print(\"Invalid conversion to integer.\")\n",
        "except ZeroDivisionError:\n",
        "    print(\"Cannot divide by zero.\")\n"
      ],
      "metadata": {
        "colab": {
          "base_uri": "https://localhost:8080/"
        },
        "id": "SFSznU16uYxY",
        "outputId": "971f6189-018b-44cb-e4ba-c56a7b71075d"
      },
      "execution_count": 46,
      "outputs": [
        {
          "output_type": "stream",
          "name": "stdout",
          "text": [
            "Invalid conversion to integer.\n"
          ]
        }
      ]
    },
    {
      "cell_type": "markdown",
      "source": [
        "Python executes the first matching except block and skips the rest.\n",
        "\n"
      ],
      "metadata": {
        "id": "uJwoK_QLult6"
      }
    },
    {
      "cell_type": "markdown",
      "source": [
        "**13. How would you check if a file exists before attempting to read it in Python?**"
      ],
      "metadata": {
        "id": "Uc2ncmsJuoeJ"
      }
    },
    {
      "cell_type": "code",
      "source": [
        "import os\n",
        "\n",
        "if os.path.exists(\"sample.txt\"):\n",
        "    with open(\"sample.txt\", \"r\") as f:\n",
        "        print(f.read())\n",
        "else:\n",
        "    print(\"File does not exist.\")\n"
      ],
      "metadata": {
        "colab": {
          "base_uri": "https://localhost:8080/"
        },
        "id": "EKE-aNfAujkg",
        "outputId": "bb45b1f3-ea34-43f4-d6e2-bee0aa0a7b03"
      },
      "execution_count": 47,
      "outputs": [
        {
          "output_type": "stream",
          "name": "stdout",
          "text": [
            "File does not exist.\n"
          ]
        }
      ]
    },
    {
      "cell_type": "markdown",
      "source": [
        "Using os.path.exists() avoids file-not-found errors."
      ],
      "metadata": {
        "id": "BHa-FR8rutua"
      }
    },
    {
      "cell_type": "markdown",
      "source": [
        "**14. Write a program that uses the logging module to log both informational and error messages.**"
      ],
      "metadata": {
        "id": "pzyxYoQIuyHM"
      }
    },
    {
      "cell_type": "code",
      "source": [
        "import logging\n",
        "\n",
        "logging.basicConfig(filename='app.log', level=logging.INFO)\n",
        "\n",
        "try:\n",
        "    logging.info(\"Program started\")\n",
        "    x = 10 / 0\n",
        "except ZeroDivisionError:\n",
        "    logging.error(\"Division by zero attempted\")\n"
      ],
      "metadata": {
        "colab": {
          "base_uri": "https://localhost:8080/"
        },
        "id": "O9TLEX3EurYb",
        "outputId": "c2c7fc44-8207-4803-98aa-f943578e8426"
      },
      "execution_count": 48,
      "outputs": [
        {
          "output_type": "stream",
          "name": "stderr",
          "text": [
            "ERROR:root:Division by zero attempted\n"
          ]
        }
      ]
    },
    {
      "cell_type": "markdown",
      "source": [
        "Both INFO and ERROR messages will be written to app.log."
      ],
      "metadata": {
        "id": "JG89fz_au4rf"
      }
    },
    {
      "cell_type": "markdown",
      "source": [
        "**15. Write a Python program that prints the content of a file and handles the case when the file is empty**"
      ],
      "metadata": {
        "id": "Xt-5hezfu9tP"
      }
    },
    {
      "cell_type": "code",
      "source": [
        "try:\n",
        "    with open(\"file.txt\", \"r\") as f:\n",
        "        content = f.read()\n",
        "        if not content:\n",
        "            print(\"The file is empty.\")\n",
        "        else:\n",
        "            print(content)\n",
        "except FileNotFoundError:\n",
        "    print(\"File not found.\")\n"
      ],
      "metadata": {
        "colab": {
          "base_uri": "https://localhost:8080/"
        },
        "id": "fJdsfgsHu2oQ",
        "outputId": "193a1731-21ee-4d24-e49e-cb8fd9ef715a"
      },
      "execution_count": 49,
      "outputs": [
        {
          "output_type": "stream",
          "name": "stdout",
          "text": [
            "File not found.\n"
          ]
        }
      ]
    },
    {
      "cell_type": "markdown",
      "source": [
        "This ensures proper handling of both file absence and empty file content."
      ],
      "metadata": {
        "id": "_OdNZbcEvDI7"
      }
    },
    {
      "cell_type": "markdown",
      "source": [
        "**16. Demonstrate how to use memory profiling to check the memory usage of a small program**\n",
        "\n",
        "We can use the memory_profiler module to check memory usage. First, install it (if not already):"
      ],
      "metadata": {
        "id": "SZtHkbRhvGUP"
      }
    },
    {
      "cell_type": "code",
      "source": [
        "pip install memory-profiler"
      ],
      "metadata": {
        "colab": {
          "base_uri": "https://localhost:8080/"
        },
        "id": "Cq5FNXOAvacI",
        "outputId": "897b1dec-ee14-45d5-c35f-afced1a37b46"
      },
      "execution_count": 53,
      "outputs": [
        {
          "output_type": "stream",
          "name": "stdout",
          "text": [
            "Collecting memory-profiler\n",
            "  Downloading memory_profiler-0.61.0-py3-none-any.whl.metadata (20 kB)\n",
            "Requirement already satisfied: psutil in /usr/local/lib/python3.11/dist-packages (from memory-profiler) (5.9.5)\n",
            "Downloading memory_profiler-0.61.0-py3-none-any.whl (31 kB)\n",
            "Installing collected packages: memory-profiler\n",
            "Successfully installed memory-profiler-0.61.0\n"
          ]
        }
      ]
    },
    {
      "cell_type": "code",
      "source": [
        "\n",
        "from memory_profiler import profile\n",
        "\n",
        "@profile\n",
        "def create_list():\n",
        "    return [i for i in range(100000)]\n",
        "\n",
        "if __name__ == \"__main__\":\n",
        "    create_list()\n"
      ],
      "metadata": {
        "colab": {
          "base_uri": "https://localhost:8080/"
        },
        "id": "W1uKmLfivAOu",
        "outputId": "737184dc-8180-4eda-b251-a554abd27bce"
      },
      "execution_count": 54,
      "outputs": [
        {
          "output_type": "stream",
          "name": "stderr",
          "text": [
            "\n",
            "PYDEV DEBUGGER WARNING:\n",
            "sys.settrace() should not be used when the debugger is being used.\n",
            "This may cause the debugger to stop working correctly.\n",
            "If this is needed, please check: \n",
            "http://pydev.blogspot.com/2007/06/why-cant-pydev-debugger-work-with.html\n",
            "to see how to restore the debug tracing back correctly.\n",
            "Call Location:\n",
            "  File \"/usr/local/lib/python3.11/dist-packages/memory_profiler.py\", line 847, in enable\n",
            "    sys.settrace(self.trace_memory_usage)\n",
            "\n",
            "\n",
            "PYDEV DEBUGGER WARNING:\n",
            "sys.settrace() should not be used when the debugger is being used.\n",
            "This may cause the debugger to stop working correctly.\n",
            "If this is needed, please check: \n",
            "http://pydev.blogspot.com/2007/06/why-cant-pydev-debugger-work-with.html\n",
            "to see how to restore the debug tracing back correctly.\n",
            "Call Location:\n",
            "  File \"/usr/local/lib/python3.11/dist-packages/memory_profiler.py\", line 850, in disable\n",
            "    sys.settrace(self._original_trace_function)\n",
            "\n"
          ]
        },
        {
          "output_type": "stream",
          "name": "stdout",
          "text": [
            "ERROR: Could not find file /tmp/ipython-input-54-172500453.py\n"
          ]
        }
      ]
    },
    {
      "cell_type": "markdown",
      "source": [
        "python -m memory_profiler your_script.py\n",
        "\n",
        "It shows line-by-line memory usage, which helps optimize memory consumption."
      ],
      "metadata": {
        "id": "mIZM0FEhviuK"
      }
    },
    {
      "cell_type": "markdown",
      "source": [
        "**17. Write a Python program to create and write a list of numbers to a file, one number per line**"
      ],
      "metadata": {
        "id": "KVt73n69vota"
      }
    },
    {
      "cell_type": "code",
      "source": [
        "numbers = [1, 2, 3, 4, 5]\n",
        "\n",
        "with open(\"numbers.txt\", \"w\") as f:\n",
        "    for number in numbers:\n",
        "        f.write(f\"{number}\\n\")\n"
      ],
      "metadata": {
        "id": "T3oTVf5_vQDV"
      },
      "execution_count": 55,
      "outputs": []
    },
    {
      "cell_type": "markdown",
      "source": [
        "Each number is written to a new line in the file numbers.txt.\n",
        "\n",
        "\n"
      ],
      "metadata": {
        "id": "P3SjOkZzvuN3"
      }
    },
    {
      "cell_type": "markdown",
      "source": [
        "**18. How would you implement a basic logging setup that logs to a file with rotation after 1MB**\n",
        "\n",
        "Use RotatingFileHandler from the logging.handlers module."
      ],
      "metadata": {
        "id": "tlnAJfZHvx7J"
      }
    },
    {
      "cell_type": "code",
      "source": [
        "import logging\n",
        "from logging.handlers import RotatingFileHandler\n",
        "\n",
        "# Set up rotating log handler\n",
        "handler = RotatingFileHandler(\"rotated.log\", maxBytes=1024*1024, backupCount=3)\n",
        "\n",
        "logging.basicConfig(level=logging.INFO, handlers=[handler])\n",
        "logger = logging.getLogger()\n",
        "\n",
        "for i in range(10000):\n",
        "    logger.info(f\"Logging line {i}\")\n"
      ],
      "metadata": {
        "id": "SnKUR2-qvsGI"
      },
      "execution_count": 56,
      "outputs": []
    },
    {
      "cell_type": "markdown",
      "source": [
        "This will rotate the log file after it reaches 1MB, keeping up to 3 backups."
      ],
      "metadata": {
        "id": "fWpWv9__v3-u"
      }
    },
    {
      "cell_type": "markdown",
      "source": [
        "**19. Write a program that handles both IndexError and KeyError using a try-except block**"
      ],
      "metadata": {
        "id": "l8kQMe4Qv7Ok"
      }
    },
    {
      "cell_type": "code",
      "source": [
        "my_list = [1, 2, 3]\n",
        "my_dict = {\"name\": \"Vikash\"}\n",
        "\n",
        "try:\n",
        "    print(my_list[5])        # May raise IndexError\n",
        "    print(my_dict[\"age\"])    # May raise KeyError\n",
        "except IndexError:\n",
        "    print(\"List index out of range.\")\n",
        "except KeyError:\n",
        "    print(\"Key not found in dictionary.\")\n"
      ],
      "metadata": {
        "colab": {
          "base_uri": "https://localhost:8080/"
        },
        "id": "sjTjtgriv1Xx",
        "outputId": "84938090-8fb4-4330-f67b-8681d78c2732"
      },
      "execution_count": 57,
      "outputs": [
        {
          "output_type": "stream",
          "name": "stdout",
          "text": [
            "List index out of range.\n"
          ]
        }
      ]
    },
    {
      "cell_type": "markdown",
      "source": [
        "**20. How would you open a file and read its contents using a context manager in Python**\n",
        "\n",
        "Use the with statement, which is Python’s context manager."
      ],
      "metadata": {
        "id": "GIP-uwvAwAJH"
      }
    },
    {
      "cell_type": "code",
      "source": [
        "with open(\"output.txt\", \"r\") as f:\n",
        "    content = f.read()\n",
        "    print(content)\n"
      ],
      "metadata": {
        "colab": {
          "base_uri": "https://localhost:8080/"
        },
        "id": "caTb_N0-v9A1",
        "outputId": "94799784-801d-4ae6-941c-3edb630e28a2"
      },
      "execution_count": 59,
      "outputs": [
        {
          "output_type": "stream",
          "name": "stdout",
          "text": [
            "Hello, this is a test.\n"
          ]
        }
      ]
    },
    {
      "cell_type": "markdown",
      "source": [
        "This ensures that the file is properly closed after reading, even if an error occurs."
      ],
      "metadata": {
        "id": "G2jiCTb9wJkP"
      }
    },
    {
      "cell_type": "markdown",
      "source": [
        "**21. Write a Python program that reads a file and prints the number of occurrences of a specific word**"
      ],
      "metadata": {
        "id": "guxqjAEjwNI2"
      }
    },
    {
      "cell_type": "code",
      "source": [
        "def count_word(filename, word):\n",
        "    try:\n",
        "        with open(filename, \"r\") as f:\n",
        "            content = f.read()\n",
        "            count = content.lower().count(word.lower())\n",
        "            print(f\"The word '{word}' occurs {count} times.\")\n",
        "    except FileNotFoundError:\n",
        "        print(\"File not found.\")\n",
        "\n",
        "# Example usage\n",
        "count_word(\"output.txt\", \"python\")\n",
        ""
      ],
      "metadata": {
        "colab": {
          "base_uri": "https://localhost:8080/"
        },
        "id": "lUUvm7ShwC_X",
        "outputId": "9fc2d3da-7b89-4558-e7bc-a664727aac1d"
      },
      "execution_count": 61,
      "outputs": [
        {
          "output_type": "stream",
          "name": "stdout",
          "text": [
            "The word 'python' occurs 0 times.\n"
          ]
        }
      ]
    },
    {
      "cell_type": "markdown",
      "source": [
        "This function reads a file and counts how many times a specific word appears, case-insensitive."
      ],
      "metadata": {
        "id": "1m1C2F6Wwdjd"
      }
    },
    {
      "cell_type": "markdown",
      "source": [
        "**22. How can you check if a file is empty before attempting to read its contents?**\n",
        "\n",
        "We can check the file size using os.stat() or os.path.getsize().\n"
      ],
      "metadata": {
        "id": "MLtAWpTbwgq6"
      }
    },
    {
      "cell_type": "code",
      "source": [
        "import os\n",
        "\n",
        "file_path = \"output.txt\"\n",
        "\n",
        "if os.path.getsize(file_path) == 0:\n",
        "    print(\"The file is empty.\")\n",
        "else:\n",
        "    with open(file_path, \"r\") as f:\n",
        "        print(f.read())\n"
      ],
      "metadata": {
        "colab": {
          "base_uri": "https://localhost:8080/"
        },
        "id": "RYVoQshGwQ4T",
        "outputId": "ff8fa567-1499-490f-a4f7-6bf1e8e0ca01"
      },
      "execution_count": 63,
      "outputs": [
        {
          "output_type": "stream",
          "name": "stdout",
          "text": [
            "Hello, this is a test.\n"
          ]
        }
      ]
    },
    {
      "cell_type": "markdown",
      "source": [
        "**23. Write a Python program that writes to a log file when an error occurs during file handling**\n"
      ],
      "metadata": {
        "id": "X_1MOY1awqw6"
      }
    },
    {
      "cell_type": "code",
      "source": [
        "import logging\n",
        "\n",
        "logging.basicConfig(filename=\"file_errors.log\", level=logging.ERROR)\n",
        "\n",
        "try:\n",
        "    with open(\"missing_file.txt\", \"r\") as f:\n",
        "        data = f.read()\n",
        "except FileNotFoundError as e:\n",
        "    logging.error(\"File handling error: %s\", e)\n"
      ],
      "metadata": {
        "colab": {
          "base_uri": "https://localhost:8080/"
        },
        "id": "SmO7Ruu4wlIA",
        "outputId": "d21b4ef1-9246-4bfa-9c99-982c79c6d043"
      },
      "execution_count": 64,
      "outputs": [
        {
          "output_type": "stream",
          "name": "stderr",
          "text": [
            "ERROR:root:File handling error: [Errno 2] No such file or directory: 'missing_file.txt'\n"
          ]
        }
      ]
    },
    {
      "cell_type": "markdown",
      "source": [
        "This program logs the error to file_errors.log when the file is missing."
      ],
      "metadata": {
        "id": "2G_WDvNcwyUA"
      }
    },
    {
      "cell_type": "code",
      "source": [],
      "metadata": {
        "id": "5IaF4KyMwv_C"
      },
      "execution_count": null,
      "outputs": []
    }
  ],
  "metadata": {
    "colab": {
      "provenance": []
    },
    "language_info": {
      "name": "python"
    },
    "kernelspec": {
      "name": "python3",
      "display_name": "Python 3"
    }
  },
  "nbformat": 4,
  "nbformat_minor": 0
}