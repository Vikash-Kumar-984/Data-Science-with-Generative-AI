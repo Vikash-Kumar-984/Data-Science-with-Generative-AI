{
  "nbformat": 4,
  "nbformat_minor": 0,
  "metadata": {
    "colab": {
      "provenance": [],
      "toc_visible": true
    },
    "kernelspec": {
      "name": "python3",
      "display_name": "Python 3"
    },
    "language_info": {
      "name": "python"
    }
  },
  "cells": [
    {
      "cell_type": "markdown",
      "source": [
        "# **# Data Types and Structures Questions | Vikash Kumar | wiryvikash15@gmail.com**"
      ],
      "metadata": {
        "id": "3RxlP_3IzOiF"
      }
    },
    {
      "cell_type": "markdown",
      "source": [
        "1. **What are data structures, and why are they important?**\n",
        "\n",
        "=> Data structures are specialized formats for organizing, processing, retrieving, and storing data. They are crucial for efficient data management, enabling faster processing, easier retrieval, and effective memory utilization. Well-chosen data structures can significantly improve an algorithm's efficiency, making it faster and more scalable.\n",
        "\n",
        "\n",
        "2. **Explain the difference between mutable and immutable data types with examples.**\n",
        "\n",
        "=> Mutable data types can be changed after they are created. Examples : lists, sets, and dictionaries.\n",
        " Immutable data types, on the other hand, cannot be changed after creation; any modification operation will result in a new object. Examples: strings, and tuples.\n"
      ],
      "metadata": {
        "id": "qf6wGZuN0Of0"
      }
    },
    {
      "cell_type": "code",
      "source": [
        "# Mutable Example\n",
        "my_list = [1, 2, 3]\n",
        "my_list.append(4)\n",
        "print(my_list)"
      ],
      "metadata": {
        "colab": {
          "base_uri": "https://localhost:8080/"
        },
        "id": "aZz3CAmD2cmS",
        "outputId": "e3a12d31-650c-4169-e8ad-d97786364d34"
      },
      "execution_count": 39,
      "outputs": [
        {
          "output_type": "stream",
          "name": "stdout",
          "text": [
            "[1, 2, 3, 4]\n"
          ]
        }
      ]
    },
    {
      "cell_type": "code",
      "source": [
        "# Immutable Example (String):\n",
        "my_string = \"hello\"\n",
        "# my_string[0] = 'H' # This would gives an error\n",
        "new_string = my_string.replace('h', 'H')\n",
        "print(new_string)\n",
        "print(my_string)"
      ],
      "metadata": {
        "colab": {
          "base_uri": "https://localhost:8080/"
        },
        "id": "FG0EOlpg0Ipu",
        "outputId": "e8771d60-1cba-42ea-8123-2429d9a20d81"
      },
      "execution_count": 2,
      "outputs": [
        {
          "output_type": "stream",
          "name": "stdout",
          "text": [
            "Hello\n",
            "hello\n"
          ]
        }
      ]
    },
    {
      "cell_type": "markdown",
      "source": [
        "3. **What are the main differences between lists and tuples in Python?**\n",
        "\n",
        "\n",
        "=> Lists and tuples are both ordered collections of items, but they differ primarily in mutability and syntax.\n",
        "\n",
        "Lists: Are mutable, meaning their elements can be changed, added, or removed after creation. They are defined using square brackets [].\n",
        "\n",
        "Tuples: Are immutable, meaning their elements cannot be changed after creation. They are defined using parentheses ().\n",
        "\n",
        "\n",
        "4. **Describe how dictionaries store data.**\n",
        "\n",
        "Dictionaries store data as a collection of key-value pairs. Each key must be unique and immutable (like strings, numbers, or tuples), while values can be of any data type and can be duplicated. This structure allows for efficient retrieval of values based on their associated keys.\n",
        "\n",
        "5. **Why might you use a set instead of a list in Python?**\n",
        "\n",
        "Set is used over list because of the following reason:-\n",
        "\n",
        "Uniqueness: Sets automatically handle duplicate values by storing only unique elements. If you need a collection of unique items, a set is ideal.\n",
        "\n",
        "Membership Testing: Checking for the presence of an element (in keyword) is generally faster in sets than in lists, especially for large collections, due to their underlying hash-based implementation.\n",
        "\n",
        "Mathematical Set Operations: Sets support mathematical set operations like union, intersection, difference, and symmetric difference.\n",
        "\n",
        "\n",
        "6. **What is a string in Python, and how is it different from a list?**\n",
        "\n",
        "A string in Python is an immutable sequence of characters, used to represent text.\n",
        "\n",
        "String: Immutable, specifically designed for text, and its elements (characters) cannot be changed in place.\n",
        "\n",
        "List: Mutable, can contain elements of different data types, and its elements can be modified, added, or removed after creation.\n",
        "\n",
        "\n",
        "7. **How do tuples ensure data integrity in Python?**\n",
        "\n",
        "Tuples ensure data integrity because they are immutable. Once a tuple is created, its elements cannot be changed, added, or removed. This immutability guarantees that the data stored in a tuple remains constant throughout the program's execution, preventing accidental modifications and ensuring data consistency.\n",
        "\n",
        "\n",
        "8. **What is a hash table, and how does it relate to dictionaries in Python?**\n",
        "\n",
        "A hash table (or hash map) is a data structure that implements an associative array abstract data type, a structure that can map keys to values. It uses a hash function to compute an index into an array of buckets or slots, from which the desired value can be found. Python dictionaries are implemented using hash tables. This underlying structure allows dictionaries to achieve very efficient average-case time complexity for operations like insertion, deletion, and lookup (accessing elements).\n",
        "\n",
        "9. **Can lists contain different data types in Python?**\n",
        "\n",
        "Yes, lists in Python can contain different data types. A single list can hold integers, floats, strings, booleans, other lists, tuples, dictionaries, and even custom objects.\n",
        "\n",
        "10. **Explain why strings are immutable in Python.**\n",
        "\n",
        "Strings are immutable in Python because this design choice offers several benefits:\n",
        "\n",
        "Efficiency and Performance: Immutability allows for optimizations in memory management and string operations. Python can share string objects in memory if they have the same value.\n",
        "\n",
        "Thread Safety: Immutable objects are inherently thread-safe, as their state cannot be changed by multiple threads simultaneously.\n",
        "\n",
        "Hashing: Immutability is a requirement for objects to be hashable, which is necessary for them to be used as keys in dictionaries or elements in sets.\n",
        "\n",
        "\n",
        "11. **What advantages do dictionaries offer over lists for certain tasks?**\n",
        "\n",
        "Dictionaries offer several advantages over lists for specific tasks:\n",
        "\n",
        "Key-Value Access: Dictionaries allow data to be retrieved by a descriptive key instead of an integer index, making the code more readable and self-documenting.\n",
        "\n",
        "Fast Lookups: On average, accessing elements in a dictionary by key is much faster than searching for elements in a list, especially for large datasets. This is due to their hash table implementation.\n",
        "\n",
        "Associative Data: They are ideal for representing relationships where each piece of data has a unique identifier or label.\n",
        "\n",
        "\n",
        "12. **Describe a scenario where using a tuple would be preferable over a list.**\n",
        "\n",
        "A scenario where using a tuple would be preferable over a list is when we need to represent a fixed collection of related items that should not change. For example:\n",
        "\n",
        "Coordinates: Representing a point in a 2D or 3D space, e.g., (x, y) or (x, y, z). The coordinates of a specific point are typically fixed.\n",
        "RGB Color Codes: (255, 0, 0) for red. The components of a specific color typically don't change.\n",
        "\n",
        "Database Records: When a function returns a fixed record from a database (e.g., (user_id, username, email)), a tuple can be used to ensure the integrity of that record.\n",
        "\n",
        "\n",
        "13. **How do sets handle duplicate values in Python?**\n",
        "\n",
        "Sets in Python automatically handle duplicate values by storing only one instance of each unique element. If we try to add an element that already exists in a set, the set will simply ignore the addition and remain unchanged.\n",
        "\n",
        "14. **How does the \"in\" keyword work differently for lists and dictionaries?**\n",
        "\n",
        "The \"in\" keyword is used for membership testing, but its behavior differs based on the data structure:\n",
        "\n",
        "For Lists: When used with a list, \"in\" checks if a specific value exists anywhere in the list. It iterates through the list elements to find a match.\n",
        "For Dictionaries: When used with a dictionary, \"in\" checks if a specific key exists in the dictionary's keys. It does not directly check for values. To check for values, we would typically use value in dictionary.values().\n",
        "\n",
        "\n",
        "15. **Can you modify the elements of a tuple? Explain why or why not.**\n",
        "\n",
        "No, we cannot modify the elements of a tuple after it has been created. This is because tuples are immutable data types in Python. Once defined, their content is fixed. Any operation that seems to \"modify\" a tuple (like concatenation) actually creates a new tuple in memory.\n",
        "\n",
        "16. **What is a nested dictionary, and give an example of its use case?**\n",
        "\n",
        " Nested dictionary is a dictionary where the values themselves are other dictionaries."
      ],
      "metadata": {
        "id": "gmGDKTo23g8m"
      }
    },
    {
      "cell_type": "code",
      "source": [
        "# Exanple: Storing Student Grades\n",
        "\n",
        "student_grades = {\n",
        "    \"Alice\": {\n",
        "        \"math\": 95,\n",
        "        \"science\": 88,\n",
        "        \"history\": 92\n",
        "    },\n",
        "    \"Bob\": {\n",
        "        \"math\": 78,\n",
        "        \"science\": 85,\n",
        "        \"history\": 80\n",
        "    }\n",
        "}\n",
        "print(student_grades[\"Alice\"][\"math\"])"
      ],
      "metadata": {
        "colab": {
          "base_uri": "https://localhost:8080/"
        },
        "id": "dX683Jup5IPw",
        "outputId": "432a3f56-a4f1-4164-8a42-51a9d4a1ce85"
      },
      "execution_count": 3,
      "outputs": [
        {
          "output_type": "stream",
          "name": "stdout",
          "text": [
            "95\n"
          ]
        }
      ]
    },
    {
      "cell_type": "markdown",
      "source": [
        "The above structure effectively organizes grades by student and then by subject.\n",
        "\n",
        "17. **Describe the time complexity of accessing elements in a dictionary.**\n",
        "\n",
        "The time complexity of accessing elements (lookup) in a dictionary is, on average, O(1) (constant time). This means that the time it takes to retrieve a value by its key does not significantly increase with the size of the dictionary. In the worst-case scenario (due to hash collisions), it can degrade to O(n) (linear time), but this is rare in practice with well-designed hash functions.\n",
        "\n",
        "18. **In what situations are lists preferred over dictionaries?**\n",
        "\n",
        "Lists are preferred over dictionaries in situations where:\n",
        "\n",
        "Ordered Collection: The order of elements is important, and you need to maintain that order.\n",
        "\n",
        "Indexing: You need to access elements by their numerical position (index).\n",
        "\n",
        "Sequential Data: You are storing a sequence of items where each item's position matters.\n",
        "\n",
        "Allow Duplicates: You need to store multiple occurrences of the same value.\n",
        "\n",
        "\n",
        "19. **Why are dictionaries considered unordered, and how does that affect data retrieval?**\n",
        "\n",
        "Historically, dictionaries were considered unordered because their elements were stored based on their hash values, not their insertion order. This meant that iterating through a dictionary would not guarantee the order in which items were added.\n",
        "\n",
        " While individual key lookups remain efficient (O(1) on average), the \"unordered\" nature (prior to Python 3.7) meant that if we relied on a specific order when iterating or displaying dictionary contents, we couldn't guarantee it without explicitly sorting or keeping track of keys.\n",
        "\n",
        "Note: As of Python 3.7+, dictionaries maintain insertion order, making them effectively ordered. However, the conceptual understanding of their unordered nature from older versions is still relevant in some contexts.\n",
        "\n",
        "\n",
        "20. **Explain the difference between a list and a dictionary in terms of data retrieval.**\n",
        "\n",
        "List Data Retrieval: Data in a list is retrieved primarily by its index (its numerical position). We access elements using my_list[index]. To find a specific value, we often need to iterate through the list or use methods like index(), which can be slow for large lists.\n",
        "\n",
        "Dictionary Data Retrieval: Data in a dictionary is retrieved by its key. We access values using my_dictionary[key]. This retrieval is very fast (average O(1)) because dictionaries use hashing to directly locate the value associated with the key."
      ],
      "metadata": {
        "id": "6M9HcbAA5Tqf"
      }
    },
    {
      "cell_type": "markdown",
      "source": [
        "# **# Practical Questions**"
      ],
      "metadata": {
        "id": "EPWAlNsQ53GX"
      }
    },
    {
      "cell_type": "markdown",
      "source": [
        "**1. Write a code to create a string with your name and print it.**"
      ],
      "metadata": {
        "id": "awcJtMOt5-nE"
      }
    },
    {
      "cell_type": "code",
      "source": [
        "my_name = \"Vikash Kumar\"\n",
        "print(my_name)"
      ],
      "metadata": {
        "colab": {
          "base_uri": "https://localhost:8080/"
        },
        "id": "MfH0961T6B8F",
        "outputId": "44be3abb-0d7a-42c0-bc6a-06167313e008"
      },
      "execution_count": 6,
      "outputs": [
        {
          "output_type": "stream",
          "name": "stdout",
          "text": [
            "Vikash Kumar\n"
          ]
        }
      ]
    },
    {
      "cell_type": "markdown",
      "source": [
        "**2. Write a code to find the length of the string \"Hello World\".**"
      ],
      "metadata": {
        "id": "fI65GfOa6VF5"
      }
    },
    {
      "cell_type": "code",
      "source": [
        "s = \"Hello World\"\n",
        "length = len(s)\n",
        "print(length)"
      ],
      "metadata": {
        "colab": {
          "base_uri": "https://localhost:8080/"
        },
        "id": "-KtouKNI3SGk",
        "outputId": "6ffd4251-700c-459c-9ca8-cd3e607ce663"
      },
      "execution_count": 7,
      "outputs": [
        {
          "output_type": "stream",
          "name": "stdout",
          "text": [
            "11\n"
          ]
        }
      ]
    },
    {
      "cell_type": "markdown",
      "source": [
        "**3. Write a code to slice the first 3 characters from the string \"Python Programming\".**"
      ],
      "metadata": {
        "id": "XpfciW6O6fqb"
      }
    },
    {
      "cell_type": "code",
      "source": [
        "s = \"Python Programming\"\n",
        "sliced_s = s[0:3]\n",
        "print(sliced_s)"
      ],
      "metadata": {
        "colab": {
          "base_uri": "https://localhost:8080/"
        },
        "id": "PgJMCvQ46ajN",
        "outputId": "e1b06787-a0c6-4dfd-d26b-fb0d2c52b16d"
      },
      "execution_count": 8,
      "outputs": [
        {
          "output_type": "stream",
          "name": "stdout",
          "text": [
            "Pyt\n"
          ]
        }
      ]
    },
    {
      "cell_type": "markdown",
      "source": [
        "**4. Write a code to convert the string \"hello\" to uppercase.**"
      ],
      "metadata": {
        "id": "f2NwnbJ76pb2"
      }
    },
    {
      "cell_type": "code",
      "source": [
        "s = \"hello\"\n",
        "uppercase_s = s.upper()\n",
        "print(uppercase_s)"
      ],
      "metadata": {
        "colab": {
          "base_uri": "https://localhost:8080/"
        },
        "id": "m71RTNB56kPZ",
        "outputId": "3051c11a-2f4b-400c-a649-393a91848f88"
      },
      "execution_count": 9,
      "outputs": [
        {
          "output_type": "stream",
          "name": "stdout",
          "text": [
            "HELLO\n"
          ]
        }
      ]
    },
    {
      "cell_type": "markdown",
      "source": [
        "**5. Write a code to replace the word \"apple\" with \"orange\" in the string \"I like apple\".**"
      ],
      "metadata": {
        "id": "kPln1eeQ6yRk"
      }
    },
    {
      "cell_type": "code",
      "source": [
        "s = \"I like apple\"\n",
        "new_s = s.replace(\"apple\", \"orange\")\n",
        "print(new_s)"
      ],
      "metadata": {
        "colab": {
          "base_uri": "https://localhost:8080/"
        },
        "id": "5el7H6QH6vDG",
        "outputId": "7cbb5c1e-d489-4d0b-9da3-6d1b31e78cd8"
      },
      "execution_count": 10,
      "outputs": [
        {
          "output_type": "stream",
          "name": "stdout",
          "text": [
            "I like orange\n"
          ]
        }
      ]
    },
    {
      "cell_type": "markdown",
      "source": [
        "**6. Write a code to create a list with numbers 1 to 5 and print it.**"
      ],
      "metadata": {
        "id": "GsijwLdP66_v"
      }
    },
    {
      "cell_type": "code",
      "source": [
        "my_list = [1, 2, 3, 4, 5]\n",
        "print(my_list)"
      ],
      "metadata": {
        "colab": {
          "base_uri": "https://localhost:8080/"
        },
        "id": "8nvFl-U962lX",
        "outputId": "3960121a-a472-48d0-9294-e33523eab1d6"
      },
      "execution_count": 38,
      "outputs": [
        {
          "output_type": "stream",
          "name": "stdout",
          "text": [
            "[1, 2, 3, 4, 5]\n"
          ]
        }
      ]
    },
    {
      "cell_type": "markdown",
      "source": [
        "**7. Write a code to append the number 10 to the list [1, 2, 3, 4]**"
      ],
      "metadata": {
        "id": "z69AO0_f7FI5"
      }
    },
    {
      "cell_type": "code",
      "source": [
        "my_list = [1, 2, 3, 4]\n",
        "my_list.append(10)\n",
        "print(my_list)"
      ],
      "metadata": {
        "colab": {
          "base_uri": "https://localhost:8080/"
        },
        "id": "fCcEKx1T6_LO",
        "outputId": "ce363d66-305c-4a9a-cbc6-55313c4fca81"
      },
      "execution_count": 13,
      "outputs": [
        {
          "output_type": "stream",
          "name": "stdout",
          "text": [
            "[1, 2, 3, 4, 10]\n"
          ]
        }
      ]
    },
    {
      "cell_type": "markdown",
      "source": [
        "**8. Write a code to remove the number 3 from the list [1, 2, 3, 4, 5].**"
      ],
      "metadata": {
        "id": "YL64QHcl7Nfm"
      }
    },
    {
      "cell_type": "code",
      "source": [
        "my_list = [1, 2, 3, 4, 5]\n",
        "my_list.remove(3)\n",
        "print(my_list)"
      ],
      "metadata": {
        "colab": {
          "base_uri": "https://localhost:8080/"
        },
        "id": "nAMTu8vS7KGM",
        "outputId": "479e0f26-aa53-4862-869c-3886c11ee31a"
      },
      "execution_count": 14,
      "outputs": [
        {
          "output_type": "stream",
          "name": "stdout",
          "text": [
            "[1, 2, 4, 5]\n"
          ]
        }
      ]
    },
    {
      "cell_type": "markdown",
      "source": [
        "**9. Write a code to access the second element in the list ['a', 'b', 'c', 'd']**"
      ],
      "metadata": {
        "id": "A1XBOfzi-x8E"
      }
    },
    {
      "cell_type": "code",
      "source": [
        "my_list = ['a', 'b', 'c', 'd']\n",
        "second_element = my_list[1]\n",
        "print(second_element)"
      ],
      "metadata": {
        "colab": {
          "base_uri": "https://localhost:8080/"
        },
        "id": "_KWuFRzH7SgP",
        "outputId": "e1832720-a779-4c80-99b4-fb4fee6a6d58"
      },
      "execution_count": 15,
      "outputs": [
        {
          "output_type": "stream",
          "name": "stdout",
          "text": [
            "b\n"
          ]
        }
      ]
    },
    {
      "cell_type": "markdown",
      "source": [
        "**10. Write a code to reverse the list [10, 20, 30, 40, 50].**"
      ],
      "metadata": {
        "id": "IXsqKzYw-70x"
      }
    },
    {
      "cell_type": "code",
      "source": [
        "my_list = [10, 20, 30, 40, 50]\n",
        "my_list.reverse()\n",
        "print(my_list)"
      ],
      "metadata": {
        "colab": {
          "base_uri": "https://localhost:8080/"
        },
        "id": "_N0pBrmB-21U",
        "outputId": "f07ed057-147a-4968-b71f-d7d0bd68f85b"
      },
      "execution_count": 16,
      "outputs": [
        {
          "output_type": "stream",
          "name": "stdout",
          "text": [
            "[50, 40, 30, 20, 10]\n"
          ]
        }
      ]
    },
    {
      "cell_type": "markdown",
      "source": [
        "**11. Write a code to create a tuple with the elements 100, 200, 300 and print it**"
      ],
      "metadata": {
        "id": "zF4NhaBW_DMZ"
      }
    },
    {
      "cell_type": "code",
      "source": [
        "my_tuple = (100, 200, 300)\n",
        "print(my_tuple)"
      ],
      "metadata": {
        "colab": {
          "base_uri": "https://localhost:8080/"
        },
        "id": "lCNGORPv-_fV",
        "outputId": "da207ea2-4ad5-4cfb-a251-019cbcd6b4fa"
      },
      "execution_count": 17,
      "outputs": [
        {
          "output_type": "stream",
          "name": "stdout",
          "text": [
            "(100, 200, 300)\n"
          ]
        }
      ]
    },
    {
      "cell_type": "markdown",
      "source": [
        "**12. Write a code to access the second-to-last element of the tuple ('red', 'green', 'blue', 'yellow').**"
      ],
      "metadata": {
        "id": "qbnwCqnV_LCh"
      }
    },
    {
      "cell_type": "code",
      "source": [
        "my_tuple = ('red', 'green', 'blue', 'yellow')\n",
        "element = my_tuple[-2]\n",
        "print(element)"
      ],
      "metadata": {
        "colab": {
          "base_uri": "https://localhost:8080/"
        },
        "id": "TfLpqrG6_HC8",
        "outputId": "0c47b40d-b360-4d93-a2da-ae7c0d015874"
      },
      "execution_count": 18,
      "outputs": [
        {
          "output_type": "stream",
          "name": "stdout",
          "text": [
            "blue\n"
          ]
        }
      ]
    },
    {
      "cell_type": "markdown",
      "source": [
        "**13. Write a code to find the minimum number in the tuple (10, 20, 5, 15)**"
      ],
      "metadata": {
        "id": "NYjLiZDu_Tp4"
      }
    },
    {
      "cell_type": "code",
      "source": [
        "my_tuple = (10, 20, 5, 15)\n",
        "minimum = min(my_tuple)\n",
        "print(minimum)"
      ],
      "metadata": {
        "colab": {
          "base_uri": "https://localhost:8080/"
        },
        "id": "uymNqpEC_O9B",
        "outputId": "b4206ed6-ab96-447a-91b0-d0202fff1c8a"
      },
      "execution_count": 19,
      "outputs": [
        {
          "output_type": "stream",
          "name": "stdout",
          "text": [
            "5\n"
          ]
        }
      ]
    },
    {
      "cell_type": "markdown",
      "source": [
        "**14. Write a code to find the index of the element \"cat\" in the tuple ('dog', 'cat', 'rabbit')**"
      ],
      "metadata": {
        "id": "on291Fgy_a_R"
      }
    },
    {
      "cell_type": "code",
      "source": [
        "my_tuple = ('dog', 'cat', 'rabbit')\n",
        "index = my_tuple.index(\"cat\")\n",
        "print(index)"
      ],
      "metadata": {
        "colab": {
          "base_uri": "https://localhost:8080/"
        },
        "id": "xRJ-af5E_W7e",
        "outputId": "797222fe-23ac-43ae-8412-7803775aad1c"
      },
      "execution_count": 20,
      "outputs": [
        {
          "output_type": "stream",
          "name": "stdout",
          "text": [
            "1\n"
          ]
        }
      ]
    },
    {
      "cell_type": "markdown",
      "source": [
        "**15. Write a code to create a tuple containing three different fruits and check if \"kiwi\" is in it.**"
      ],
      "metadata": {
        "id": "1D8QVNo-_kIt"
      }
    },
    {
      "cell_type": "code",
      "source": [
        "fruits_tuple = (\"apple\", \"banana\", \"orange\")\n",
        "if \"kiwi\" in fruits_tuple:\n",
        "    print(\"Kiwi is in the tuple.\")\n",
        "else:\n",
        "    print(\"Kiwi is not in the tuple.\")"
      ],
      "metadata": {
        "colab": {
          "base_uri": "https://localhost:8080/"
        },
        "id": "A0YF0cql_f0-",
        "outputId": "8245416a-a6d7-4f72-d61f-527e1500eee3"
      },
      "execution_count": 21,
      "outputs": [
        {
          "output_type": "stream",
          "name": "stdout",
          "text": [
            "Kiwi is not in the tuple.\n"
          ]
        }
      ]
    },
    {
      "cell_type": "markdown",
      "source": [
        "**16. Write a code to create a set with the elements 'a', 'b', 'c' and print it.**"
      ],
      "metadata": {
        "id": "soLbUdo-_rX9"
      }
    },
    {
      "cell_type": "code",
      "source": [
        "my_set = {'a', 'b', 'c'}\n",
        "print(my_set)"
      ],
      "metadata": {
        "colab": {
          "base_uri": "https://localhost:8080/"
        },
        "id": "0FctxP_1_oTc",
        "outputId": "f6bc1939-f640-4c50-d06f-0b1828278e3e"
      },
      "execution_count": 22,
      "outputs": [
        {
          "output_type": "stream",
          "name": "stdout",
          "text": [
            "{'a', 'c', 'b'}\n"
          ]
        }
      ]
    },
    {
      "cell_type": "markdown",
      "source": [
        "**17. Write a code to clear all elements from the set {1, 2, 3, 4, 5}.**"
      ],
      "metadata": {
        "id": "fnEuKr0x_zhY"
      }
    },
    {
      "cell_type": "code",
      "source": [
        "my_set = {1, 2, 3, 4, 5}\n",
        "my_set.clear()\n",
        "print(my_set)"
      ],
      "metadata": {
        "colab": {
          "base_uri": "https://localhost:8080/"
        },
        "id": "bseb6ipy_wJV",
        "outputId": "50466c93-1b8f-41e9-de2b-06fad92ba4db"
      },
      "execution_count": 23,
      "outputs": [
        {
          "output_type": "stream",
          "name": "stdout",
          "text": [
            "set()\n"
          ]
        }
      ]
    },
    {
      "cell_type": "markdown",
      "source": [
        "**18. Write a code to remove the element 4 from the set {1, 2, 3, 4}.**"
      ],
      "metadata": {
        "id": "q5Nt2i4U_9Yh"
      }
    },
    {
      "cell_type": "code",
      "source": [
        "my_set = {1, 2, 3, 4}\n",
        "my_set.remove(4)\n",
        "print(my_set)"
      ],
      "metadata": {
        "colab": {
          "base_uri": "https://localhost:8080/"
        },
        "id": "kkJkE48H_3XZ",
        "outputId": "27c5a839-5f68-49f6-993f-15e0e4f7890a"
      },
      "execution_count": 25,
      "outputs": [
        {
          "output_type": "stream",
          "name": "stdout",
          "text": [
            "{1, 2, 3}\n"
          ]
        }
      ]
    },
    {
      "cell_type": "markdown",
      "source": [
        "**19. Write a code to find the union of two sets {1, 2, 3} and {3, 4, 5}.**"
      ],
      "metadata": {
        "id": "HB4lR_lGAFaG"
      }
    },
    {
      "cell_type": "code",
      "source": [
        "set1 = {1, 2, 3}\n",
        "set2 = {3, 4, 5}\n",
        "union_set = set1.union(set2)\n",
        "print(union_set)"
      ],
      "metadata": {
        "colab": {
          "base_uri": "https://localhost:8080/"
        },
        "id": "hMoOoFKhAAlb",
        "outputId": "3c91b849-491c-4b81-d7fc-0f24b9ffe636"
      },
      "execution_count": 26,
      "outputs": [
        {
          "output_type": "stream",
          "name": "stdout",
          "text": [
            "{1, 2, 3, 4, 5}\n"
          ]
        }
      ]
    },
    {
      "cell_type": "markdown",
      "source": [
        "**20. Write a code to find the intersection of two sets {1, 2, 3} and {2, 3, 4}.**"
      ],
      "metadata": {
        "id": "VGaw0WXJAMt0"
      }
    },
    {
      "cell_type": "code",
      "source": [
        "set1 = {1, 2, 3}\n",
        "set2 = {2, 3, 4}\n",
        "intersection_set = set1.intersection(set2)\n",
        "print(intersection_set)"
      ],
      "metadata": {
        "colab": {
          "base_uri": "https://localhost:8080/"
        },
        "id": "dpLG0hHGAJ68",
        "outputId": "da0ae28f-b16e-424d-b4cb-83cacf0de690"
      },
      "execution_count": 27,
      "outputs": [
        {
          "output_type": "stream",
          "name": "stdout",
          "text": [
            "{2, 3}\n"
          ]
        }
      ]
    },
    {
      "cell_type": "markdown",
      "source": [
        "**21. Write a code to create a dictionary with the keys \"name\", \"age\", and \"city\", and print it.**"
      ],
      "metadata": {
        "id": "5GMXmmlhATUa"
      }
    },
    {
      "cell_type": "code",
      "source": [
        "my_dict = {\"name\": \"Vikash\", \"age\": 22, \"city\": \"Bangalore\"}\n",
        "print(my_dict)"
      ],
      "metadata": {
        "colab": {
          "base_uri": "https://localhost:8080/"
        },
        "id": "1g-19PPBAP_i",
        "outputId": "f523c4a3-4ca4-4a38-ed97-d6cc4cde875d"
      },
      "execution_count": 40,
      "outputs": [
        {
          "output_type": "stream",
          "name": "stdout",
          "text": [
            "{'name': 'Vikash', 'age': 22, 'city': 'Bangalore'}\n"
          ]
        }
      ]
    },
    {
      "cell_type": "markdown",
      "source": [
        "**22. Write a code to add a new key-value pair \"country\": \"USA\" to the dictionary {'name': 'John', 'age': 25}.**"
      ],
      "metadata": {
        "id": "paeBGjBDAaFM"
      }
    },
    {
      "cell_type": "code",
      "source": [
        "my_dict = {'name': 'John', 'age': 25}\n",
        "my_dict[\"country\"] = \"USA\"\n",
        "print(my_dict)"
      ],
      "metadata": {
        "colab": {
          "base_uri": "https://localhost:8080/"
        },
        "id": "3MgKHiiFAWsJ",
        "outputId": "7be7d0ae-c94e-43e5-8866-340b47aac61e"
      },
      "execution_count": 29,
      "outputs": [
        {
          "output_type": "stream",
          "name": "stdout",
          "text": [
            "{'name': 'John', 'age': 25, 'country': 'USA'}\n"
          ]
        }
      ]
    },
    {
      "cell_type": "markdown",
      "source": [
        "**23. Write a code to access the value associated with the key \"name\" in the dictionary {'name': 'Alice', 'age': 30}.**"
      ],
      "metadata": {
        "id": "YhJfEu0OAj8m"
      }
    },
    {
      "cell_type": "code",
      "source": [
        "my_dict = {'name': 'Alice', 'age': 30}\n",
        "name_value = my_dict[\"name\"]\n",
        "print(name_value)"
      ],
      "metadata": {
        "colab": {
          "base_uri": "https://localhost:8080/"
        },
        "id": "_WOZYzaQAhPJ",
        "outputId": "4d47304c-cc18-48c2-ad9a-b1899ae9d6a6"
      },
      "execution_count": 30,
      "outputs": [
        {
          "output_type": "stream",
          "name": "stdout",
          "text": [
            "Alice\n"
          ]
        }
      ]
    },
    {
      "cell_type": "markdown",
      "source": [
        "**24. Write a code to remove the key \"age\" from the dictionary {'name': 'Bob', 'age': 22, 'city': 'New York'}.**"
      ],
      "metadata": {
        "id": "a-sasW7uArxs"
      }
    },
    {
      "cell_type": "code",
      "source": [
        "my_dict = {'name': 'Bob', 'age': 22, 'city': 'New York'}\n",
        "del my_dict[\"age\"]\n",
        "print(my_dict)"
      ],
      "metadata": {
        "colab": {
          "base_uri": "https://localhost:8080/"
        },
        "id": "EWXOJ0ccAoAt",
        "outputId": "21156036-ef10-40d2-c97c-adc3738d570c"
      },
      "execution_count": 31,
      "outputs": [
        {
          "output_type": "stream",
          "name": "stdout",
          "text": [
            "{'name': 'Bob', 'city': 'New York'}\n"
          ]
        }
      ]
    },
    {
      "cell_type": "markdown",
      "source": [
        "**25. Write a code to check if the key \"city\" exists in the dictionary {'name': 'Alice', 'city': 'Paris'}.**"
      ],
      "metadata": {
        "id": "jpKUtIW6AzPS"
      }
    },
    {
      "cell_type": "code",
      "source": [
        "my_dict = {'name': 'Alice', 'city': 'Paris'}\n",
        "if \"city\" in my_dict:\n",
        "    print(\"The key 'city' exists in the dictionary.\")\n",
        "else:\n",
        "    print(\"The key 'city' does not exist in the dictionary.\")"
      ],
      "metadata": {
        "colab": {
          "base_uri": "https://localhost:8080/"
        },
        "id": "QA7nQ47cAv2I",
        "outputId": "6c14f3c9-b0c3-4c07-e60b-e661f08d24c7"
      },
      "execution_count": 32,
      "outputs": [
        {
          "output_type": "stream",
          "name": "stdout",
          "text": [
            "The key 'city' exists in the dictionary.\n"
          ]
        }
      ]
    },
    {
      "cell_type": "markdown",
      "source": [
        "**26. Write a code to create a list, a tuple, and a dictionary, and print them all.**"
      ],
      "metadata": {
        "id": "3O89VdfDA57G"
      }
    },
    {
      "cell_type": "code",
      "source": [
        "my_list = [1, 2, \"hello\"]\n",
        "my_tuple = (10, 20, 30)\n",
        "my_dict = {\"name\": \"Eve\", \"id\": 123}\n",
        "\n",
        "print(\"List:\", my_list)\n",
        "print(\"Tuple:\", my_tuple)\n",
        "print(\"Dictionary:\", my_dict)"
      ],
      "metadata": {
        "colab": {
          "base_uri": "https://localhost:8080/"
        },
        "id": "HyayJ6sbA2ww",
        "outputId": "b97a5f1e-10a0-48c6-f63b-fb6d3d389d12"
      },
      "execution_count": 33,
      "outputs": [
        {
          "output_type": "stream",
          "name": "stdout",
          "text": [
            "List: [1, 2, 'hello']\n",
            "Tuple: (10, 20, 30)\n",
            "Dictionary: {'name': 'Eve', 'id': 123}\n"
          ]
        }
      ]
    },
    {
      "cell_type": "markdown",
      "source": [
        "**27. Write a code to create a list of 5 random numbers between 1 and 100, sort it in ascending order, and print the\n",
        "result.(replaced)**"
      ],
      "metadata": {
        "id": "ZRYLuIliBAKv"
      }
    },
    {
      "cell_type": "code",
      "source": [
        "import random\n",
        "\n",
        "random_numbers = [random.randint(1, 100) for i in range(5)]\n",
        "random_numbers.sort()\n",
        "print(random_numbers)"
      ],
      "metadata": {
        "colab": {
          "base_uri": "https://localhost:8080/"
        },
        "id": "kwZ56cXRA9fw",
        "outputId": "7388b0d8-dfb1-4e4c-f227-555a13eaa73b"
      },
      "execution_count": 41,
      "outputs": [
        {
          "output_type": "stream",
          "name": "stdout",
          "text": [
            "[6, 11, 45, 71, 78]\n"
          ]
        }
      ]
    },
    {
      "cell_type": "markdown",
      "source": [
        "**28. Write a code to create a list with strings and print the element at the third index.**"
      ],
      "metadata": {
        "id": "PrUIqG19BGIs"
      }
    },
    {
      "cell_type": "code",
      "source": [
        "string_list = [\"apple\", \"banana\", \"grapes\", \"lichi\", \"brinjal\"]\n",
        "third_index_element = string_list[3]\n",
        "print(third_index_element)"
      ],
      "metadata": {
        "colab": {
          "base_uri": "https://localhost:8080/"
        },
        "id": "Tda2LX4wBDLe",
        "outputId": "079debef-e492-435a-fbd3-2c9d750cbd75"
      },
      "execution_count": 42,
      "outputs": [
        {
          "output_type": "stream",
          "name": "stdout",
          "text": [
            "lichi\n"
          ]
        }
      ]
    },
    {
      "cell_type": "markdown",
      "source": [
        "**29. Write a code to combine two dictionaries into one and print the result.**"
      ],
      "metadata": {
        "id": "3Jh8Uy9bBOcA"
      }
    },
    {
      "cell_type": "code",
      "source": [
        "dict1 = {\"a\": 1, \"b\": 2}\n",
        "dict2 = {\"c\": 3, \"d\": 4}\n",
        "c=dict1.copy()\n",
        "c.update(dict2)\n",
        "print(c)\n",
        "\n",
        "# combined= {**dict1, **dict2} #this can also be used"
      ],
      "metadata": {
        "colab": {
          "base_uri": "https://localhost:8080/"
        },
        "id": "I1TUWP4-BKsJ",
        "outputId": "9db4a4e0-5c6b-4de1-bb83-54a23f854d23"
      },
      "execution_count": 45,
      "outputs": [
        {
          "output_type": "stream",
          "name": "stdout",
          "text": [
            "{'a': 1, 'b': 2, 'c': 3, 'd': 4}\n"
          ]
        }
      ]
    },
    {
      "cell_type": "markdown",
      "source": [
        "**30. Write a code to convert a list of strings into a set.**"
      ],
      "metadata": {
        "id": "l_WZsY0bBYFn"
      }
    },
    {
      "cell_type": "code",
      "source": [
        "string_list = [\"apple\", \"banana\", \"apple\", \"orange\", \"banana\"]\n",
        "string_set = set(string_list)\n",
        "print(string_set)"
      ],
      "metadata": {
        "colab": {
          "base_uri": "https://localhost:8080/"
        },
        "id": "BQ7I1bDNBTmN",
        "outputId": "9eda6307-c31d-41da-cf91-c7e5d0abc641"
      },
      "execution_count": 37,
      "outputs": [
        {
          "output_type": "stream",
          "name": "stdout",
          "text": [
            "{'orange', 'apple', 'banana'}\n"
          ]
        }
      ]
    },
    {
      "cell_type": "code",
      "source": [],
      "metadata": {
        "id": "piuVMt-kBbnb"
      },
      "execution_count": null,
      "outputs": []
    }
  ]
}