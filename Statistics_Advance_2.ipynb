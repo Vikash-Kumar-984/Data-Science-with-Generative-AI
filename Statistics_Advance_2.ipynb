{
  "nbformat": 4,
  "nbformat_minor": 0,
  "metadata": {
    "colab": {
      "provenance": []
    },
    "kernelspec": {
      "name": "python3",
      "display_name": "Python 3"
    },
    "language_info": {
      "name": "python"
    }
  },
  "cells": [
    {
      "cell_type": "markdown",
      "source": [
        "## **Statistics Advanced - 2 | Vikash Kumar | wiryvikash15@gmail.com**"
      ],
      "metadata": {
        "id": "uvkAEGN7wsmD"
      }
    },
    {
      "cell_type": "markdown",
      "source": [
        "**Question 1: What is hypothesis testing in statistics?**\n",
        "\n",
        "Hypothesis testing is a statistical method used to make decisions about a population parameter based on sample data. It involves formulating two competing statements (hypotheses) and using sample evidence to decide which one is more likely to be true.\n",
        "\n",
        "The process includes:\n",
        "\n",
        "**Formulating hypotheses:** Null hypothesis (H₀) and alternative hypothesis (H₁).\n",
        "\n",
        "**Choosing a significance level (α):** The probability of rejecting the null hypothesis when it is true.\n",
        "\n",
        "**Selecting a test statistic:** e.g., Z, t, χ², or F.\n",
        "\n",
        "**Calculating the test statistic** from the sample data.\n",
        "\n",
        "**Making a decision:** Compare the test statistic to the critical value or use the p-value to decide whether to reject H₀.\n",
        "\n",
        "Hypothesis testing is used to validate research claims, compare group means, or test relationships between variables."
      ],
      "metadata": {
        "id": "O-nfj6hlD--b"
      }
    },
    {
      "cell_type": "markdown",
      "source": [
        "**Question 2: What is the null hypothesis, and how does it differ from the alternative hypothesis?**\n",
        "\n",
        "\n",
        "- Null Hypothesis (H₀): A statement that there is no effect, no difference, or no relationship in the population. It assumes the status quo is true.\n",
        "Example: “The mean height of students in a school is 160 cm.”\n",
        "\n",
        "- Alternative Hypothesis (H₁ or Ha): A statement that contradicts the null hypothesis, claiming there is an effect, difference, or relationship.\n",
        "Example: “The mean height of students in the school is not 160 cm.”\n",
        "\n",
        "**Difference:**\n",
        "\n",
        "- H₀ represents the default assumption; H₁ represents the claim to be tested.\n",
        "\n",
        "- Hypothesis testing aims to determine whether there is enough evidence to reject H₀ in favor of H₁."
      ],
      "metadata": {
        "id": "30j2p8hLEIhm"
      }
    },
    {
      "cell_type": "markdown",
      "source": [
        "**Question 3: Explain the significance level in hypothesis testing and its role in deciding the outcome of a test.**\n",
        "\n",
        "The significance level (α) is the threshold probability for rejecting the null hypothesis. Common values are 0.05, 0.01, or 0.10.\n",
        "\n",
        "Role in decision-making:\n",
        "\n",
        "- If the p-value ≤ α, reject the null hypothesis (evidence supports H₁).\n",
        "\n",
        "- If the p-value > α, fail to reject the null hypothesis (insufficient evidence against H₀).\n",
        "\n",
        "- Example: At α = 0.05, we allow a 5% chance of making a Type I error (rejecting H₀ when it is actually true)."
      ],
      "metadata": {
        "id": "NwaGLszyENQL"
      }
    },
    {
      "cell_type": "markdown",
      "source": [
        "**Question 4: What are Type I and Type II errors? Give examples of each.**\n",
        "\n",
        "\n",
        "- Type I Error (False Positive): Rejecting H₀ when it is true.\n",
        "Example: Concluding a new drug works when it actually doesn’t.\n",
        "\n",
        "- Type II Error (False Negative): Failing to reject H₀ when H₁ is true.\n",
        "Example: Concluding a new drug does not work when it actually does.\n",
        "\n",
        "| Error Type | Decision on H₀    | Reality  | Example                                       |\n",
        "| ---------- | ----------------- | -------- | --------------------------------------------- |\n",
        "| Type I     | Reject H₀         | H₀ true  | Wrongly approving an ineffective medicine     |\n",
        "| Type II    | Fail to reject H₀ | H₀ false | Missing the approval of an effective medicine |\n"
      ],
      "metadata": {
        "id": "KWoVKbq2EXnd"
      }
    },
    {
      "cell_type": "markdown",
      "source": [
        "**Question 5: What is the difference between a Z-test and a T-test? Explain when to use each.**\n",
        "\n",
        "\n",
        "**Z-test:**\n",
        "\n",
        "- Used when population standard deviation (σ) is known.\n",
        "\n",
        "- Suitable for large samples (n ≥ 30).\n",
        "\n",
        "- Assumes data follows a normal distribution.\n",
        "\n",
        "**T-test:**\n",
        "\n",
        "- Used when population standard deviation is unknown.\n",
        "\n",
        "- Suitable for small samples (n < 30).\n",
        "\n",
        "- Uses the sample standard deviation (s) instead of σ.\n",
        "\n",
        "**When to use:**\n",
        "\n",
        "- Use Z-test for large samples or known σ.\n",
        "\n",
        "- Use T-test for small samples with unknown σ."
      ],
      "metadata": {
        "id": "KvdIgQn9EfIs"
      }
    },
    {
      "cell_type": "markdown",
      "source": [
        "**Question 6: Python program to generate a binomial distribution (n=10, p=0.5) and plot histogram**\n"
      ],
      "metadata": {
        "id": "qmhn0rEYEi5B"
      }
    },
    {
      "cell_type": "code",
      "source": [
        "import numpy as np\n",
        "import matplotlib.pyplot as plt\n",
        "\n",
        "n = 10\n",
        "p = 0.5\n",
        "size = 1000\n",
        "\n",
        "# Generate binomial data\n",
        "data = np.random.binomial(n, p, size)\n",
        "\n",
        "# Plot histogram\n",
        "plt.hist(data, bins=range(n+2), edgecolor='black', align='left')\n",
        "plt.xlabel('Number of Successes')\n",
        "plt.ylabel('Frequency')\n",
        "plt.title('Binomial Distribution (n=10, p=0.5)')\n",
        "plt.show()\n"
      ],
      "metadata": {
        "colab": {
          "base_uri": "https://localhost:8080/",
          "height": 472
        },
        "id": "UWEX88nZD8ll",
        "outputId": "d772d887-7a1d-4dde-d14c-23304f09c9fd"
      },
      "execution_count": null,
      "outputs": [
        {
          "output_type": "display_data",
          "data": {
            "text/plain": [
              "<Figure size 640x480 with 1 Axes>"
            ],
            "image/png": "[encoded data removed]"
          },
          "metadata": {}
        }
      ]
    },
    {
      "cell_type": "markdown",
      "source": [
        "**Question 7: Hypothesis testing using Z-statistics for given dataset\n",
        "python**\n",
        "\n",
        "**Show the Python code and interpret the results.\n",
        "sample_data = [49.1, 50.2, 51.0, 48.7, 50.5, 49.8, 50.3, 50.7, 50.2, 49.6,\n",
        "50.1, 49.9, 50.8, 50.4, 48.9, 50.6, 50.0, 49.7, 50.2, 49.5,\n",
        "50.1, 50.3, 50.4, 50.5, 50.0, 50.7, 49.3, 49.8, 50.2, 50.9,\n",
        "50.3, 50.4, 50.0, 49.7, 50.5, 49.9]**\n"
      ],
      "metadata": {
        "id": "NuECzPgxErQ4"
      }
    },
    {
      "cell_type": "code",
      "source": [
        "import numpy as np\n",
        "from scipy.stats import norm\n",
        "\n",
        "sample_data = [49.1, 50.2, 51.0, 48.7, 50.5, 49.8, 50.3, 50.7, 50.2, 49.6,\n",
        "               50.1, 49.9, 50.8, 50.4, 48.9, 50.6, 50.0, 49.7, 50.2, 49.5,\n",
        "               50.1, 50.3, 50.4, 50.5, 50.0, 50.7, 49.3, 49.8, 50.2, 50.9,\n",
        "               50.3, 50.4, 50.0, 49.7, 50.5, 49.9]\n",
        "\n",
        "mean_sample = np.mean(sample_data)\n",
        "std_pop = 1\n",
        "n = len(sample_data)\n",
        "mu_0 = 50\n",
        "\n",
        "# Z-test calculation\n",
        "z = (mean_sample - mu_0) / (std_pop / np.sqrt(n))\n",
        "p_value = 2 * (1 - norm.cdf(abs(z)))\n",
        "\n",
        "print(f\"Sample Mean: {mean_sample}\")\n",
        "print(f\"Z-score: {z}\")\n",
        "print(f\"P-value: {p_value}\")\n",
        "\n",
        "if p_value < 0.05:\n",
        "    print(\"Reject the null hypothesis.\")\n",
        "else:\n",
        "    print(\"Fail to reject the null hypothesis.\")\n"
      ],
      "metadata": {
        "colab": {
          "base_uri": "https://localhost:8080/"
        },
        "id": "zQCMbuuOEnPG",
        "outputId": "32774468-7bc4-4db3-f447-c4195a0d83e4"
      },
      "execution_count": null,
      "outputs": [
        {
          "output_type": "stream",
          "name": "stdout",
          "text": [
            "Sample Mean: 50.08888888888889\n",
            "Z-score: 0.5333333333333314\n",
            "P-value: 0.5938028572077036\n",
            "Fail to reject the null hypothesis.\n"
          ]
        }
      ]
    },
    {
      "cell_type": "markdown",
      "source": [
        "**Question 8: Write a Python script to simulate data from a normal distribution and calculate the 95% confidence interval for its mean. Plot the data using Matplotlib.**"
      ],
      "metadata": {
        "id": "Uyb-_9hkEwPK"
      }
    },
    {
      "cell_type": "code",
      "source": [
        "import numpy as np\n",
        "import matplotlib.pyplot as plt\n",
        "import scipy.stats as stats\n",
        "\n",
        "data = np.random.normal(loc=50, scale=5, size=1000)\n",
        "\n",
        "mean = np.mean(data)\n",
        "sem = stats.sem(data)\n",
        "ci = stats.t.interval(0.95, len(data)-1, loc=mean, scale=sem)\n",
        "\n",
        "print(f\"Mean: {mean}\")\n",
        "print(f\"95% Confidence Interval: {ci}\")\n",
        "\n",
        "# Plot\n",
        "plt.hist(data, bins=30, alpha=0.7, color='skyblue', edgecolor='black')\n",
        "plt.axvline(mean, color='red', linestyle='dashed', linewidth=2, label='Mean')\n",
        "plt.legend()\n",
        "plt.title('Normal Distribution with 95% CI')\n",
        "plt.show()\n"
      ],
      "metadata": {
        "colab": {
          "base_uri": "https://localhost:8080/",
          "height": 487
        },
        "id": "UV0TIHWSEtkb",
        "outputId": "41e047ae-50db-4fce-b5d6-dad530c39bbc"
      },
      "execution_count": null,
      "outputs": [
        {
          "output_type": "stream",
          "name": "stdout",
          "text": [
            "Mean: 49.81662099611661\n",
            "95% Confidence Interval: (np.float64(49.52241157910794), np.float64(50.110830413125285))\n"
          ]
        },
        {
          "output_type": "display_data",
          "data": {
            "text/plain": [
              "<Figure size 640x480 with 1 Axes>"
            ],
            "image/png": "[encoded data removed]"
          },
          "metadata": {}
        }
      ]
    },
    {
      "cell_type": "markdown",
      "source": [
        "**Question 9: Write a Python function to calculate the Z-scores from a dataset and visualize the standardized data using a histogram. Explain what the Z-scores represent in terms of standard deviations from the mean.**\n",
        "\n",
        "\n",
        "-  Z-scores represent how many standard deviations a data point is from the mean.\n",
        "\n",
        "- Z = 0 means the value is exactly at the mean.\n",
        "\n",
        "- Positive Z means above the mean, negative Z means below the mean."
      ],
      "metadata": {
        "id": "852ru0Q2E0rW"
      }
    },
    {
      "cell_type": "code",
      "source": [
        "import numpy as np\n",
        "import matplotlib.pyplot as plt\n",
        "from scipy.stats import zscore\n",
        "\n",
        "data = np.random.normal(50, 5, 100)\n",
        "\n",
        "z_scores = zscore(data)\n",
        "\n",
        "# Plot histogram\n",
        "plt.hist(z_scores, bins=20, edgecolor='black', alpha=0.7)\n",
        "plt.xlabel('Z-score')\n",
        "plt.ylabel('Frequency')\n",
        "plt.title('Z-score Distribution')\n",
        "plt.show()\n",
        "\n",
        "\n"
      ],
      "metadata": {
        "colab": {
          "base_uri": "https://localhost:8080/",
          "height": 472
        },
        "id": "xRpCWFBmEx6N",
        "outputId": "7dd2677d-4199-48fd-d09b-b8112e068234"
      },
      "execution_count": null,
      "outputs": [
        {
          "output_type": "display_data",
          "data": {
            "text/plain": [
              "<Figure size 640x480 with 1 Axes>"
            ],
            "image/png": "[encoded data removed]"
          },
          "metadata": {}
        }
      ]
    },
    {
      "cell_type": "code",
      "source": [],
      "metadata": {
        "id": "V8UJk8n5E14J"
      },
      "execution_count": null,
      "outputs": []
    }
  ]
}