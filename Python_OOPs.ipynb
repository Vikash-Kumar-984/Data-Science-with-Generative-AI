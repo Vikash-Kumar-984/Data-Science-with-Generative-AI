{
  "nbformat": 4,
  "nbformat_minor": 0,
  "metadata": {
    "colab": {
      "provenance": []
    },
    "kernelspec": {
      "name": "python3",
      "display_name": "Python 3"
    },
    "language_info": {
      "name": "python"
    }
  },
  "cells": [
    {
      "cell_type": "markdown",
      "source": [
        "# **OOPs Theory Questions & Answers | Vikash Kumar | wiryvikash15@gmail.com**"
      ],
      "metadata": {
        "id": "mm_Faz2QkE85"
      }
    },
    {
      "cell_type": "markdown",
      "source": [
        "**1. What is Object-Oriented Programming (OOP)?**\n",
        "\n",
        "=> Object-Oriented Programming (OOP) is a programming paradigm that uses objects and classes to structure code. Each object represents a real-world entity with attributes (data/state) and methods (behavior).\n",
        "OOP provides four key principles:\n",
        "\n",
        "  * Encapsulation – hides internal state; exposes only necessary parts.\n",
        "\n",
        "  * Abstraction – hides complexity; shows only essential features.\n",
        "\n",
        "  * Inheritance – allows a class to inherit features from another.\n",
        "\n",
        "  * Polymorphism – enables using different objects interchangeably.\n",
        "\n",
        "\n",
        "**2. What is a class in OOP?**\n",
        "\n",
        "=> A class is a blueprint or template for creating objects. It defines the structure and behavior that the created objects (instances) will have.\n"
      ],
      "metadata": {
        "id": "13dDJyGjkWwZ"
      }
    },
    {
      "cell_type": "code",
      "execution_count": 25,
      "metadata": {
        "id": "7jsckx4qj0VB",
        "colab": {
          "base_uri": "https://localhost:8080/"
        },
        "outputId": "2d1a356d-f4b7-413e-88b2-e209588b300d"
      },
      "outputs": [
        {
          "output_type": "stream",
          "name": "stdout",
          "text": [
            "Car is driving\n"
          ]
        }
      ],
      "source": [
        "class Car:\n",
        "    wheels = 4\n",
        "    def drive(self):\n",
        "        print(\"Car is driving\")\n",
        "\n",
        "c = Car()\n",
        "c.drive()"
      ]
    },
    {
      "cell_type": "markdown",
      "source": [
        "Here, Car is a class. Any Car object created from it will have a brand and a drive() method."
      ],
      "metadata": {
        "id": "QZ_7nm_lk6Qt"
      }
    },
    {
      "cell_type": "markdown",
      "source": [
        "**3. What is an object in OOP?**\n",
        "\n",
        "=> An object is an instance of a class. When a class is instantiated, memory is allocated for its attributes, and its methods can be used."
      ],
      "metadata": {
        "id": "bFNnPaF4k9lK"
      }
    },
    {
      "cell_type": "code",
      "source": [
        "class Pen:\n",
        "    def write(self):\n",
        "        print(\"Writing...\")\n",
        "\n",
        "p = Pen()\n",
        "p.write()\n"
      ],
      "metadata": {
        "colab": {
          "base_uri": "https://localhost:8080/"
        },
        "id": "7u0Urwyvk2z0",
        "outputId": "a3dadf6a-33c9-4de3-b7df-cfb877a081be"
      },
      "execution_count": 28,
      "outputs": [
        {
          "output_type": "stream",
          "name": "stdout",
          "text": [
            "Writing...\n"
          ]
        }
      ]
    },
    {
      "cell_type": "markdown",
      "source": [
        "In this case, car1 is an object of the Car class.\n",
        "\n",
        "\n",
        "\n",
        "**4. What is the difference between abstraction and encapsulation?**\n",
        "\n",
        "=> **Abstraction:** Focuses on hiding the complexity and showing only the relevant information. Achieved using abstract classes or interfaces.\n",
        "\n",
        "**Encapsulation:** Focuses on binding data and code together and restricting direct access to some components using access modifiers (like private _ or __)."
      ],
      "metadata": {
        "id": "XvC0WErilHE1"
      }
    },
    {
      "cell_type": "code",
      "source": [
        "class Bank:\n",
        "    def __init__(self):\n",
        "        self.__balance = 0\n",
        "\n",
        "    def deposit(self, amount):\n",
        "        self.__balance += amount\n",
        "\n",
        "    def get_balance(self):\n",
        "        return self.__balance\n",
        "\n",
        "b = Bank()\n",
        "b.deposit(100)\n",
        "print(b.get_balance())\n"
      ],
      "metadata": {
        "id": "SONzPcUHlEL4",
        "colab": {
          "base_uri": "https://localhost:8080/"
        },
        "outputId": "3c163ee0-7341-4cfd-ec5c-a19ee98c90b7"
      },
      "execution_count": 4,
      "outputs": [
        {
          "output_type": "stream",
          "name": "stdout",
          "text": [
            "100\n"
          ]
        }
      ]
    },
    {
      "cell_type": "markdown",
      "source": [
        "**5. What are dunder methods in Python?**\n",
        "\n",
        "=> Dunder methods (also called magic methods) are special methods in Python with double underscores before and after their names (e.g., __init__, __str__, __add__).\n",
        "\n",
        "They allow operator overloading, object initialization, and custom behavior for built-in functions.\n"
      ],
      "metadata": {
        "id": "mpGTJbjrlVNG"
      }
    },
    {
      "cell_type": "code",
      "source": [
        "class Person:\n",
        "    def __init__(self, name):\n",
        "        self.name = name\n",
        "    def __str__(self):\n",
        "        return f\"Name: {self.name}\"\n",
        "\n",
        "p = Person(\"Vikash\")\n",
        "print(p)\n"
      ],
      "metadata": {
        "id": "ndzVONRHlSHg",
        "colab": {
          "base_uri": "https://localhost:8080/"
        },
        "outputId": "6eb30705-1dcf-4a2e-bb99-115a8e31ee50"
      },
      "execution_count": 5,
      "outputs": [
        {
          "output_type": "stream",
          "name": "stdout",
          "text": [
            "Name: Vikash\n"
          ]
        }
      ]
    },
    {
      "cell_type": "markdown",
      "source": [
        "**6. Explain the concept of inheritance in OOP?**\n",
        "\n",
        "=> Inheritance allows a class (child) to acquire the attributes and methods of another class (parent). It enables code reuse and hierarchical relationships."
      ],
      "metadata": {
        "id": "hWpktuMXlgma"
      }
    },
    {
      "cell_type": "code",
      "source": [
        "class Animal:\n",
        "    def speak(self):\n",
        "        print(\"Animal speaks\")\n",
        "\n",
        "class Dog(Animal):\n",
        "    def speak(self):\n",
        "        print(\"Dog barks\")\n",
        "\n",
        "d = Dog()\n",
        "d.speak()"
      ],
      "metadata": {
        "id": "7RhvpUhvlcda",
        "colab": {
          "base_uri": "https://localhost:8080/"
        },
        "outputId": "eb95d32d-d6f1-4286-e415-f070901d2d18"
      },
      "execution_count": 6,
      "outputs": [
        {
          "output_type": "stream",
          "name": "stdout",
          "text": [
            "Dog barks\n"
          ]
        }
      ]
    },
    {
      "cell_type": "markdown",
      "source": [
        "**7. What is polymorphism in OOP?**\n",
        "\n",
        "=> Polymorphism allows methods to perform different functions based on the object invoking them."
      ],
      "metadata": {
        "id": "Ufa1rJ_1lxJn"
      }
    },
    {
      "cell_type": "code",
      "source": [
        "class Bird:\n",
        "    def fly(self):\n",
        "        print(\"Bird flies\")\n",
        "\n",
        "class Plane:\n",
        "    def fly(self):\n",
        "        print(\"Plane flies\")\n",
        "\n",
        "def test_fly(obj):\n",
        "    obj.fly()\n",
        "\n",
        "test_fly(Bird())\n",
        "test_fly(Plane())\n"
      ],
      "metadata": {
        "colab": {
          "base_uri": "https://localhost:8080/"
        },
        "id": "4VpWlvgmlmB5",
        "outputId": "a5af79f8-5984-4256-a100-75c88dbde4ad"
      },
      "execution_count": 7,
      "outputs": [
        {
          "output_type": "stream",
          "name": "stdout",
          "text": [
            "Bird flies\n",
            "Plane flies\n"
          ]
        }
      ]
    },
    {
      "cell_type": "markdown",
      "source": [
        "**8. How is encapsulation achieved in Python?**\n",
        "\n",
        "=> By using private variables (with __) and providing public methods to access them."
      ],
      "metadata": {
        "id": "c1r9LjmlrTLf"
      }
    },
    {
      "cell_type": "code",
      "source": [
        "class Student:\n",
        "    def __init__(self):\n",
        "        self.__marks = 0\n",
        "\n",
        "    def set_marks(self, marks):\n",
        "        self.__marks = marks\n",
        "\n",
        "    def get_marks(self):\n",
        "        return self.__marks\n",
        "\n",
        "s = Student()\n",
        "s.set_marks(85)\n",
        "print(s.get_marks())\n"
      ],
      "metadata": {
        "id": "pmzu0RfUrHyw",
        "colab": {
          "base_uri": "https://localhost:8080/"
        },
        "outputId": "3fb8b840-fb91-44b2-ea1b-1afe9708ac9a"
      },
      "execution_count": 8,
      "outputs": [
        {
          "output_type": "stream",
          "name": "stdout",
          "text": [
            "85\n"
          ]
        }
      ]
    },
    {
      "cell_type": "markdown",
      "source": [
        "**9. What is a constructor in Python?**\n",
        "\n",
        "=> A constructor (__init__ method) initializes object attributes when the object is created."
      ],
      "metadata": {
        "id": "zI6cIaij5b01"
      }
    },
    {
      "cell_type": "code",
      "source": [
        "class User:\n",
        "    def __init__(self, name):\n",
        "        self.name = name\n",
        "\n",
        "u = User(\"Vikash\")\n",
        "print(u.name)\n"
      ],
      "metadata": {
        "colab": {
          "base_uri": "https://localhost:8080/"
        },
        "id": "_vfgpXKV5YUc",
        "outputId": "98fc5076-2f19-4ff8-9f98-1207c61e8c16"
      },
      "execution_count": 29,
      "outputs": [
        {
          "output_type": "stream",
          "name": "stdout",
          "text": [
            "Vikash\n"
          ]
        }
      ]
    },
    {
      "cell_type": "markdown",
      "source": [
        "\n",
        "\n",
        "**10.  What are class and static methods in Python?**\n",
        "\n",
        "=>  \n",
        "   *  @classmethod works with the class and not instances.\n",
        "\n",
        "   * @staticmethod doesn't access instance or class data.\n"
      ],
      "metadata": {
        "id": "ElQ1-b--rbT2"
      }
    },
    {
      "cell_type": "code",
      "source": [
        "class Example:\n",
        "    count = 0\n",
        "\n",
        "    @classmethod\n",
        "    def increment(cls):\n",
        "        cls.count += 1\n",
        "\n",
        "    @staticmethod\n",
        "    def greet():\n",
        "        print(\"Hello!\")\n",
        "\n",
        "Example.increment()\n",
        "print(Example.count)\n",
        "Example.greet()\n"
      ],
      "metadata": {
        "id": "fYLmmRU6rYqm",
        "colab": {
          "base_uri": "https://localhost:8080/"
        },
        "outputId": "8c4b4f4c-2d41-4505-900a-9ad197c7df13"
      },
      "execution_count": 10,
      "outputs": [
        {
          "output_type": "stream",
          "name": "stdout",
          "text": [
            "1\n",
            "Hello!\n"
          ]
        }
      ]
    },
    {
      "cell_type": "markdown",
      "source": [
        "**11. What is method overloading in Python?**\n",
        "\n",
        "=> Python does not support traditional overloading but can mimic it using default arguments.\n"
      ],
      "metadata": {
        "id": "FCVxDDMV5rwT"
      }
    },
    {
      "cell_type": "code",
      "source": [
        "class Test:\n",
        "    def show(self, a=None):\n",
        "        if a:\n",
        "            print(a)\n",
        "        else:\n",
        "            print(\"No argument\")\n",
        "\n",
        "t = Test()\n",
        "t.show()\n",
        "t.show(\"Hi\")\n"
      ],
      "metadata": {
        "colab": {
          "base_uri": "https://localhost:8080/"
        },
        "id": "ztGy0O-W5vbQ",
        "outputId": "bc9fdbe6-2f5b-4207-c642-65675727396c"
      },
      "execution_count": 11,
      "outputs": [
        {
          "output_type": "stream",
          "name": "stdout",
          "text": [
            "No argument\n",
            "Hi\n"
          ]
        }
      ]
    },
    {
      "cell_type": "markdown",
      "source": [
        "**12. What is method overriding in OOP?**\n",
        "\n",
        "=> When a child class provides a specific implementation of a method already defined in the parent class.\n"
      ],
      "metadata": {
        "id": "_LBNpJA3sCFP"
      }
    },
    {
      "cell_type": "code",
      "source": [
        "class Base:\n",
        "    def display(self):\n",
        "        print(\"Base class\")\n",
        "\n",
        "class Derived(Base):\n",
        "    def display(self):\n",
        "        print(\"Derived class\")\n",
        "\n",
        "d = Derived()\n",
        "d.display()\n"
      ],
      "metadata": {
        "colab": {
          "base_uri": "https://localhost:8080/"
        },
        "id": "Mb6runkB5zO4",
        "outputId": "5b51b528-0368-4144-d210-d7edcd5a05c3"
      },
      "execution_count": 12,
      "outputs": [
        {
          "output_type": "stream",
          "name": "stdout",
          "text": [
            "Derived class\n"
          ]
        }
      ]
    },
    {
      "cell_type": "markdown",
      "source": [
        "\n",
        "**13. What is a property decorator in Python?**\n",
        "\n",
        "=> Used to make methods act like attributes."
      ],
      "metadata": {
        "id": "dJawVMsG52xO"
      }
    },
    {
      "cell_type": "code",
      "source": [
        "class Product:\n",
        "    def __init__(self, price):\n",
        "        self._price = price\n",
        "\n",
        "    @property\n",
        "    def price(self):\n",
        "        return self._price\n",
        "\n",
        "item = Product(99)\n",
        "print(item.price)\n"
      ],
      "metadata": {
        "colab": {
          "base_uri": "https://localhost:8080/"
        },
        "id": "4q-oEarMr8L_",
        "outputId": "0faad395-9bdf-4d98-d14a-8201d59ae6fb"
      },
      "execution_count": 13,
      "outputs": [
        {
          "output_type": "stream",
          "name": "stdout",
          "text": [
            "99\n"
          ]
        }
      ]
    },
    {
      "cell_type": "markdown",
      "source": [
        "**14. Why is polymorphism important in OOP?**\n",
        "\n",
        "=> It enables flexibility and makes code extensible and easy to maintain.\n",
        "\n",
        "\n"
      ],
      "metadata": {
        "id": "PisaRy7zsh_C"
      }
    },
    {
      "cell_type": "code",
      "source": [
        "class Dog:\n",
        "    def speak(self):\n",
        "        print(\"Bark\")\n",
        "\n",
        "class Cat:\n",
        "    def speak(self):\n",
        "        print(\"Meow\")\n",
        "\n",
        "def animal_sound(animal):\n",
        "    animal.speak()\n",
        "\n",
        "animal_sound(Dog())\n",
        "animal_sound(Cat())\n"
      ],
      "metadata": {
        "colab": {
          "base_uri": "https://localhost:8080/"
        },
        "id": "dHLj1Ze_59Hx",
        "outputId": "c254c30d-dff0-4dcb-c49c-1c6085278243"
      },
      "execution_count": 14,
      "outputs": [
        {
          "output_type": "stream",
          "name": "stdout",
          "text": [
            "Bark\n",
            "Meow\n"
          ]
        }
      ]
    },
    {
      "cell_type": "markdown",
      "source": [
        "\n",
        "**15. What is an abstract class in Python?**\n",
        "\n",
        "=> An abstract class cannot be instantiated and may have abstract methods that must be implemented by subclasses."
      ],
      "metadata": {
        "id": "39koznGE6A2D"
      }
    },
    {
      "cell_type": "code",
      "source": [
        "from abc import ABC, abstractmethod\n",
        "\n",
        "class Shape(ABC):\n",
        "    @abstractmethod\n",
        "    def area(self):\n",
        "        pass\n",
        "\n",
        "class Circle(Shape):\n",
        "    def area(self):\n",
        "        return 3.14 * 5 * 5\n",
        "\n",
        "c = Circle()\n",
        "print(c.area())\n"
      ],
      "metadata": {
        "id": "70BqUg_lsOMX",
        "colab": {
          "base_uri": "https://localhost:8080/"
        },
        "outputId": "3eb1f014-913a-4610-df41-86d5f04aea47"
      },
      "execution_count": 15,
      "outputs": [
        {
          "output_type": "stream",
          "name": "stdout",
          "text": [
            "78.5\n"
          ]
        }
      ]
    },
    {
      "cell_type": "markdown",
      "source": [
        "**16. What are the advantages of OOP?**\n",
        "\n",
        "=> * Modularity: Code is organized by classes.\n",
        "\n",
        "  * Reusability: Inheritance lets you reuse code.\n",
        "\n",
        "  * Flexibility: Polymorphism allows flexible interfaces.\n",
        "\n",
        "  * Maintainability: Encapsulation keeps data safe."
      ],
      "metadata": {
        "id": "EHE-YGtc6Jcp"
      }
    },
    {
      "cell_type": "markdown",
      "source": [
        "**17. What is the difference between a class variable and an instance variable?**\n",
        "\n",
        "=> Class variables are associated with the class itself and are shared by all instances of that class, while instance variables are specific to each individual object (instance) of the class"
      ],
      "metadata": {
        "id": "hqSxx5Ah6d6b"
      }
    },
    {
      "cell_type": "code",
      "source": [
        "class Example:\n",
        "    class_var = \"I am shared\"\n",
        "\n",
        "    def __init__(self, name):\n",
        "        self.name = name  # instance variable\n",
        "\n",
        "e1 = Example(\"Vikash\")\n",
        "e2 = Example(\"Wiry\")\n",
        "\n",
        "print(e1.class_var)\n",
        "print(e2.name)\n"
      ],
      "metadata": {
        "id": "PwNVNwuFswTs",
        "colab": {
          "base_uri": "https://localhost:8080/"
        },
        "outputId": "f2c87505-5f6c-4ec6-db58-71a3467db971"
      },
      "execution_count": 30,
      "outputs": [
        {
          "output_type": "stream",
          "name": "stdout",
          "text": [
            "I am shared\n",
            "Wiry\n"
          ]
        }
      ]
    },
    {
      "cell_type": "markdown",
      "source": [
        "**18. What is multiple inheritance in Python?**\n",
        "\n",
        "=> It means a class can inherit from more than one parent class."
      ],
      "metadata": {
        "id": "hWqK4nFZ6sN-"
      }
    },
    {
      "cell_type": "code",
      "source": [
        "class A:\n",
        "    def feature(self):\n",
        "        print(\"Feature A\")\n",
        "\n",
        "class B:\n",
        "    def feature(self):\n",
        "        print(\"Feature B\")\n",
        "\n",
        "class C(A, B):\n",
        "    pass\n",
        "\n",
        "c = C()\n",
        "c.feature()  # due to MRO\n"
      ],
      "metadata": {
        "colab": {
          "base_uri": "https://localhost:8080/"
        },
        "id": "EIgEiHVv6oiF",
        "outputId": "8df2e67e-b076-4ea0-f2ff-e57e5f16239b"
      },
      "execution_count": 17,
      "outputs": [
        {
          "output_type": "stream",
          "name": "stdout",
          "text": [
            "Feature A\n"
          ]
        }
      ]
    },
    {
      "cell_type": "markdown",
      "source": [
        "**19. Explain the purpose of __str__ and __repr__ methods in Python.**\n",
        "\n",
        "=> In Python, __str__ and __repr__ are special methods (also known as \"dunder methods\" for \"double underscore\") used to define how an object is represented as a string. They serve different purposes:\n",
        "\n",
        "__str__(self):\n",
        "\n",
        "Purpose: Provides a user-friendly, readable, and informal string representation of an object.\n",
        "\n",
        "Usage: Intended for display to end-users, logging, or when you want a concise, human-understandable representation.\n",
        "\n",
        "Called by: str(), print(), and format().\n",
        "\n",
        "Example: For a Person object, __str__ might return \"John Doe (Age: 30)\".\n",
        "\n",
        "__repr__(self):\n",
        "\n",
        "Purpose: Provides an unambiguous, developer-friendly, and formal string representation of an object.\n",
        "\n",
        "Usage: Intended for debugging, development, and when you need a representation that can ideally be used to recreate the object (e.g., in eval()).\n",
        "\n",
        "Called by: repr(), and by __str__ as a fallback if __str__ is not defined.\n",
        "\n",
        "Example: For the same Person object, __repr__ might return Person(name='John Doe', age=30)."
      ],
      "metadata": {
        "id": "tlCiTxKY609f"
      }
    },
    {
      "cell_type": "code",
      "source": [
        "class Example:\n",
        "    def __str__(self):\n",
        "        return \"User-friendly\"\n",
        "    def __repr__(self):\n",
        "        return \"Developer-representation\"\n",
        "\n",
        "e = Example()\n",
        "print(str(e))\n",
        "print(repr(e))"
      ],
      "metadata": {
        "colab": {
          "base_uri": "https://localhost:8080/"
        },
        "id": "PgAdq_O87RaN",
        "outputId": "9fcb8b7e-2643-4a1f-b596-837fbcc9392a"
      },
      "execution_count": 18,
      "outputs": [
        {
          "output_type": "stream",
          "name": "stdout",
          "text": [
            "User-friendly\n",
            "Developer-representation\n"
          ]
        }
      ]
    },
    {
      "cell_type": "markdown",
      "source": [
        "**20. What is the significance of the super() function in Python?**\n",
        "\n",
        "=> It lets you call a method from the parent class."
      ],
      "metadata": {
        "id": "4UqzL5fZ7WKG"
      }
    },
    {
      "cell_type": "code",
      "source": [
        "class Parent:\n",
        "    def greet(self):\n",
        "        print(\"Hello from Parent\")\n",
        "\n",
        "class Child(Parent):\n",
        "    def greet(self):\n",
        "        super().greet()\n",
        "        print(\"Hello from Child\")\n",
        "\n",
        "c = Child()\n",
        "c.greet()\n"
      ],
      "metadata": {
        "colab": {
          "base_uri": "https://localhost:8080/"
        },
        "id": "g-iicnZg6yE7",
        "outputId": "7cf6f998-0668-418c-e87d-316e2e026bb7"
      },
      "execution_count": 19,
      "outputs": [
        {
          "output_type": "stream",
          "name": "stdout",
          "text": [
            "Hello from Parent\n",
            "Hello from Child\n"
          ]
        }
      ]
    },
    {
      "cell_type": "markdown",
      "source": [
        "**21. What is the significance of the __del__ method in Python?**\n",
        "\n",
        "=> It is called when an object is destroyed."
      ],
      "metadata": {
        "id": "BDoXXSW07evD"
      }
    },
    {
      "cell_type": "code",
      "source": [
        "class Temp:\n",
        "    def __del__(self):\n",
        "        print(\"Object destroyed\")\n",
        "\n",
        "t = Temp()\n",
        "del t"
      ],
      "metadata": {
        "colab": {
          "base_uri": "https://localhost:8080/"
        },
        "id": "fbQdUhZG7bEj",
        "outputId": "4dc172c5-7af9-4430-9ece-5ffb82cb5815"
      },
      "execution_count": 20,
      "outputs": [
        {
          "output_type": "stream",
          "name": "stdout",
          "text": [
            "Object destroyed\n"
          ]
        }
      ]
    },
    {
      "cell_type": "markdown",
      "source": [
        "**22. What is the difference between @staticmethod and @classmethod?**\n",
        "\n",
        "=> **Key Differences:**\n",
        "\n",
        "**@staticmethod:**\n",
        "\n",
        "  * Does not receive the class or instance as an implicit first argument.\n",
        "  \n",
        "  * Acts like a regular function, but is logically grouped within the class.\n",
        "\n",
        "  * Cannot access or modify class-level attributes or instance attributes.\n",
        "\n",
        "  * Useful for utility functions that don't need to interact with the class or its objects.\n",
        "\n",
        "**@classmethod:**\n",
        "\n",
        "  * Receives the class itself (conventionally named cls) as the first implicit argument.\n",
        "  \n",
        "  * Can access and modify class-level attributes.\n",
        "  \n",
        "  * Can be called on both the class and instances of the class.\n",
        "  \n",
        "  * Useful for factory methods or methods that need to interact with class-level data.\n",
        "\n",
        "**Analogy:**\n",
        "\n",
        "Think of a class as a blueprint for creating objects.\n",
        "\n",
        "  * A regular method is like a tool that works on a specific object created from the blueprint.\n",
        "\n",
        "  * A @staticmethod is like a generic tool that is related to the blueprint but doesn't need any specific object to work.\n",
        "\n",
        "  * A @classmethod is like a tool that works with the blueprint itself to create new blueprints or modify the existing one."
      ],
      "metadata": {
        "id": "mcZ_HFJA7pMu"
      }
    },
    {
      "cell_type": "code",
      "source": [
        "class MyClass:\n",
        "    class_variable = 10\n",
        "\n",
        "    def __init__(self, instance_variable):\n",
        "        self.instance_variable = instance_variable\n",
        "\n",
        "    @staticmethod\n",
        "    def static_method(arg):\n",
        "        # Cannot access class_variable or self.instance_variable\n",
        "        return arg * 2\n",
        "\n",
        "    @classmethod\n",
        "    def class_method(cls, arg):\n",
        "        # Can access class_variable, but not self.instance_variable\n",
        "        return cls.class_variable + arg\n",
        "\n",
        "    def instance_method(self):\n",
        "        # Can access both class_variable and self.instance_variable\n",
        "        return self.instance_variable * MyClass.class_variable\n",
        "\n",
        "\n",
        "# Usage\n",
        "obj = MyClass(5)\n",
        "\n",
        "print(MyClass.static_method(3))  # Output: 6\n",
        "print(obj.static_method(3))    # Output: 6 (same as calling from the class)\n",
        "\n",
        "print(MyClass.class_method(5))  # Output: 15\n",
        "print(obj.class_method(5))    # Output: 15 (same as calling from the class)\n",
        "\n",
        "print(obj.instance_method())   # Output: 50"
      ],
      "metadata": {
        "colab": {
          "base_uri": "https://localhost:8080/"
        },
        "id": "R-94ZDGM7i2I",
        "outputId": "71db9374-8805-4f4f-802e-696a94234cad"
      },
      "execution_count": 21,
      "outputs": [
        {
          "output_type": "stream",
          "name": "stdout",
          "text": [
            "6\n",
            "6\n",
            "15\n",
            "15\n",
            "50\n"
          ]
        }
      ]
    },
    {
      "cell_type": "markdown",
      "source": [
        "**23.  How does polymorphism work in Python with inheritance?**\n",
        "\n",
        "=> Subclasses override methods and Python dynamically selects the correct one.\n",
        "\n"
      ],
      "metadata": {
        "id": "UAdisd958dbM"
      }
    },
    {
      "cell_type": "code",
      "source": [
        "class Parent:\n",
        "    def show(self):\n",
        "        print(\"Parent show\")\n",
        "\n",
        "class Child(Parent):\n",
        "    def show(self):\n",
        "        print(\"Child show\")\n",
        "\n",
        "obj = Child()\n",
        "obj.show()"
      ],
      "metadata": {
        "colab": {
          "base_uri": "https://localhost:8080/"
        },
        "id": "bfnfOHav8WqB",
        "outputId": "b6db0925-508c-462c-fab3-73b770de794f"
      },
      "execution_count": 22,
      "outputs": [
        {
          "output_type": "stream",
          "name": "stdout",
          "text": [
            "Child show\n"
          ]
        }
      ]
    },
    {
      "cell_type": "markdown",
      "source": [
        "**24. What is method chaining in Python OOP?**\n",
        "\n",
        "=> Method chaining in Python Object-Oriented Programming (OOP) is a technique where multiple methods are called sequentially on the same object in a single line of code. This is achieved by having each method return the object itself (self) after performing its action.\n"
      ],
      "metadata": {
        "id": "q-d93w-K8qxd"
      }
    },
    {
      "cell_type": "code",
      "source": [
        "class Chain:\n",
        "    def step1(self):\n",
        "        print(\"Step 1\")\n",
        "        return self\n",
        "\n",
        "    def step2(self):\n",
        "        print(\"Step 2\")\n",
        "        return self\n",
        "\n",
        "Chain().step1().step2()\n"
      ],
      "metadata": {
        "colab": {
          "base_uri": "https://localhost:8080/"
        },
        "id": "OvvM8xvM8nW0",
        "outputId": "176c7db4-0bce-440b-b5ca-90f5bde9f4e6"
      },
      "execution_count": 23,
      "outputs": [
        {
          "output_type": "stream",
          "name": "stdout",
          "text": [
            "Step 1\n",
            "Step 2\n"
          ]
        },
        {
          "output_type": "execute_result",
          "data": {
            "text/plain": [
              "<__main__.Chain at 0x7f9a5973c090>"
            ]
          },
          "metadata": {},
          "execution_count": 23
        }
      ]
    },
    {
      "cell_type": "markdown",
      "source": [
        "**25. What is the purpose of the __call__ method in Python?**\n",
        "\n",
        "=> It makes an object behave like a function."
      ],
      "metadata": {
        "id": "GYgZScHB85Ir"
      }
    },
    {
      "cell_type": "code",
      "source": [
        "class Greeter:\n",
        "    def __call__(self):\n",
        "        print(\"Hello from __call__\")\n",
        "\n",
        "g = Greeter()\n",
        "g()"
      ],
      "metadata": {
        "colab": {
          "base_uri": "https://localhost:8080/"
        },
        "id": "oKNnVfAu8z82",
        "outputId": "0811d685-35d1-4012-8702-663a2e21854c"
      },
      "execution_count": 24,
      "outputs": [
        {
          "output_type": "stream",
          "name": "stdout",
          "text": [
            "Hello from __call__\n"
          ]
        }
      ]
    },
    {
      "cell_type": "markdown",
      "source": [
        "# Oops Practical Questions & Answers\n",
        "\n"
      ],
      "metadata": {
        "id": "a1CtNUxXAmSI"
      }
    },
    {
      "cell_type": "markdown",
      "source": [
        "**1. Create a parent class Animal with a method speak() that prints a generic message. Create a child class Dog that overrides the speak() method to print \"Bark!\".**"
      ],
      "metadata": {
        "id": "9yympNNLBlhm"
      }
    },
    {
      "cell_type": "code",
      "source": [
        "class Animal:\n",
        "    def speak(self):\n",
        "        print(\"Animal speaks\")\n",
        "\n",
        "class Dog(Animal):\n",
        "    def speak(self):\n",
        "        print(\"Bark!\")\n",
        "\n",
        "a = Animal()\n",
        "a.speak()\n",
        "\n",
        "d = Dog()\n",
        "d.speak()\n"
      ],
      "metadata": {
        "colab": {
          "base_uri": "https://localhost:8080/"
        },
        "id": "2XTX8Hpi8-K-",
        "outputId": "14f19fca-ab93-4775-abb6-6a745b00abb6"
      },
      "execution_count": 49,
      "outputs": [
        {
          "output_type": "stream",
          "name": "stdout",
          "text": [
            "Animal speaks\n",
            "Bark!\n"
          ]
        }
      ]
    },
    {
      "cell_type": "markdown",
      "source": [
        "**2. Write a program to create an abstract class Shape with a method area(). Derive classes Circle and Rectangle\n",
        "from it and implement the area() method in both.**"
      ],
      "metadata": {
        "id": "hhZX_3dxBr7W"
      }
    },
    {
      "cell_type": "code",
      "source": [
        "from abc import ABC, abstractmethod\n",
        "import math\n",
        "\n",
        "class Shape(ABC):\n",
        "    @abstractmethod\n",
        "    def area(self):\n",
        "        pass\n",
        "\n",
        "class Circle(Shape):\n",
        "    def __init__(self, radius):\n",
        "        self.radius = radius\n",
        "    def area(self):\n",
        "        return math.pi * self.radius ** 2\n",
        "\n",
        "class Rectangle(Shape):\n",
        "    def __init__(self, length, width):\n",
        "        self.length = length\n",
        "        self.width = width\n",
        "    def area(self):\n",
        "        return self.length * self.width\n",
        "\n",
        "c = Circle(3)\n",
        "print(c.area())\n",
        "\n",
        "r = Rectangle(4, 5)\n",
        "print(r.area())\n"
      ],
      "metadata": {
        "colab": {
          "base_uri": "https://localhost:8080/"
        },
        "id": "BpjoVWmvBoxm",
        "outputId": "3dbb89ae-7e23-4812-95ac-6c623f780256"
      },
      "execution_count": 32,
      "outputs": [
        {
          "output_type": "stream",
          "name": "stdout",
          "text": [
            "28.274333882308138\n",
            "20\n"
          ]
        }
      ]
    },
    {
      "cell_type": "markdown",
      "source": [
        "**3. Implement a multi-level inheritance scenario where a class Vehicle has an attribute type. Derive a class Car\n",
        "and further derive a class ElectricCar that adds a battery attribute.**"
      ],
      "metadata": {
        "id": "ZSmZighMBxWX"
      }
    },
    {
      "cell_type": "code",
      "source": [
        "class Vehicle:\n",
        "    def __init__(self, v_type):\n",
        "        self.v_type = v_type\n",
        "\n",
        "class Car(Vehicle):\n",
        "    def __init__(self, v_type, brand):\n",
        "        super().__init__(v_type)\n",
        "        self.brand = brand\n",
        "\n",
        "class ElectricCar(Car):\n",
        "    def __init__(self, v_type, brand, battery):\n",
        "        super().__init__(v_type, brand)\n",
        "        self.battery = battery\n",
        "\n",
        "ec = ElectricCar(\"Electric\", \"Tesla\", \"75kWh\")\n",
        "print(ec.v_type, ec.brand, ec.battery)"
      ],
      "metadata": {
        "colab": {
          "base_uri": "https://localhost:8080/"
        },
        "id": "YVCcATOIBuTk",
        "outputId": "01d20015-1660-48d5-ee35-80a2c2ec27d3"
      },
      "execution_count": 33,
      "outputs": [
        {
          "output_type": "stream",
          "name": "stdout",
          "text": [
            "Electric Tesla 75kWh\n"
          ]
        }
      ]
    },
    {
      "cell_type": "markdown",
      "source": [
        "**4.  Demonstrate polymorphism by creating a base class Bird with a method fly(). Create two derived classes\n",
        "Sparrow and Penguin that override the fly() method**"
      ],
      "metadata": {
        "id": "TKELj5tyB150"
      }
    },
    {
      "cell_type": "code",
      "source": [
        "class Bird:\n",
        "    def fly(self):\n",
        "        print(\"Bird is flying\")\n",
        "\n",
        "class Sparrow(Bird):\n",
        "    def fly(self):\n",
        "        print(\"Sparrow flies high\")\n",
        "\n",
        "class Penguin(Bird):\n",
        "    def fly(self):\n",
        "        print(\"Penguins can't fly\")\n",
        "\n",
        "birds = [Sparrow(), Penguin()]\n",
        "for bird in birds:\n",
        "    bird.fly()\n"
      ],
      "metadata": {
        "colab": {
          "base_uri": "https://localhost:8080/"
        },
        "id": "kWRH-lUEBzHX",
        "outputId": "fb096033-69e7-46be-e64b-6443cd0685f8"
      },
      "execution_count": 34,
      "outputs": [
        {
          "output_type": "stream",
          "name": "stdout",
          "text": [
            "Sparrow flies high\n",
            "Penguins can't fly\n"
          ]
        }
      ]
    },
    {
      "cell_type": "markdown",
      "source": [
        "**5. Write a program to demonstrate encapsulation by creating a class BankAccount with private attributes\n",
        "balance and methods to deposit, withdraw, and check balance.**"
      ],
      "metadata": {
        "id": "6Cf_5-y8B8WA"
      }
    },
    {
      "cell_type": "code",
      "source": [
        "class BankAccount:\n",
        "    def __init__(self):\n",
        "        self.__balance = 0\n",
        "\n",
        "    def deposit(self, amount):\n",
        "        self.__balance += amount\n",
        "\n",
        "    def withdraw(self, amount):\n",
        "        if amount <= self.__balance:\n",
        "            self.__balance -= amount\n",
        "        else:\n",
        "            print(\"Insufficient funds\")\n",
        "\n",
        "    def check_balance(self):\n",
        "        return self.__balance\n",
        "\n",
        "acc = BankAccount()\n",
        "acc.deposit(500)\n",
        "acc.withdraw(200)\n",
        "print(acc.check_balance())"
      ],
      "metadata": {
        "colab": {
          "base_uri": "https://localhost:8080/"
        },
        "id": "lGXqGNpxB4hn",
        "outputId": "fde7d586-1525-42ac-b2d5-ebc113e4616a"
      },
      "execution_count": 35,
      "outputs": [
        {
          "output_type": "stream",
          "name": "stdout",
          "text": [
            "300\n"
          ]
        }
      ]
    },
    {
      "cell_type": "markdown",
      "source": [
        "**6. Demonstrate runtime polymorphism using a method play() in a base class Instrument. Derive classes Guitar\n",
        "and Piano that implement their own version of play().**"
      ],
      "metadata": {
        "id": "Kk9PPPwWCBdc"
      }
    },
    {
      "cell_type": "code",
      "source": [
        "class Instrument:\n",
        "    def play(self):\n",
        "        print(\"Instrument is playing\")\n",
        "\n",
        "class Guitar(Instrument):\n",
        "    def play(self):\n",
        "        print(\"Guitar strumming\")\n",
        "\n",
        "class Piano(Instrument):\n",
        "    def play(self):\n",
        "        print(\"Piano melody\")\n",
        "\n",
        "for instr in [Guitar(), Piano()]:\n",
        "    instr.play()\n",
        "\n"
      ],
      "metadata": {
        "colab": {
          "base_uri": "https://localhost:8080/"
        },
        "id": "UU8UAulsB-1J",
        "outputId": "31f63102-46fc-4f5d-ceb9-d4c40e4c1b27"
      },
      "execution_count": 36,
      "outputs": [
        {
          "output_type": "stream",
          "name": "stdout",
          "text": [
            "Guitar strumming\n",
            "Piano melody\n"
          ]
        }
      ]
    },
    {
      "cell_type": "markdown",
      "source": [
        "**7. Create a class MathOperations with a class method add_numbers() to add two numbers and a static\n",
        "method subtract_numbers() to subtract two numbers.**"
      ],
      "metadata": {
        "id": "NxyhAVNiCHmU"
      }
    },
    {
      "cell_type": "code",
      "source": [
        "class MathOperations:\n",
        "    @classmethod\n",
        "    def add_numbers(cls, a, b):\n",
        "        return a + b\n",
        "\n",
        "    @staticmethod\n",
        "    def subtract_numbers(a, b):\n",
        "        return a - b\n",
        "\n",
        "print(MathOperations.add_numbers(10, 5))\n",
        "print(MathOperations.subtract_numbers(10, 5))"
      ],
      "metadata": {
        "colab": {
          "base_uri": "https://localhost:8080/"
        },
        "id": "jT1K8B0SCIl0",
        "outputId": "3fc5811c-b078-48aa-e071-ec49dec351c2"
      },
      "execution_count": 37,
      "outputs": [
        {
          "output_type": "stream",
          "name": "stdout",
          "text": [
            "15\n",
            "5\n"
          ]
        }
      ]
    },
    {
      "cell_type": "markdown",
      "source": [
        "**8. Implement a class Person with a class method to count the total number of persons created**"
      ],
      "metadata": {
        "id": "bOgOwjpeCM5u"
      }
    },
    {
      "cell_type": "code",
      "source": [
        "class Person:\n",
        "    count = 0\n",
        "\n",
        "    def __init__(self, name):\n",
        "        self.name = name\n",
        "        Person.count += 1\n",
        "\n",
        "    @classmethod\n",
        "    def total_persons(cls):\n",
        "        return cls.count\n",
        "\n",
        "p1 = Person(\"Vikash\")\n",
        "p2 = Person(\"Wiry\")\n",
        "print(Person.total_persons())"
      ],
      "metadata": {
        "colab": {
          "base_uri": "https://localhost:8080/"
        },
        "id": "5oVHYephCJ8x",
        "outputId": "aaa26df1-dc84-4a98-877d-83f3c945b1f4"
      },
      "execution_count": 50,
      "outputs": [
        {
          "output_type": "stream",
          "name": "stdout",
          "text": [
            "2\n"
          ]
        }
      ]
    },
    {
      "cell_type": "markdown",
      "source": [
        "**9. Write a class Fraction with attributes numerator and denominator. Override the str method to display the\n",
        "fraction as \"numerator/denominator\".**"
      ],
      "metadata": {
        "id": "wsrKViX8CRry"
      }
    },
    {
      "cell_type": "code",
      "source": [
        "class Fraction:\n",
        "    def __init__(self, numerator, denominator):\n",
        "        self.numerator = numerator\n",
        "        self.denominator = denominator\n",
        "\n",
        "    def __str__(self):\n",
        "        return f\"{self.numerator}/{self.denominator}\"\n",
        "\n",
        "f = Fraction(3, 4)\n",
        "print(f)"
      ],
      "metadata": {
        "colab": {
          "base_uri": "https://localhost:8080/"
        },
        "id": "X1hRC7jVCOzm",
        "outputId": "607787b0-0ccd-4725-ad6e-978c6dd5fcff"
      },
      "execution_count": 39,
      "outputs": [
        {
          "output_type": "stream",
          "name": "stdout",
          "text": [
            "3/4\n"
          ]
        }
      ]
    },
    {
      "cell_type": "markdown",
      "source": [
        "**10. Demonstrate operator overloading by creating a class Vector and overriding the add method to add two\n",
        "vectors.**"
      ],
      "metadata": {
        "id": "T8lOc_WrCWzN"
      }
    },
    {
      "cell_type": "code",
      "source": [
        "class Vector:\n",
        "    def __init__(self, x, y):\n",
        "        self.x = x\n",
        "        self.y = y\n",
        "\n",
        "    def __add__(self, other):\n",
        "        return Vector(self.x + other.x, self.y + other.y)\n",
        "\n",
        "    def __str__(self):\n",
        "        return f\"({self.x}, {self.y})\"\n",
        "\n",
        "v1 = Vector(2, 3)\n",
        "v2 = Vector(4, 5)\n",
        "print(v1 + v2)"
      ],
      "metadata": {
        "colab": {
          "base_uri": "https://localhost:8080/"
        },
        "id": "gLNbak5aCTrq",
        "outputId": "833b7df4-d069-4e52-ac35-02cc78b2123b"
      },
      "execution_count": 40,
      "outputs": [
        {
          "output_type": "stream",
          "name": "stdout",
          "text": [
            "(6, 8)\n"
          ]
        }
      ]
    },
    {
      "cell_type": "markdown",
      "source": [
        "**11. Create a class Person with attributes name and age. Add a method greet() that prints \"Hello, my name is\n",
        "{name} and I am {age} years old.\"**"
      ],
      "metadata": {
        "id": "gzZM0g-hCbgG"
      }
    },
    {
      "cell_type": "code",
      "source": [
        "class Person:\n",
        "    def __init__(self, name, age):\n",
        "        self.name = name\n",
        "        self.age = age\n",
        "\n",
        "    def greet(self):\n",
        "        print(f\"Hello, my name is {self.name} and I am {self.age} years old.\")\n",
        "\n",
        "p = Person(\"Vikash\", 23)\n",
        "p.greet()"
      ],
      "metadata": {
        "colab": {
          "base_uri": "https://localhost:8080/"
        },
        "id": "ymcDeALhDsI9",
        "outputId": "689bbbc8-8017-4fee-c559-995735244db1"
      },
      "execution_count": 51,
      "outputs": [
        {
          "output_type": "stream",
          "name": "stdout",
          "text": [
            "Hello, my name is Vikash and I am 23 years old.\n"
          ]
        }
      ]
    },
    {
      "cell_type": "markdown",
      "source": [
        "**12. Implement a class Student with attributes name and grades. Create a method average_grade() to compute\n",
        "the average of the grades.**"
      ],
      "metadata": {
        "id": "5TZGN_e3Dfah"
      }
    },
    {
      "cell_type": "code",
      "source": [
        "class Student:\n",
        "    def __init__(self, name, grades):\n",
        "        self.name = name\n",
        "        self.grades = grades\n",
        "\n",
        "    def average_grade(self):\n",
        "        return sum(self.grades) / len(self.grades)\n",
        "\n",
        "s = Student(\"Vikash\", [85, 90, 92])\n",
        "print(s.average_grade())"
      ],
      "metadata": {
        "colab": {
          "base_uri": "https://localhost:8080/"
        },
        "id": "eRc8E2wwDudS",
        "outputId": "201449ab-ea34-405f-fe58-3ea5e4ba52ce"
      },
      "execution_count": 52,
      "outputs": [
        {
          "output_type": "stream",
          "name": "stdout",
          "text": [
            "89.0\n"
          ]
        }
      ]
    },
    {
      "cell_type": "markdown",
      "source": [
        "**13. Create a class Rectangle with methods set_dimensions() to set the dimensions and area() to calculate the\n",
        "area.**"
      ],
      "metadata": {
        "id": "yF7kjIG3DkX1"
      }
    },
    {
      "cell_type": "code",
      "source": [
        "class Rectangle:\n",
        "    def set_dimensions(self, length, width):\n",
        "        self.length = length\n",
        "        self.width = width\n",
        "\n",
        "    def area(self):\n",
        "        return self.length * self.width\n",
        "\n",
        "r = Rectangle()\n",
        "r.set_dimensions(4, 5)\n",
        "print(r.area())\n"
      ],
      "metadata": {
        "colab": {
          "base_uri": "https://localhost:8080/"
        },
        "id": "5OSwb1B5Dw7w",
        "outputId": "c34d8f55-0cf0-4ae1-9391-fb518331f30f"
      },
      "execution_count": 43,
      "outputs": [
        {
          "output_type": "stream",
          "name": "stdout",
          "text": [
            "20\n"
          ]
        }
      ]
    },
    {
      "cell_type": "markdown",
      "source": [
        "**14. Create a class Employee with a method calculate_salary() that computes the salary based on hours worked\n",
        "and hourly rate. Create a derived class Manager that adds a bonus to the salary.**"
      ],
      "metadata": {
        "id": "xoE825IxDnlw"
      }
    },
    {
      "cell_type": "code",
      "source": [
        "class Employee:\n",
        "    def calculate_salary(self, hours_worked, hourly_rate):\n",
        "        return hours_worked * hourly_rate\n",
        "\n",
        "class Manager(Employee):\n",
        "    def calculate_salary(self, hours_worked, hourly_rate, bonus):\n",
        "        base = super().calculate_salary(hours_worked, hourly_rate)\n",
        "        return base + bonus\n",
        "\n",
        "m = Manager()\n",
        "print(m.calculate_salary(40, 100, 500))"
      ],
      "metadata": {
        "colab": {
          "base_uri": "https://localhost:8080/"
        },
        "id": "UUZeLbxMDzdd",
        "outputId": "fd60688c-e578-43cf-e242-9dc084673037"
      },
      "execution_count": 44,
      "outputs": [
        {
          "output_type": "stream",
          "name": "stdout",
          "text": [
            "4500\n"
          ]
        }
      ]
    },
    {
      "cell_type": "markdown",
      "source": [
        "**15. Create a class Product with attributes name, price, and quantity. Implement a method total_price() that\n",
        "calculates the total price of the product.**"
      ],
      "metadata": {
        "id": "_UiH7sZED-s-"
      }
    },
    {
      "cell_type": "code",
      "source": [
        "class Product:\n",
        "    def __init__(self, name, price, quantity):\n",
        "        self.name = name\n",
        "        self.price = price\n",
        "        self.quantity = quantity\n",
        "\n",
        "    def total_price(self):\n",
        "        return self.price * self.quantity\n",
        "\n",
        "p = Product(\"Laptop\", 50000, 2)\n",
        "print(f\"Total Price: ₹{p.total_price()}\")\n"
      ],
      "metadata": {
        "colab": {
          "base_uri": "https://localhost:8080/"
        },
        "id": "HF84kaeeEL42",
        "outputId": "b43c506a-e104-48d3-d35d-d55c0e1cc15d"
      },
      "execution_count": 45,
      "outputs": [
        {
          "output_type": "stream",
          "name": "stdout",
          "text": [
            "Total Price: ₹100000\n"
          ]
        }
      ]
    },
    {
      "cell_type": "markdown",
      "source": [
        "**16. Create a class Animal with an abstract method sound(). Create two derived classes Cow and Sheep that\n",
        "implement the sound() method.**"
      ],
      "metadata": {
        "id": "Zk8T5SX8EBbZ"
      }
    },
    {
      "cell_type": "code",
      "source": [
        "from abc import ABC, abstractmethod\n",
        "\n",
        "class Animal(ABC):\n",
        "    @abstractmethod\n",
        "    def sound(self):\n",
        "        pass\n",
        "\n",
        "class Cow(Animal):\n",
        "    def sound(self):\n",
        "        print(\"Moo\")\n",
        "\n",
        "class Sheep(Animal):\n",
        "    def sound(self):\n",
        "        print(\"Baa\")\n",
        "\n",
        "c = Cow()\n",
        "c.sound()\n",
        "\n",
        "s = Sheep()\n",
        "s.sound()"
      ],
      "metadata": {
        "colab": {
          "base_uri": "https://localhost:8080/"
        },
        "id": "H2RuVIU-EOqX",
        "outputId": "d055b0a9-4917-4b51-e281-eda6500297e6"
      },
      "execution_count": 53,
      "outputs": [
        {
          "output_type": "stream",
          "name": "stdout",
          "text": [
            "Moo\n",
            "Baa\n"
          ]
        }
      ]
    },
    {
      "cell_type": "markdown",
      "source": [
        "**17. Create a class Book with attributes title, author, and year_published. Add a method get_book_info() that\n",
        "returns a formatted string with the book's details.**"
      ],
      "metadata": {
        "id": "3BZGv13VEEa-"
      }
    },
    {
      "cell_type": "code",
      "source": [
        "class Book:\n",
        "    def __init__(self, title, author, year_published):\n",
        "        self.title = title\n",
        "        self.author = author\n",
        "        self.year_published = year_published\n",
        "\n",
        "    def get_book_info(self):\n",
        "        return f\"'{self.title}' by {self.author} ({self.year_published})\"\n",
        "\n",
        "b = Book(\"Data Science Basics\", \"Vikash Kumar\",2002 )\n",
        "print(b.get_book_info())"
      ],
      "metadata": {
        "colab": {
          "base_uri": "https://localhost:8080/"
        },
        "id": "je1Ng4v1ERab",
        "outputId": "8b8983c1-4bd9-4597-d221-692cbba48258"
      },
      "execution_count": 56,
      "outputs": [
        {
          "output_type": "stream",
          "name": "stdout",
          "text": [
            "'Data Science Basics' by Vikash Kumar (2002)\n"
          ]
        }
      ]
    },
    {
      "cell_type": "markdown",
      "source": [
        "**18. Create a class House with attributes address and price. Create a derived class Mansion that adds an\n",
        "attribute number_of_rooms.**"
      ],
      "metadata": {
        "id": "KHZXh7dVEIgd"
      }
    },
    {
      "cell_type": "code",
      "source": [
        "class House:\n",
        "    def __init__(self, address, price):\n",
        "        self.address = address\n",
        "        self.price = price\n",
        "\n",
        "class Mansion(House):\n",
        "    def __init__(self, address, price, number_of_rooms):\n",
        "        super().__init__(address, price)\n",
        "        self.number_of_rooms = number_of_rooms\n",
        "\n",
        "m = Mansion(\"72 Hanumantha Compound\", 20000000, 10)\n",
        "print(f\"Address: {m.address}, Price: ₹{m.price}, Rooms: {m.number_of_rooms}\")\n"
      ],
      "metadata": {
        "colab": {
          "base_uri": "https://localhost:8080/"
        },
        "id": "tdxjDXmGETg4",
        "outputId": "6db15190-7a29-4e42-cd8c-3ba4db498c7c"
      },
      "execution_count": 57,
      "outputs": [
        {
          "output_type": "stream",
          "name": "stdout",
          "text": [
            "Address: 72 Hanumantha Compound, Price: ₹20000000, Rooms: 10\n"
          ]
        }
      ]
    },
    {
      "cell_type": "code",
      "source": [],
      "metadata": {
        "id": "Y1BP9adhCY7G"
      },
      "execution_count": null,
      "outputs": []
    }
  ]
}