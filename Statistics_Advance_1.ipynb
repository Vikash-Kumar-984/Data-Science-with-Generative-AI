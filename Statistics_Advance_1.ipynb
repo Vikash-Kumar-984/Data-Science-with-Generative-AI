{
  "nbformat": 4,
  "nbformat_minor": 0,
  "metadata": {
    "colab": {
      "provenance": []
    },
    "kernelspec": {
      "name": "python3",
      "display_name": "Python 3"
    },
    "language_info": {
      "name": "python"
    }
  },
  "cells": [
    {
      "cell_type": "markdown",
      "source": [
        "##**Statistics Advanced - 1| Vikash Kumar | wiryvikash15@gmail.com**"
      ],
      "metadata": {
        "id": "4zfbwzXA2ZqS"
      }
    },
    {
      "cell_type": "markdown",
      "source": [
        "**1: What is a random variable in probability theory?**\n",
        "\n",
        "A random variable is a variable whose possible values are numerical outcomes of a random phenomenon. In probability and statistics, a random variable is a way of assigning a numerical value to each possible outcome of a random experiment. For example, in the experiment of flipping a coin, we could define a random variable to be 1 if the coin lands on heads and 0 if it lands on tails. The value of the random variable is not known in advance, but it is determined by the outcome of the experiment."
      ],
      "metadata": {
        "id": "vwq5LpMB2SWi"
      }
    },
    {
      "cell_type": "markdown",
      "source": [
        "\n",
        "**2: What are the types of random variables?**\n",
        "\n",
        "There are two main types of random variables:\n",
        "\n",
        "- Discrete Random Variables: A discrete random variable is one that can take on a finite or countably infinite number of distinct values. The values are often integers. Examples include the number of heads in a series of coin flips, the number of defective items in a batch, or the number of cars passing a certain point on a highway in an hour.\n",
        "\n",
        "- Continuous Random Variables: A continuous random variable is one that can take on any value within a given range. The possible values are uncountably infinite. Examples include the height of a person, the temperature of a room, or the time it takes to complete a task."
      ],
      "metadata": {
        "id": "UZZgGO482hSn"
      }
    },
    {
      "cell_type": "markdown",
      "source": [
        "**3: Explain the difference between discrete and continuous distributions.**\n",
        "\n",
        "The primary difference between discrete and continuous distributions lies in the nature of the random variables they describe and how probabilities are assigned.\n",
        "\n",
        "**1. Random Variable**\n",
        "* Discrete Distribution: Describes probabilities for a discrete random variable, which can take on a finite or countably infinite number of distinct values.\n",
        "* Continuous Distribution: Describes probabilities for a continuous random variable, which can take on any value within a given range.\n",
        "\n",
        "**2. Probability Function**\n",
        "* Discrete Distribution: Uses a Probability Mass Function (PMF), which gives the probability of the variable taking a specific value, P(X=x).\n",
        "* Continuous Distribution: Uses a Probability Density Function (PDF), which describes the likelihood of the variable falling within a particular range. The probability at a single, exact point is zero.\n",
        "\n",
        "**3. Probability Calculation**\n",
        "* Discrete Distribution: The probability of an event is found by summing the probabilities of the individual outcomes in the event.\n",
        "* Continuous Distribution: The probability of an event is found by calculating the area under the curve of the PDF over a given interval.\n",
        "\n",
        "**4. Graphical Representation**\n",
        "* Discrete Distribution: Typically represented by a bar chart where each bar corresponds to a specific value, and its height represents the probability.\n",
        "* Continuous Distribution: Represented by a continuous curve. The area under the curve between two points represents the probability of the variable falling in that interval.\n",
        "\n",
        "**5. Examples**\n",
        "* Discrete Distribution: Binomial distribution, Poisson distribution.\n",
        "* Continuous Distribution: Normal distribution, Exponential distribution."
      ],
      "metadata": {
        "id": "bAtd6jDf2qjx"
      }
    },
    {
      "cell_type": "markdown",
      "source": [
        "**4: What is a binomial distribution, and how is it used in probability?**\n",
        "\n",
        "A binomial distribution is a discrete probability distribution that models the number of successes in a fixed number of independent Bernoulli trials. A Bernoulli trial is a random experiment with exactly two possible outcomes: \"success\" and \"failure\".\n",
        "\n",
        "Characteristics of a Binomial Distribution:\n",
        "\n",
        "- The experiment consists of a fixed number of trials, denoted by n.\n",
        "\n",
        "- Each trial is independent of the others.\n",
        "\n",
        "- Each trial has only two possible outcomes, often labeled as success (with probability p) and failure (with probability 1-p).\n",
        "\n",
        "- The probability of success, p, remains constant for each trial.\n",
        "\n",
        "How it is used in probability:\n",
        "\n",
        "The binomial distribution is used to calculate the probability of observing a specific number of successes (k) in n trials. The probability mass function (PMF) for the binomial distribution is given by the formula:\n",
        "\n",
        "P(X=k)=C(n,k)∗p^k ∗(1−p)^(n−k)\n",
        "\n",
        "where:\n",
        "\n",
        "- C(n,k) is the number of combinations of n items taken k at a time.\n",
        "\n",
        "- p is the probability of success on a single trial.\n",
        "\n",
        "- n is the number of trials.\n",
        "\n",
        "- k is the number of successes.\n",
        "\n",
        "Applications:\n",
        "\n",
        "It is widely used in quality control, genetics, finance, and any field where one is interested in the number of successful outcomes in a set of trials. For example, it can be used to model the number of defective products in a production run, the number of patients who respond to a treatment, or the number of times a stock price increases in a given number of days."
      ],
      "metadata": {
        "id": "Gswh9W5l3dFQ"
      }
    },
    {
      "cell_type": "markdown",
      "source": [
        "**5: What is the standard normal distribution, and why is it important?**\n",
        "\n",
        "The standard normal distribution, also known as the Z-distribution, is a special case of the normal distribution where the mean (\n",
        "mu) is 0 and the standard deviation (\n",
        "sigma) is 1.\n",
        "\n",
        "Importance of the Standard Normal Distribution:\n",
        "\n",
        "- Standardization and Comparison: Any normal distribution can be transformed into the standard normal distribution using the z-score formula: z=(x−\n",
        "mu)/ sigma. This process, called standardization, allows for the comparison of values from different normally distributed datasets.\n",
        "\n",
        "- Probability Calculations: It simplifies the process of finding probabilities associated with a normal distribution. Before the widespread availability of statistical software, probabilities were found by standardizing the variable and looking up the corresponding z-score in a standard normal table.\n",
        "\n",
        "- Foundation for a Central Limit Theorem: The standard normal distribution is central to the Central Limit Theorem, which states that the distribution of sample means of a large number of samples taken from a population will be approximately normal, regardless of the distribution of the population itself.\n",
        "\n",
        "- Hypothesis Testing: It is extensively used in hypothesis testing to determine the statistical significance of a result. The z-test is a common statistical test that is based on the standard normal distribution.\n",
        "\n",
        "- Confidence Intervals: The construction of confidence intervals for population parameters, such as the mean, often relies on critical values from the standard normal distribution, especially when the sample size is large."
      ],
      "metadata": {
        "id": "4haSaro53o34"
      }
    },
    {
      "cell_type": "markdown",
      "source": [
        "**6: What is the Central Limit Theorem (CLT), and why is it critical in statistics?**\n",
        "\n",
        "The Central Limit Theorem (CLT) is a fundamental principle in statistics which states that, for a sufficiently large sample size, the sampling distribution of the sample mean will be approximately normally distributed, regardless of the shape of the population's distribution. The mean of this sampling distribution will be equal to the population mean, and its standard deviation (known as the standard error) will be equal to the population standard deviation divided by the square root of the sample size (\n",
        "sigma/\n",
        "sqrtn).\n",
        "\n",
        "Why the Central Limit Theorem is critical in statistics:\n",
        "\n",
        "- Normality Assumption: Many statistical methods, such as t-tests and ANOVA, assume that the data is normally distributed. The CLT allows us to apply these methods to data from non-normal distributions, provided the sample size is large enough.\n",
        "\n",
        "- Inference about Population Mean: It forms the basis for making inferences about the population mean from a sample. Even if the population distribution is unknown, we can use the normal distribution to construct confidence intervals and perform hypothesis tests for the population mean.\n",
        "\n",
        "- Foundation for Hypothesis Testing: The CLT is the theoretical underpinning for many hypothesis tests. It allows us to calculate the probability of observing a sample mean as extreme as the one we have, assuming the null hypothesis is true.\n",
        "\n",
        "- Real-world Applications: In many real-world situations, we are dealing with sums or averages of many small, independent random effects. The CLT explains why many natural phenomena, such as human height or measurement errors, tend to follow a normal distribution."
      ],
      "metadata": {
        "id": "yuybgYAo3v_7"
      }
    },
    {
      "cell_type": "markdown",
      "source": [
        "**7: What is the significance of confidence intervals in statistical analysis?**\n",
        "\n",
        "A confidence interval in statistical analysis provides a range of plausible values for an unknown population parameter, such as the mean or proportion. It is calculated from sample data and is expressed as a percentage (e.g., 95% confidence interval).\n",
        "\n",
        "Significance of Confidence Intervals:\n",
        "\n",
        "- Quantifying Uncertainty: A point estimate (like the sample mean) is a single value that is our best guess for the population parameter. However, it is unlikely to be exactly correct. A confidence interval provides a range around that estimate, quantifying the uncertainty associated with it. A wider interval indicates more uncertainty.\n",
        "\n",
        "- Inference about Population Parameter: It allows us to make an inference about the true value of the population parameter. For example, a 95% confidence interval for the mean implies that we are 95% confident that the true population mean lies within that interval.\n",
        "\n",
        "- Practical and Statistical Significance: Confidence intervals help in determining the practical significance of a finding. For instance, if a confidence interval for the difference between two treatments includes zero, it suggests that there is no statistically significant difference between them. The width of the interval also gives an idea of the precision of the estimate.\n",
        "\n",
        "- Alternative to Hypothesis Testing: Instead of just getting a \"yes\" or \"no\" answer from a hypothesis test, a confidence interval provides a range of possible values for the parameter of interest, which can be more informative."
      ],
      "metadata": {
        "id": "YXdnK-3A301v"
      }
    },
    {
      "cell_type": "markdown",
      "source": [
        "**8: What is the concept of expected value in a probability distribution?**\n",
        "\n",
        "The expected value of a random variable in a probability distribution is the long-run average value of the variable. It is a weighted average of all possible values that the random variable can take on, where the weights are the probabilities of each value occurring. The expected value is also referred to as the mean of the probability distribution.\n",
        "\n",
        "For a discrete random variable X with a set of possible values x_1,x_2,...,x_n and corresponding probabilities P(x_1),P(x_2),...,P(x_n), the expected value is calculated as:\n",
        "\n",
        "E(X)=\n",
        "i=1\n",
        "∑\n",
        "n\n",
        "​\n",
        " x\n",
        "i\n",
        "​\n",
        " ∗P(x\n",
        "i\n",
        "​\n",
        " )\n",
        "For a continuous random variable X with a probability density function f(x), the expected value is calculated by integrating the product of the variable and its probability density function over all possible values:\n",
        "\n",
        "E(X)=∫\n",
        "−∞\n",
        "∞\n",
        "​\n",
        " x∗f(x)dx\n",
        "The expected value is a fundamental concept in probability and statistics and is used in various applications, including decision theory, financial modeling (to calculate expected returns), and in the definition of other statistical measures like variance.\n",
        "\n"
      ],
      "metadata": {
        "id": "FRlpLvRd36vJ"
      }
    },
    {
      "cell_type": "markdown",
      "source": [
        "**9: Write a Python program to generate 1000 random numbers from a normal distribution with mean = 50 and standard deviation = 5. Compute its mean and standard deviation using NumPy, and draw a histogram to visualize the distribution.**"
      ],
      "metadata": {
        "id": "LOecvxAk6mj-"
      }
    },
    {
      "cell_type": "code",
      "execution_count": 1,
      "metadata": {
        "colab": {
          "base_uri": "https://localhost:8080/",
          "height": 507
        },
        "id": "S_GM9KtM2Isy",
        "outputId": "55b01999-5e20-47ed-f961-05bf90834a79"
      },
      "outputs": [
        {
          "output_type": "stream",
          "name": "stdout",
          "text": [
            "Computed Mean: 50.035144293940654\n",
            "Computed Standard Deviation: 4.956954779292016\n"
          ]
        },
        {
          "output_type": "display_data",
          "data": {
            "text/plain": [
              "<Figure size 640x480 with 1 Axes>"
            ],
            "image/png": "[encoded data removed]"
          },
          "metadata": {}
        }
      ],
      "source": [
        "import numpy as np\n",
        "import matplotlib.pyplot as plt\n",
        "\n",
        "mean = 50\n",
        "std_dev = 5\n",
        "num_samples = 1000\n",
        "\n",
        "# Generate 1000 random numbers from the normal distribution\n",
        "random_numbers = np.random.normal(mean, std_dev, num_samples)\n",
        "\n",
        "# Compute the mean and standard deviation of the generated numbers\n",
        "computed_mean = np.mean(random_numbers)\n",
        "computed_std_dev = np.std(random_numbers)\n",
        "\n",
        "# Print the computed mean and standard deviation\n",
        "print(f\"Computed Mean: {computed_mean}\")\n",
        "print(f\"Computed Standard Deviation: {computed_std_dev}\")\n",
        "\n",
        "# Draw a histogram to visualize the distribution\n",
        "plt.hist(random_numbers, bins=30, density=True, alpha=0.6, color='g')\n",
        "plt.title('Histogram of Random Numbers from a Normal Distribution')\n",
        "plt.xlabel('Value')\n",
        "plt.ylabel('Frequency')\n",
        "plt.grid(True)\n",
        "plt.show()"
      ]
    },
    {
      "cell_type": "markdown",
      "source": [
        "**10: You are working as a data analyst for a retail company. The company has collected daily sales data for 2 years and wants you to identify the overall sales trend. daily_sales = [220, 245, 210, 265, 230, 250, 260, 275, 240, 255, 235, 260, 245, 250, 225, 270, 265, 255, 250, 260].**\n",
        "\n",
        "- **Explain how you would apply the Central Limit Theorem to estimate the average sales with a 95% confidence interval.**\n",
        "\n",
        "- **Write the Python code to compute the mean sales and its confidence interval.**\n",
        "\n",
        "Application of the Central Limit Theorem\n",
        "The Central Limit Theorem (CLT) is crucial here because it allows us to assume that the sampling distribution of the mean of our daily_sales data is approximately normal, even though we have a relatively small sample size (n=20) and we don't know the underlying distribution of the daily sales. While the CLT is more robust with larger sample sizes (typically n > 30), we can still apply the principles to estimate the average sales.\n",
        "\n",
        "Here's how we would apply the CLT to estimate the average sales with a 95% confidence interval:\n",
        "\n",
        "- Calculate the Sample Mean and Standard Deviation: First, we compute the mean (\n",
        "barx) and the standard deviation (s) of our daily_sales sample. The sample mean will be our point estimate for the true average daily sales.\n",
        "\n",
        "- Determine the Standard Error: The standard error of the mean (SE) is an estimate of the standard deviation of the sampling distribution of the mean. We calculate it using the formula: SE=s/\n",
        "sqrtn, where s is the sample standard deviation and n is the sample size.\n",
        "\n",
        "- Find the Critical Value: For a 95% confidence interval, we need to find the critical value from the t-distribution (since the population standard deviation is unknown and the sample size is small). The degrees of freedom will be n-1. This critical value (t-score) defines the boundaries of our confidence interval.\n",
        "\n",
        "- Construct the Confidence Interval: The 95% confidence interval for the population mean (\n",
        "mu) is calculated using the formula:\n",
        "\n",
        "    Confidence Interval= xˉ± (t-critical value∗SE)\n",
        "\n",
        "This interval gives us a range of values within which we are 95% confident the true average daily sales for the entire two-year period lies."
      ],
      "metadata": {
        "id": "YIBkrKxW4Fq0"
      }
    },
    {
      "cell_type": "code",
      "source": [
        "import numpy as np\n",
        "from scipy import stats\n",
        "\n",
        "daily_sales = [220, 245, 210, 265, 230, 250, 260, 275, 240, 255,\n",
        "               235, 260, 245, 250, 225, 270, 265, 255, 250, 260]\n",
        "\n",
        "# sample mean and standard deviation\n",
        "sample_mean = np.mean(daily_sales)\n",
        "sample_std = np.std(daily_sales, ddof=1)  # ddof=1 for sample standard deviation\n",
        "\n",
        "n = len(daily_sales)\n",
        "\n",
        "# the standard error of the mean\n",
        "std_error = sample_std / np.sqrt(n)\n",
        "\n",
        "confidence_level = 0.95\n",
        "\n",
        "# the degrees of freedom\n",
        "degrees_of_freedom = n - 1\n",
        "\n",
        "# the t-critical value\n",
        "t_critical = stats.t.ppf((1 + confidence_level) / 2, df=degrees_of_freedom)\n",
        "\n",
        "# the margin of error\n",
        "margin_of_error = t_critical * std_error\n",
        "\n",
        "# the confidence interval\n",
        "confidence_interval = (sample_mean - margin_of_error, sample_mean + margin_of_error)\n",
        "\n",
        "print(f\"Sample Mean: {sample_mean}\")\n",
        "print(f\"95% Confidence Interval for Average Sales: {confidence_interval}\")"
      ],
      "metadata": {
        "colab": {
          "base_uri": "https://localhost:8080/"
        },
        "id": "APP59aeI4ALE",
        "outputId": "f5dccdfb-0c1b-4573-fd4e-6118e1c6e3db"
      },
      "execution_count": 2,
      "outputs": [
        {
          "output_type": "stream",
          "name": "stdout",
          "text": [
            "Sample Mean: 248.25\n",
            "95% Confidence Interval for Average Sales: (np.float64(240.16957025147158), np.float64(256.3304297485284))\n"
          ]
        }
      ]
    },
    {
      "cell_type": "code",
      "source": [],
      "metadata": {
        "id": "-i42NLNQ4JAK"
      },
      "execution_count": null,
      "outputs": []
    }
  ]
}