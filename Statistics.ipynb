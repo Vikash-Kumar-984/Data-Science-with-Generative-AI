{
  "nbformat": 4,
  "nbformat_minor": 0,
  "metadata": {
    "colab": {
      "provenance": []
    },
    "kernelspec": {
      "name": "python3",
      "display_name": "Python 3"
    },
    "language_info": {
      "name": "python"
    }
  },
  "cells": [
    {
      "cell_type": "markdown",
      "source": [
        "# **Statistics Basics| Assignment | Vikash Kumar | wiryvikash15@gmail.com**"
      ],
      "metadata": {
        "id": "GoVvvUgpQFhk"
      }
    },
    {
      "cell_type": "markdown",
      "source": [
        "**1. What is the difference between descriptive statistics and inferential\n",
        "statistics? Explain with examples.**"
      ],
      "metadata": {
        "id": "KwEt0ZPzQIeC"
      }
    },
    {
      "cell_type": "markdown",
      "source": [
        "Descriptive Statistics deals with summarizing and organizing data so it can be easily understood. It includes measures such as mean, median, mode, standard deviation, and visualizations like histograms and pie charts.\n",
        "Example: Calculating the average score of students in a class.\n",
        "\n",
        "Inferential Statistics involves making predictions or inferences about a population based on a sample of data. It includes hypothesis testing, confidence intervals, and regression analysis.\n",
        "Example: Estimating the average height of adult males in a country based on a sample.\n"
      ],
      "metadata": {
        "id": "ISN5to8JQXKc"
      }
    },
    {
      "cell_type": "markdown",
      "source": [
        "**2. What is sampling in statistics? Explain the differences between random\n",
        "and stratified sampling.**\n"
      ],
      "metadata": {
        "id": "ZQ2pCJN_QYkX"
      }
    },
    {
      "cell_type": "markdown",
      "source": [
        "Sampling is the process of selecting a subset (sample) from a larger population to analyze and draw conclusions.\n",
        "\n",
        "Random Sampling: Every individual has an equal chance of being selected.\n",
        "Example: Choosing 50 students randomly from a university of 5000 students.\n",
        "\n",
        "Stratified Sampling: Population is divided into subgroups (strata) based on a characteristic (like age or gender), and samples are taken from each subgroup proportionally.\n",
        "Example: Dividing students into year-wise groups (1st, 2nd, etc.) and sampling from each group.\n"
      ],
      "metadata": {
        "id": "4WhQ6G2QQjfQ"
      }
    },
    {
      "cell_type": "markdown",
      "source": [
        "**3. Define mean, median, and mode. Explain why these measures of central\n",
        "tendency are important.**"
      ],
      "metadata": {
        "id": "zLFStfdyQtV9"
      }
    },
    {
      "cell_type": "markdown",
      "source": [
        "Mean: The average of all data values.\n",
        "\n",
        "Median: The middle value when data is sorted.\n",
        "\n",
        "Mode: The value that appears most frequently.\n",
        "\n",
        "\n",
        "**Importance of Measures of Central Tendency:**\n",
        "\n",
        "These are important because they help in understanding the central point of a dataset and summarizing data in a single value.\n",
        "\n",
        "Summarization:\n",
        "They give a single representative value that describes the center or typical value of the dataset.\n",
        "\n",
        "Data Comparison:\n",
        "Useful for comparing different datasets using one metric (e.g., average test scores of two classes).\n",
        "\n",
        "Basis for Further Analysis:\n",
        "Central tendency measures are foundational in statistics and are used in calculating variance, standard deviation, and other statistical tests.\n",
        "\n",
        "Resistant to Outliers (Median):\n",
        "The median is especially important in skewed data or datasets with outliers, where the mean might be misleading."
      ],
      "metadata": {
        "id": "Lr16fSF9Qumr"
      }
    },
    {
      "cell_type": "markdown",
      "source": [
        "**4.  Explain skewness and kurtosis. What does a positive skew imply about the\n",
        "data?**\n"
      ],
      "metadata": {
        "id": "x1Gcpz49RQrT"
      }
    },
    {
      "cell_type": "markdown",
      "source": [
        "Skewness measures asymmetry in the data distribution.\n",
        "- Positive Skew: Tail on the right; most data values are concentrated on the left.\n",
        "\n",
        "Kurtosis measures the \"tailedness\" of the data.\n",
        "- High kurtosis means heavy tails and outliers.\n",
        "\n",
        "A positive skew implies that the dataset has more lower values and fewer higher values stretching the tail on the right.\n"
      ],
      "metadata": {
        "id": "Bp27L1hfRSEr"
      }
    },
    {
      "cell_type": "markdown",
      "source": [
        "**5.  Implement a Python program to compute the mean, median, and mode of\n",
        "a given list of numbers.**\n",
        "\n",
        "**numbers = [12, 15, 12, 18, 19, 12, 20, 22, 19, 19, 24, 24, 24, 26, 28]**"
      ],
      "metadata": {
        "id": "EO5yB33ZRahr"
      }
    },
    {
      "cell_type": "code",
      "execution_count": 1,
      "metadata": {
        "colab": {
          "base_uri": "https://localhost:8080/"
        },
        "id": "WyS5WfsMPvc8",
        "outputId": "745d2f3b-53d6-4b98-ec27-f751c171dc84"
      },
      "outputs": [
        {
          "output_type": "stream",
          "name": "stdout",
          "text": [
            "Mean: 19.6\n",
            "Median: 19\n",
            "Mode: 12\n"
          ]
        }
      ],
      "source": [
        "import statistics as stats\n",
        "\n",
        "numbers = [12, 15, 12, 18, 19, 12, 20, 22, 19, 19, 24, 24, 24, 26, 28]\n",
        "\n",
        "mean = stats.mean(numbers)\n",
        "median = stats.median(numbers)\n",
        "mode = stats.mode(numbers)\n",
        "\n",
        "print(\"Mean:\", mean)\n",
        "print(\"Median:\", median)\n",
        "print(\"Mode:\", mode)\n"
      ]
    },
    {
      "cell_type": "markdown",
      "source": [
        "**6. Compute the covariance and correlation coefficient between the following\n",
        "two datasets provided as lists in Python:**\n",
        "\n",
        "**list_x = [10, 20, 30, 40, 50]**\n",
        "\n",
        "**list_y = [15, 25, 35, 45, 60]**\n"
      ],
      "metadata": {
        "id": "hjDnpOmyRnqY"
      }
    },
    {
      "cell_type": "code",
      "source": [
        "import numpy as np\n",
        "\n",
        "list_x = [10, 20, 30, 40, 50]\n",
        "list_y = [15, 25, 35, 45, 60]\n",
        "\n",
        "covariance = np.cov(list_x, list_y)[0][1]\n",
        "correlation = np.corrcoef(list_x, list_y)[0][1]\n",
        "\n",
        "print(\"The solution is: \")\n",
        "print(\"Covariance:\", covariance)\n",
        "print(\"Correlation Coefficient:\", correlation)\n"
      ],
      "metadata": {
        "colab": {
          "base_uri": "https://localhost:8080/"
        },
        "id": "oJwFqG2GPwWj",
        "outputId": "503963ab-ba2f-41dc-af84-9f8904a5b696"
      },
      "execution_count": 6,
      "outputs": [
        {
          "output_type": "stream",
          "name": "stdout",
          "text": [
            "The solution is: \n",
            "Covariance: 275.0\n",
            "Correlation Coefficient: 0.995893206467704\n"
          ]
        }
      ]
    },
    {
      "cell_type": "markdown",
      "source": [
        "**7. Write a Python script to draw a boxplot for the following numeric list and\n",
        "identify its outliers. Explain the result:**\n",
        "\n",
        "**data = [12, 14, 14, 15, 18, 19, 19, 21, 22, 22, 23, 23, 24, 26, 29, 35]**"
      ],
      "metadata": {
        "id": "chWpOnMhRt_w"
      }
    },
    {
      "cell_type": "code",
      "source": [
        "import matplotlib.pyplot as plt\n",
        "\n",
        "data = [12, 14, 14, 15, 18, 19, 19, 21, 22, 22, 23, 23, 24, 26, 29, 35]\n",
        "\n",
        "plt.boxplot(data)\n",
        "plt.title(\"Boxplot of Data\")\n",
        "plt.ylabel(\"Values\")\n",
        "plt.show()\n"
      ],
      "metadata": {
        "colab": {
          "base_uri": "https://localhost:8080/",
          "height": 452
        },
        "id": "o7UxP7u1P1Jb",
        "outputId": "903d705a-c0f8-4a50-ec7c-8ae536c3f170"
      },
      "execution_count": 3,
      "outputs": [
        {
          "output_type": "display_data",
          "data": {
            "text/plain": [
              "<Figure size 640x480 with 1 Axes>"
            ],
            "image/png": "[encoded data removed]"
          },
          "metadata": {}
        }
      ]
    },
    {
      "cell_type": "markdown",
      "source": [
        "**8. You are working as a data analyst in an e-commerce company. The\n",
        "marketing team wants to know if there is a relationship between advertising spend and daily sales.**\n",
        "\n",
        "**● Explain how you would use covariance and correlation to explore this\n",
        "relationship.**\n",
        "\n",
        "**● Write Python code to compute the correlation between the two lists:**\n",
        "\n",
        "**advertising_spend = [200, 250, 300, 400, 500]**\n",
        "\n",
        "**daily_sales = [2200, 2450, 2750, 3200, 4000]**\n"
      ],
      "metadata": {
        "id": "lCYetly0R0-W"
      }
    },
    {
      "cell_type": "markdown",
      "source": [
        "Covariance and correlation are both statistical measures used to assess the relationship between two variables—in this case, advertising spend and daily sales.\n",
        "\n",
        "**Covariance:**\n",
        "Covariance tells us the direction of the linear relationship:\n",
        "\n",
        "Positive covariance: When advertising spend increases, daily sales tend to increase.\n",
        "\n",
        "Negative covariance: When advertising spend increases, daily sales tend to decrease.\n",
        "\n",
        "However, it does not give the strength or scale-free value of the relationship.\n",
        "\n",
        "**Correlation:**\n",
        "Correlation is a normalized version of covariance and measures the strength and direction of the relationship.\n",
        "\n",
        "It ranges from -1 to +1:\n",
        "\n",
        "+1: Perfect positive linear relationship\n",
        "\n",
        "0: No linear relationship\n",
        "\n",
        "-1: Perfect negative linear relationship\n",
        "\n",
        "Correlation is scale-independent, making it more interpretable than covariance."
      ],
      "metadata": {
        "id": "JApwXFRFTzkc"
      }
    },
    {
      "cell_type": "code",
      "source": [
        "import numpy as np\n",
        "\n",
        "advertising_spend = [200, 250, 300, 400, 500]\n",
        "daily_sales = [2200, 2450, 2750, 3200, 4000]\n",
        "\n",
        "correlation = np.corrcoef(advertising_spend, daily_sales)[0][1]\n",
        "print(\"Correlation between ad spend and sales:\", correlation)\n"
      ],
      "metadata": {
        "colab": {
          "base_uri": "https://localhost:8080/"
        },
        "id": "En7U_GOBP7jT",
        "outputId": "fb272ecc-345e-47df-82af-9965f17202c5"
      },
      "execution_count": 4,
      "outputs": [
        {
          "output_type": "stream",
          "name": "stdout",
          "text": [
            "Correlation between ad spend and sales: 0.9935824101653329\n"
          ]
        }
      ]
    },
    {
      "cell_type": "markdown",
      "source": [
        "**Interpretation:**\n",
        "\n",
        "Covariance is positive → as advertising spend increases, daily sales also increase.\n",
        "\n",
        "Correlation ≈ 0.998 → indicates a very strong positive linear relationship between ad spend and sales."
      ],
      "metadata": {
        "id": "EcJ_I1z5UHOb"
      }
    },
    {
      "cell_type": "markdown",
      "source": [
        "**9. Your team has collected customer satisfaction survey data on a scale of\n",
        "1-10 and wants to understand its distribution before launching a new product.**\n",
        "\n",
        "**● Explain which summary statistics and visualizations (e.g. mean, standard\n",
        "deviation, histogram) you’d use.**\n",
        "\n",
        "**● Write Python code to create a histogram using Matplotlib for the survey data:**\n",
        "\n",
        "**survey_scores = [7, 8, 5, 9, 6, 7, 8, 9, 10, 4, 7, 6, 9, 8, 7]**\n"
      ],
      "metadata": {
        "id": "qs5POa_tSNtX"
      }
    },
    {
      "cell_type": "markdown",
      "source": [
        "* Use summary statistics like:\n",
        "\n",
        "  * Mean, Median, Mode\n",
        "\n",
        "  * Standard Deviation\n",
        "\n",
        "* Use histogram to visualize the distribution shape and skewness."
      ],
      "metadata": {
        "id": "WqW5oDHpST3N"
      }
    },
    {
      "cell_type": "markdown",
      "source": [
        "To understand the distribution of customer satisfaction scores, I would use the following summary statistics and visualizations:\n",
        "\n",
        "**Summary Statistics:**\n",
        "\n",
        "**Mean:** Shows the average satisfaction score.\n",
        "\n",
        "**Median:** Shows the central score, especially useful if data is skewed.\n",
        "\n",
        "**Mode:** Shows the most frequently given score.\n",
        "\n",
        "**Standard Deviation:** Indicates how spread out the scores are.\n",
        "\n",
        "**Minimum & Maximum:** Identify the range of satisfaction.\n",
        "\n",
        "**Count (n):** Total number of responses.\n",
        "\n",
        "**Visualizations:**\n",
        "\n",
        "**Histogram:** Displays the frequency distribution of survey scores — helps reveal patterns like skewness or clustering.\n",
        "\n",
        "**Boxplot:** To visualize central tendency, spread, and outliers.\n",
        "\n",
        "These help determine whether the overall feedback is positive, neutral, or negative, and assess customer consensus before launching the product."
      ],
      "metadata": {
        "id": "RGk7iIktUmuK"
      }
    },
    {
      "cell_type": "code",
      "source": [
        "import matplotlib.pyplot as plt\n",
        "\n",
        "survey_scores = [7, 8, 5, 9, 6, 7, 8, 9, 10, 4, 7, 6, 9, 8, 7]\n",
        "\n",
        "plt.hist(survey_scores, bins=6, edgecolor='black')\n",
        "plt.title(\"Customer Satisfaction Histogram\")\n",
        "plt.xlabel(\"Survey Score\")\n",
        "plt.ylabel(\"Frequency\")\n",
        "plt.show()\n"
      ],
      "metadata": {
        "colab": {
          "base_uri": "https://localhost:8080/",
          "height": 472
        },
        "id": "Z48vIxHVSIZ-",
        "outputId": "b4395da5-2259-4fe1-ec9b-b21024a8c6ee"
      },
      "execution_count": 5,
      "outputs": [
        {
          "output_type": "display_data",
          "data": {
            "text/plain": [
              "<Figure size 640x480 with 1 Axes>"
            ],
            "image/png": "[encoded data removed]"
          },
          "metadata": {}
        }
      ]
    },
    {
      "cell_type": "code",
      "source": [
        "import matplotlib.pyplot as plt\n",
        "\n",
        "\n",
        "survey_scores = [7, 8, 5, 9, 6, 7, 8, 9, 10, 4, 7, 6, 9, 8, 7]\n",
        "\n",
        "plt.boxplot(survey_scores, vert=False, patch_artist=True,\n",
        "            boxprops=dict(facecolor='lightblue', color='blue'),\n",
        "            medianprops=dict(color='red'),\n",
        "            flierprops=dict(marker='o', markerfacecolor='orange', markersize=8, linestyle='none'))\n",
        "\n",
        "plt.title(\"Customer Satisfaction Boxplot\")\n",
        "plt.xlabel(\"Survey Score\")\n",
        "plt.grid(True, axis='x', linestyle='--', alpha=0.7)\n",
        "plt.show()\n"
      ],
      "metadata": {
        "colab": {
          "base_uri": "https://localhost:8080/",
          "height": 472
        },
        "id": "Y4sfKNKVSbej",
        "outputId": "fd8d29db-3eda-4cf6-dc26-c6db22d6c002"
      },
      "execution_count": 7,
      "outputs": [
        {
          "output_type": "display_data",
          "data": {
            "text/plain": [
              "<Figure size 640x480 with 1 Axes>"
            ],
            "image/png": "[encoded data removed]"
          },
          "metadata": {}
        }
      ]
    },
    {
      "cell_type": "markdown",
      "source": [
        "**Interpretation:**\n",
        "\n",
        "* The mean and median are close (7.4 and 7), indicating a fairly symmetric distribution.\n",
        "\n",
        "- The mode is 7, which appears most frequently.\n",
        "\n",
        "- A low standard deviation (~1.6) means most customers gave similar scores.\n",
        "\n",
        "- The histogram helps visually confirm these insights."
      ],
      "metadata": {
        "id": "Um9ZNgX5VO09"
      }
    },
    {
      "cell_type": "code",
      "source": [],
      "metadata": {
        "id": "9GwYwdUtVG0O"
      },
      "execution_count": null,
      "outputs": []
    }
  ]
}