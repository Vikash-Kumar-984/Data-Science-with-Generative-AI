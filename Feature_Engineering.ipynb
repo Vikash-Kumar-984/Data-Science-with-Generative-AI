{
  "nbformat": 4,
  "nbformat_minor": 0,
  "metadata": {
    "colab": {
      "provenance": []
    },
    "kernelspec": {
      "name": "python3",
      "display_name": "Python 3"
    },
    "language_info": {
      "name": "python"
    }
  },
  "cells": [
    {
      "cell_type": "markdown",
      "source": [
        "## **Feature Engineering Assignment | Vikash Kumar | wiryvikash15@gmail.com**"
      ],
      "metadata": {
        "id": "LPTkxBbzaWDR"
      }
    },
    {
      "cell_type": "markdown",
      "source": [
        "**1. What is a parameter?**\n",
        "\n",
        "A parameter is a configuration variable that is internal to a machine learning model. The model learns the values of these parameters from the training data. They are not set by the user but are estimated by the model during the training process.\n",
        "\n",
        " - Example: In a linear regression model (y=mx+c), the slope (m) and the intercept (c) are parameters that the model learns from the data."
      ],
      "metadata": {
        "id": "AMzPOTcGWqsR"
      }
    },
    {
      "cell_type": "markdown",
      "source": [
        "\n",
        "\n",
        "**2. What is correlation? What does negative correlation mean?**\n",
        "\n",
        "Correlation is a statistical measure that describes the strength and direction of a linear relationship between two variables. It tells us how much two variables change together.\n",
        "\n",
        "A negative correlation means there is an inverse relationship between the two variables. When one variable increases, the other variable tends to decrease, and vice versa.\n",
        "\n",
        "- Example: The number of hours one spend practicing a skill and the number of mistakes one make are likely negatively correlated. More practice leads to fewer mistakes."
      ],
      "metadata": {
        "id": "gol-GyWOW8co"
      }
    },
    {
      "cell_type": "markdown",
      "source": [
        "**3. Define Machine Learning. What are the main components in Machine Learning?**\n",
        "\n",
        "Machine Learning (ML) is a subfield of artificial intelligence that gives computers the ability to learn from data and improve their performance on a task over time without being explicitly programmed.\n",
        "\n",
        "The main components of a machine learning system are:\n",
        "\n",
        "- Data: The input used by the model to learn patterns.\n",
        "\n",
        "- Model: The algorithm (e.g., linear regression, decision tree) that processes the data and makes predictions.\n",
        "\n",
        "- Loss Function: A method of evaluating how well the model's predictions match the actual values. The goal is to minimize this value.\n",
        "\n",
        "- Optimizer: An algorithm that adjusts the model's internal parameters to minimize the loss function."
      ],
      "metadata": {
        "id": "F98rgtQAXEX-"
      }
    },
    {
      "cell_type": "markdown",
      "source": [
        "**4. How does loss value help in determining whether the model is good or not?**\n",
        "\n",
        "The loss value quantifies the error or \"badness\" of a model's predictions. It measures the difference between the predicted values and the actual true values.\n",
        "\n",
        "A lower loss value indicates a better model because it means the model's predictions are closer to the actual outcomes. During training, we monitor the loss; if it consistently decreases, the model is learning effectively."
      ],
      "metadata": {
        "id": "fQvisd23XH87"
      }
    },
    {
      "cell_type": "markdown",
      "source": [
        "**5. What are continuous and categorical variables?**\n",
        "\n",
        "- Continuous Variables: These are numerical variables that can take any value within a given range. They are typically measurements. Examples: temperature, height, weight, price.\n",
        "\n",
        "- Categorical Variables: These variables represent distinct groups or categories. They are qualitative and have a finite number of possible values. Examples: gender (Male, Female), car brand (Ford, Toyota, Honda), city."
      ],
      "metadata": {
        "id": "-K10-eohXMFZ"
      }
    },
    {
      "cell_type": "markdown",
      "source": [
        "**6. How do we handle categorical variables in Machine Learning? What are the common techniques?**\n",
        "\n",
        "Machine learning models require numerical input, so we must convert categorical variables into numbers. This process is called encoding.\n",
        "\n",
        "Common techniques include:\n",
        "\n",
        "- One-Hot Encoding: This is the most popular method. It creates a new binary (0 or 1) column for each category. This avoids implying any order between categories.\n",
        "\n",
        "- Label Encoding: This method assigns a unique integer to each category (e.g., Red=0, Green=1, Blue=2). It's simple but can be misinterpreted by some models as an ordered relationship."
      ],
      "metadata": {
        "id": "TG_MgGHgXQWD"
      }
    },
    {
      "cell_type": "markdown",
      "source": [
        "**7. What do you mean by training and testing a dataset?**\n",
        "\n",
        "- Training a dataset is the process of feeding a portion of the data (the \"training set\") to a machine learning model. The model analyzes this data to learn the underlying patterns, relationships, and rules.\n",
        "\n",
        "- Testing a dataset involves using a separate, unseen portion of the data (the \"test set\") to evaluate the trained model's performance. This shows how well the model generalizes to new data it has never encountered before."
      ],
      "metadata": {
        "id": "YtLFxCbnXTqp"
      }
    },
    {
      "cell_type": "markdown",
      "source": [
        "**8. What is sklearn.preprocessing?**\n",
        "\n",
        "sklearn.preprocessing is a module within Python's Scikit-learn library. It provides a wide range of functions and classes for common data preprocessing tasks that are essential for preparing data before feeding it to a model. This includes tools for feature scaling, normalization, and encoding categorical variables."
      ],
      "metadata": {
        "id": "JdzeTsnUXXni"
      }
    },
    {
      "cell_type": "markdown",
      "source": [
        "**9. What is a Test set?**\n",
        "\n",
        "A test set is a subset of the original dataset that is completely held back during the model's training and tuning phases. Its sole purpose is to provide a final, unbiased evaluation of the model's performance on unseen data."
      ],
      "metadata": {
        "id": "jA6efKhSXbif"
      }
    },
    {
      "cell_type": "markdown",
      "source": [
        "**10. How do we split data for model fitting (training and testing) in Python? How do you approach a Machine Learning problem?**\n",
        "\n",
        "In Python, we typically use the train_test_split function from the sklearn.model_selection library to split data."
      ],
      "metadata": {
        "id": "5Swcg_KYXem_"
      }
    },
    {
      "cell_type": "code",
      "source": [
        "import pandas as pd\n",
        "from sklearn.model_selection import train_test_split\n",
        "\n",
        "data = {\n",
        "    'age': [25, 30, 45, 35, 50, 22, 60, 38],\n",
        "    'salary': [50000, 65000, 110000, 75000, 130000, 45000, 180000, 85000],\n",
        "    'purchased': [0, 0, 1, 0, 1, 0, 1, 1]\n",
        "}\n",
        "df = pd.DataFrame(data)\n",
        "\n",
        "X = df[['age', 'salary']]\n",
        "y = df['purchased']\n",
        "\n",
        "# random_state ensures the split is the same every time we run the code.\n",
        "X_train, X_test, y_train, y_test = train_test_split(X, y, test_size=0.3, random_state=42)\n",
        "\n",
        "print(\"--- Training Data ---\")\n",
        "print(X_train)\n",
        "print(\"\\n--- Testing Data ---\")\n",
        "print(X_test)"
      ],
      "metadata": {
        "colab": {
          "base_uri": "https://localhost:8080/"
        },
        "id": "Y7eIxx3fXhbU",
        "outputId": "d215e74c-fd70-46b1-a0f1-712cecb04bc8"
      },
      "execution_count": null,
      "outputs": [
        {
          "output_type": "stream",
          "name": "stdout",
          "text": [
            "--- Training Data ---\n",
            "   age  salary\n",
            "7   38   85000\n",
            "2   45  110000\n",
            "4   50  130000\n",
            "3   35   75000\n",
            "6   60  180000\n",
            "\n",
            "--- Testing Data ---\n",
            "   age  salary\n",
            "1   30   65000\n",
            "5   22   45000\n",
            "0   25   50000\n"
          ]
        }
      ]
    },
    {
      "cell_type": "markdown",
      "source": [
        "This code splits the data, using 80% for training and reserving 20% for testing.\n",
        "\n",
        "A standard approach to a machine learning problem involves these steps:\n",
        "\n",
        "- Define the Objective: Clearly understand the problem we are trying to solve.\n",
        "\n",
        "- Data Collection & Cleaning: Gather and prepare the data, handling missing values and errors.\n",
        "\n",
        "- Exploratory Data Analysis (EDA): Analyze the data to find patterns and insights.\n",
        "\n",
        "- Feature Engineering: Select, transform, and create features for the model.\n",
        "\n",
        "- Model Selection & Training: Choose an appropriate algorithm and train it on the training data.\n",
        "\n",
        "- Model Evaluation: Evaluate the model's performance on the test data.\n",
        "\n",
        "- Tuning & Deployment: Fine-tune the model and deploy it for use."
      ],
      "metadata": {
        "id": "zZST3PnXXl7H"
      }
    },
    {
      "cell_type": "markdown",
      "source": [
        "**11. Why do we have to perform EDA before fitting a model to the data?**\n",
        "\n",
        "Performing Exploratory Data Analysis (EDA) is a critical first step because it helps :\n",
        "\n",
        "- Understand the data's structure, including distributions and relationships between variables.\n",
        "\n",
        "- Identify data quality issues like missing values, outliers, or inconsistencies.\n",
        "\n",
        "- Formulate hypotheses about the data that can guide feature engineering and model selection.\n",
        "\n",
        "- Select appropriate features that are most likely to be predictive.\n",
        "\n",
        "Without EDA, we might build a model on flawed data or choose an inappropriate algorithm, leading to poor performance."
      ],
      "metadata": {
        "id": "83ifT6wjXpUo"
      }
    },
    {
      "cell_type": "markdown",
      "source": [
        "**12. What is correlation?**\n",
        "\n",
        "Correlation is a statistical measure that describes the strength and direction of a linear relationship between two variables."
      ],
      "metadata": {
        "id": "R9xuC5VcXy5b"
      }
    },
    {
      "cell_type": "markdown",
      "source": [
        "**13. What does negative correlation mean?**\n",
        "\n",
        "A negative correlation means there is an inverse relationship between two variables. When one variable increases, the other tends to decrease"
      ],
      "metadata": {
        "id": "rh_dwM71X3Ea"
      }
    },
    {
      "cell_type": "markdown",
      "source": [
        "**14. How can you find correlation between variables in Python?**\n",
        "\n",
        "The most common way is by using the .corr() method on a pandas DataFrame, which calculates a correlation matrix."
      ],
      "metadata": {
        "id": "EIh-XCLcX8kX"
      }
    },
    {
      "cell_type": "code",
      "source": [
        "import pandas as pd\n",
        "import seaborn as sns\n",
        "import matplotlib.pyplot as plt\n",
        "\n",
        "data = {\n",
        "    'age': [25, 30, 45, 35, 50, 22, 60, 38],\n",
        "    'salary': [50000, 65000, 110000, 75000, 130000, 45000, 180000, 85000],\n",
        "    'purchased': [0, 0, 1, 0, 1, 0, 1, 1]\n",
        "}\n",
        "df = pd.DataFrame(data)\n",
        "\n",
        "correlation_matrix = df.corr()\n",
        "print(\"--- Correlation Matrix ---\")\n",
        "print(correlation_matrix)\n",
        "\n",
        "plt.figure(figsize=(8, 6))\n",
        "sns.heatmap(correlation_matrix, annot=True, cmap='coolwarm', fmt=\".2f\")\n",
        "plt.title('Correlation Heatmap')\n",
        "plt.show()"
      ],
      "metadata": {
        "colab": {
          "base_uri": "https://localhost:8080/",
          "height": 632
        },
        "id": "muMfQ6DKX-8i",
        "outputId": "09e072cd-1d2c-465d-f02c-03c9caeb339a"
      },
      "execution_count": null,
      "outputs": [
        {
          "output_type": "stream",
          "name": "stdout",
          "text": [
            "--- Correlation Matrix ---\n",
            "                age    salary  purchased\n",
            "age        1.000000  0.987413   0.835496\n",
            "salary     0.987413  1.000000   0.791384\n",
            "purchased  0.835496  0.791384   1.000000\n"
          ]
        },
        {
          "output_type": "display_data",
          "data": {
            "text/plain": [
              "<Figure size 800x600 with 2 Axes>"
            ],
            "image/png": "[encoded data removed]"
          },
          "metadata": {}
        }
      ]
    },
    {
      "cell_type": "markdown",
      "source": [
        "**15. What is causation? Explain the difference between correlation and causation with an example.**\n",
        "\n",
        "Causation means that a change in one variable directly causes a change in another variable.\n",
        "\n",
        "The critical difference is summarized by the famous phrase: \"Correlation does not imply causation.\" Just because two things are correlated does not mean one causes the other. There might be a hidden, third variable (a confounding variable) causing both.\n",
        "\n",
        "- Example: Ice cream sales and the number of shark attacks are positively correlated. However, eating ice cream does not cause shark attacks. The confounding variable is hot weather. When it's hot, more people buy ice cream, and more people go swimming in the ocean, which leads to a higher chance of shark encounters."
      ],
      "metadata": {
        "id": "Dp03xSU5YGWd"
      }
    },
    {
      "cell_type": "markdown",
      "source": [
        "**16. What is an Optimizer? What are different types of optimizers? Explain each with an example.**\n",
        "\n",
        "An Optimizer is an algorithm used to adjust the internal parameters (like weights) of a machine learning model to minimize the loss function. Its goal is to find the set of parameters that results in the best model performance.\n",
        "\n",
        "Different types include:\n",
        "\n",
        "- **Gradient Descent:** It calculates the gradient (slope) of the loss function and takes small steps in the opposite (downhill) direction to find the lowest point. Analogy: A person carefully walking down a hill by always choosing the steepest path down.\n",
        "\n",
        "- **Stochastic Gradient Descent (SGD):** A faster version of Gradient Descent that updates parameters using only one data point (or a small batch) at a time. It's noisier but can escape local minima. Analogy: The person on the hill is in a thick fog and can only see the ground right in front of them to decide the next step.\n",
        "\n",
        "- **Adam (Adaptive Moment Estimation):** A popular, advanced optimizer that adapts the learning rate for each parameter individually. It's efficient and works well for a wide range of problems. Analogy: A smart hiker who adjusts their step size based on the steepness and consistency of the path."
      ],
      "metadata": {
        "id": "UG0h8QOgYKw5"
      }
    },
    {
      "cell_type": "markdown",
      "source": [
        "**17. What is sklearn.linear_model?**\n",
        "\n",
        "sklearn.linear_model is a module in the Scikit-learn library that contains a collection of algorithms based on linear models for both regression and classification.\n",
        "\n",
        "Popular models in this module include:\n",
        "\n",
        "- LinearRegression\n",
        "\n",
        "- LogisticRegression\n",
        "\n",
        "- Ridge and Lasso regression"
      ],
      "metadata": {
        "id": "RW3K661JYNoH"
      }
    },
    {
      "cell_type": "markdown",
      "source": [
        "**18. What does model.fit() do? What arguments must be given?**\n",
        "\n",
        "The model.fit() method is the core function for training a model in Scikit-learn. It takes the training data and learns the underlying patterns by adjusting its internal parameters to best map the features to the target labels.\n",
        "\n",
        "It requires two main arguments:\n",
        "\n",
        "- X: The training features (the independent variables).\n",
        "\n",
        "- y: The training target (the dependent variable, or labels).\n",
        "\n",
        "Usage: model.fit(X_train, y_train)"
      ],
      "metadata": {
        "id": "aI8F7_RQYQwZ"
      }
    },
    {
      "cell_type": "markdown",
      "source": [
        "**19. What does model.predict() do? What arguments must be given?**\n",
        "\n",
        "The model.predict() method is used after a model has been trained. It takes new, unseen data as input and generates predictions based on the patterns it learned during the fit process.\n",
        "\n",
        "It requires one main argument:\n",
        "\n",
        "- X: The new data (features) for which we want to make predictions.\n",
        "\n",
        "Usage: predictions = model.predict(X_test)"
      ],
      "metadata": {
        "id": "1Q6hAcH1YU-j"
      }
    },
    {
      "cell_type": "markdown",
      "source": [
        "**20. What are continuous and categorical variables?**\n",
        "\n",
        "\n",
        "- Continuous Variables: Numerical variables that can take any value within a range (e.g., temperature, price).\n",
        "\n",
        "- Categorical Variables: Variables that represent distinct groups (e.g., gender, city)."
      ],
      "metadata": {
        "id": "liWDvD_JYYMQ"
      }
    },
    {
      "cell_type": "markdown",
      "source": [
        "**21. What is feature scaling? How does it help in Machine Learning?**\n",
        "\n",
        "Feature scaling is a preprocessing technique used to standardize the range of features in the data. For example, scaling all features to a range between 0 and 1.\n",
        "\n",
        "It helps because many algorithms (like SVMs, k-NN, and those using gradient descent) are sensitive to the scale of the data. If one feature has a much larger range than another (e.g., age from 20-70 vs. salary from 50,000-200,000), the feature with the larger range can dominate the model's learning process. Scaling ensures all features contribute more equally.\n",
        "\n"
      ],
      "metadata": {
        "id": "huHQ0eVcYcE8"
      }
    },
    {
      "cell_type": "markdown",
      "source": [
        "**22. How do we perform scaling in Python?**\n",
        "\n",
        "We use scaler objects from the sklearn.preprocessing module. The two most common are:\n",
        "\n",
        "- StandardScaler: Scales data to have a mean of 0 and a standard deviation of 1.\n",
        "\n",
        "- MinMaxScaler: Scales data to a specific range, typically [0, 1]."
      ],
      "metadata": {
        "id": "itEIhhdzYfcJ"
      }
    },
    {
      "cell_type": "code",
      "source": [
        "import pandas as pd\n",
        "from sklearn.model_selection import train_test_split\n",
        "from sklearn.preprocessing import StandardScaler\n",
        "\n",
        "data = {'age': [22, 25, 30, 35, 38, 45, 50, 60], 'salary': [45000, 50000, 65000, 75000, 85000, 110000, 130000, 180000]}\n",
        "X = pd.DataFrame(data)\n",
        "X_train, X_test = train_test_split(X, test_size=0.3, random_state=42)\n",
        "\n",
        "scaler = StandardScaler()\n",
        "\n",
        "X_train_scaled = scaler.fit_transform(X_train)\n",
        "\n",
        "X_test_scaled = scaler.transform(X_test)\n",
        "\n",
        "print(\"--- Original Training Data ---\")\n",
        "print(X_train)\n",
        "print(\"\\n--- Scaled Training Data (Mean=0, Std=1) ---\")\n",
        "print(X_train_scaled)\n",
        "print(\"\\n--- Original Test Data ---\")\n",
        "print(X_test)\n",
        "print(\"\\n--- Scaled Test Data ---\")\n",
        "print(X_test_scaled)"
      ],
      "metadata": {
        "colab": {
          "base_uri": "https://localhost:8080/"
        },
        "id": "95JwlMe7YHZs",
        "outputId": "e5cec18b-5c9d-41fa-ccab-785315b69f48"
      },
      "execution_count": null,
      "outputs": [
        {
          "output_type": "stream",
          "name": "stdout",
          "text": [
            "--- Original Training Data ---\n",
            "   age  salary\n",
            "7   60  180000\n",
            "2   30   65000\n",
            "4   38   85000\n",
            "3   35   75000\n",
            "6   50  130000\n",
            "\n",
            "--- Scaled Training Data (Mean=0, Std=1) ---\n",
            "[[ 1.59478738  1.70833278]\n",
            " [-1.15484603 -0.98287639]\n",
            " [-0.42161046 -0.51484001]\n",
            " [-0.6965738  -0.7488582 ]\n",
            " [ 0.67824291  0.53824183]]\n",
            "\n",
            "--- Original Test Data ---\n",
            "   age  salary\n",
            "1   25   50000\n",
            "5   45  110000\n",
            "0   22   45000\n",
            "\n",
            "--- Scaled Test Data ---\n",
            "[[-1.61311827 -1.33390368]\n",
            " [ 0.21997067  0.07020546]\n",
            " [-1.88808161 -1.45091277]]\n"
          ]
        }
      ]
    },
    {
      "cell_type": "markdown",
      "source": [
        "**23. What is sklearn.preprocessing?**\n",
        "\n",
        "sklearn.preprocessing is a Scikit-learn module that provides tools for essential data preprocessing tasks like feature scaling and encoding categorical variables."
      ],
      "metadata": {
        "id": "pG8WKniJYk0z"
      }
    },
    {
      "cell_type": "markdown",
      "source": [
        "**24. How do we split data for model fitting (training and testing) in Python?**\n",
        "\n",
        "We use the train_test_split function from sklearn.model_selection."
      ],
      "metadata": {
        "id": "KJJ96A5QYo78"
      }
    },
    {
      "cell_type": "code",
      "source": [
        "import pandas as pd\n",
        "from sklearn.model_selection import train_test_split\n",
        "\n",
        "data = {\n",
        "    'age': [25, 30, 45, 35, 50, 22, 60, 38],\n",
        "    'salary': [50000, 65000, 110000, 75000, 130000, 45000, 180000, 85000],\n",
        "    'purchased': [0, 0, 1, 0, 1, 0, 1, 1]\n",
        "}\n",
        "df = pd.DataFrame(data)\n",
        "\n",
        "X = df[['age', 'salary']]\n",
        "y = df['purchased']\n",
        "\n",
        "# random_state ensures the split is the same every time we run the code.\n",
        "X_train, X_test, y_train, y_test = train_test_split(X, y, test_size=0.3, random_state=42)\n",
        "\n",
        "print(\"--- Training Data ---\")\n",
        "print(X_train)\n",
        "print(\"\\n--- Testing Data ---\")\n",
        "print(X_test)"
      ],
      "metadata": {
        "colab": {
          "base_uri": "https://localhost:8080/"
        },
        "id": "Oa8JozbUYm2K",
        "outputId": "792018ec-748b-466e-b23e-0d99d48ba2da"
      },
      "execution_count": null,
      "outputs": [
        {
          "output_type": "stream",
          "name": "stdout",
          "text": [
            "--- Training Data ---\n",
            "   age  salary\n",
            "7   38   85000\n",
            "2   45  110000\n",
            "4   50  130000\n",
            "3   35   75000\n",
            "6   60  180000\n",
            "\n",
            "--- Testing Data ---\n",
            "   age  salary\n",
            "1   30   65000\n",
            "5   22   45000\n",
            "0   25   50000\n"
          ]
        }
      ]
    },
    {
      "cell_type": "markdown",
      "source": [
        "**25. Explain data encoding?**\n",
        "\n",
        "Data encoding is the process of converting categorical data into a numerical format so that it can be used by machine learning algorithms. Since models perform mathematical operations, they cannot work with text-based categories directly.\n",
        "\n",
        "The primary methods are One-Hot Encoding and Label Encoding."
      ],
      "metadata": {
        "id": "uZ6Eyv4FYxjc"
      }
    },
    {
      "cell_type": "code",
      "source": [],
      "metadata": {
        "id": "Qd3AqK45Y1pJ"
      },
      "execution_count": null,
      "outputs": []
    }
  ]
}