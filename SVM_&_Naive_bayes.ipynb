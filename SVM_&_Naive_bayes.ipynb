{
  "nbformat": 4,
  "nbformat_minor": 0,
  "metadata": {
    "colab": {
      "provenance": []
    },
    "kernelspec": {
      "name": "python3",
      "display_name": "Python 3"
    },
    "language_info": {
      "name": "python"
    }
  },
  "cells": [
    {
      "cell_type": "markdown",
      "source": [
        "##**SVM & Naive bayes | Vikash Kumar | wiryvikash15@gmail.com**"
      ],
      "metadata": {
        "id": "EJygiveTomTa"
      }
    },
    {
      "cell_type": "markdown",
      "source": [
        "##**Theoretical Questions**\n",
        "\n",
        "**1. What is a Support Vector Machine (SVM)?**\n",
        "\n",
        "A Support Vector Machine (SVM) is a supervised machine learning algorithm that can be used for both classification and regression tasks.  The main idea behind SVMs is to find a hyperplane"
      ],
      "metadata": {
        "id": "qbnlDaZLZzJl"
      }
    },
    {
      "cell_type": "markdown",
      "source": [
        "**2. What is the difference between Hard Margin and Soft Margin SVM?**\n",
        "\n",
        "The main difference between Hard Margin and Soft Margin SVMs is how they handle misclassifications.\n",
        "\n",
        "Hard Margin SVMs don't allow for any misclassifications, which means they can only be used when the data is linearly separable.\n",
        "\n",
        "Soft Margin SVMs, on the other hand, do allow for some misclassifications, making them more flexible and better suited for real-world data that is not perfectly separable."
      ],
      "metadata": {
        "id": "KLnROceAaGAv"
      }
    },
    {
      "cell_type": "markdown",
      "source": [
        "**3. What is the mathematical intuition behind SVM?**\n",
        "\n",
        "The mathematical intuition behind SVM is to find a hyperplane that maximizes the margin, which is the distance between the hyperplane and the closest data points from each class. By maximizing the margin, SVMs can achieve better generalization performance and are less likely to overfit the training data."
      ],
      "metadata": {
        "id": "E83_J0GuaJsF"
      }
    },
    {
      "cell_type": "markdown",
      "source": [
        "**4. What is the role of Lagrange Multipliers in SVM?**\n",
        "\n",
        "Lagrange Multipliers are a mathematical tool used in SVMs to solve the constrained optimization problem of finding the hyperplane that maximizes the margin. They allow us to convert the primal problem into a dual problem, which is often easier to solve."
      ],
      "metadata": {
        "id": "TFNqhMs8aQkd"
      }
    },
    {
      "cell_type": "markdown",
      "source": [
        "**5. What are Support Vectors in SVM?**\n",
        "\n",
        "Support Vectors are the data points that are closest to the hyperplane and have the most influence on its position. In other words, they are the data points that \"support\" the hyperplane."
      ],
      "metadata": {
        "id": "P9D0ca6XaTjO"
      }
    },
    {
      "cell_type": "markdown",
      "source": [
        "**6. What is a Support Vector Classifier (SVC)?**\n",
        "\n",
        "A Support Vector Classifier (SVC) is a type of SVM that is used for classification tasks. It works by finding a hyperplane that separates the data into different classes."
      ],
      "metadata": {
        "id": "sdzIGM6iaVZu"
      }
    },
    {
      "cell_type": "markdown",
      "source": [
        "**7. What is a Support Vector Regressor (SVR)?**\n",
        "\n",
        "A Support Vector Regressor (SVR) is a type of SVM that is used for regression tasks. It works by finding a hyperplane that best fits the data.\n",
        "\n"
      ],
      "metadata": {
        "id": "C9X-cHuwaYHS"
      }
    },
    {
      "cell_type": "markdown",
      "source": [
        "**8. What is the Kernel Trick in SVM?**\n",
        "\n",
        "The Kernel Trick is a technique used in SVMs to handle non-linearly separable data. It works by mapping the data into a higher-dimensional space where it becomes linearly separable. This allows SVMs to learn complex decision boundaries without explicitly having to transform the data into a higher-dimensional space."
      ],
      "metadata": {
        "id": "aE3splfGbiQQ"
      }
    },
    {
      "cell_type": "markdown",
      "source": [
        "**9. Compare Linear Kernel, Polynomial Kernel, and RBF Kernel**\n",
        "\n",
        "\n",
        "**Linear:**\n",
        "\n",
        "- Creates a linear decision boundary\n",
        "- When the data is linearly separable\n",
        "\n",
        "**Polynomial:**\n",
        "\n",
        "- Creates a polynomial decision boundary\n",
        "- When the data is not linearly separable\n",
        "\n",
        "**RBF:**\n",
        "- Creates a radial basis function decision boundary\n",
        "- When the data has a complex, non-linear structure\n",
        "\n",
        "\n"
      ],
      "metadata": {
        "id": "014JErPnbneM"
      }
    },
    {
      "cell_type": "markdown",
      "source": [
        "\n",
        "**10. What is the effect of the C parameter in SVM?**\n",
        "\n",
        "The C parameter in SVM controls the trade-off between maximizing the margin and minimizing the classification error. A larger C value will result in a smaller margin and fewer misclassifications, while a smaller C value will result in a larger margin and more misclassifications."
      ],
      "metadata": {
        "id": "LpoCF6DRb8uV"
      }
    },
    {
      "cell_type": "markdown",
      "source": [
        "**11. What is the role of the Gamma parameter in RBF Kernel SVM?**\n",
        "\n",
        "The Gamma parameter in an RBF Kernel SVM controls the shape of the decision boundary. A larger Gamma value will result in a more complex decision boundary, while a smaller Gamma value will result in a smoother decision boundary.\n",
        "\n"
      ],
      "metadata": {
        "id": "HdA0lckGcHwA"
      }
    },
    {
      "cell_type": "markdown",
      "source": [
        "**12. What is the Naïve Bayes classifier, and why is it called \"Naïve\"?**\n",
        "\n",
        "The Naïve Bayes classifier is a probabilistic machine learning algorithm that is based on Bayes' theorem. It is called \"naïve\" because it makes the assumption that all the features in the data are independent of each other, which is often not true in the real world."
      ],
      "metadata": {
        "id": "CUD9PEwqhRo2"
      }
    },
    {
      "cell_type": "markdown",
      "source": [
        "**13. What is Bayes' Theorem?**\n",
        "\n",
        "Bayes' Theorem is a mathematical formula that describes the probability of an event occurring, based on prior knowledge of conditions that might be related to the event. It is stated as follows:\n",
        "\n",
        "P(A|B) = (P(B|A) * P(A)) / P(B)\n",
        "\n",
        "Where:\n",
        "\n",
        "P(A|B) is the probability of A given B\n",
        "\n",
        "P(B|A) is the probability of B given A\n",
        "\n",
        "P(A) is the prior probability of A\n",
        "\n",
        "P(B) is the prior probability of B"
      ],
      "metadata": {
        "id": "PU2rWi49hVGH"
      }
    },
    {
      "cell_type": "markdown",
      "source": [
        "**14. Explain the differences between Gaussian Naïve Bayes, Multinomial Naïve Bayes, and Bernoulli Naïve Bayes**\n",
        "\n",
        "The main differences between the three types of Naïve Bayes classifiers:\n",
        "\n",
        "**Gaussian Naïve Bayes:**\tContinuous\n",
        "Classification tasks with continuous features\n",
        "\n",
        "**Multinomial Naïve Bayes:**\tDiscrete\n",
        "Text classification and other tasks with discrete features\n",
        "\n",
        "**Bernoulli Naïve Bayes:**\tBinary\n",
        "Text classification and other tasks with binary features\n",
        "\n"
      ],
      "metadata": {
        "id": "TtVQv8EwhYry"
      }
    },
    {
      "cell_type": "markdown",
      "source": [
        "**15. When should you use Gaussian Naïve Bayes over other variants?**\n",
        "\n",
        "We should use Gaussian Naïve Bayes when you have continuous features that are normally distributed."
      ],
      "metadata": {
        "id": "S9VXA8juhtDJ"
      }
    },
    {
      "cell_type": "markdown",
      "source": [
        "**16. What are the key assumptions made by Naïve Bayes?**\n",
        "\n",
        "The key assumption made by Naïve Bayes is that all the features in the data are independent of each other. This is often not true in the real world, but the algorithm can still perform well in many cases."
      ],
      "metadata": {
        "id": "HDe7C722hwoC"
      }
    },
    {
      "cell_type": "markdown",
      "source": [
        "**17. What are the advantages and disadvantages of Naïve Bayes?**\n",
        "\n",
        "**Advantages**\n",
        "\n",
        "- Simple to understand and implement\n",
        "- Fast to train and predict\n",
        "- Can handle a large number of features\n",
        "\n",
        "**Disadvantages**\n",
        "\n",
        "- Can be inaccurate if the independence assumption is violated\n",
        "- Not as powerful as some other algorithms, such as SVMs"
      ],
      "metadata": {
        "id": "Q28HDloqh1LW"
      }
    },
    {
      "cell_type": "markdown",
      "source": [
        "**18. Why is Naïve Bayes a good choice for text classification?**\n",
        "\n",
        "Naïve Bayes is a good choice for text classification because it can handle a large number of features and is relatively insensitive to irrelevant features. It is also simple to implement and can be trained quickly."
      ],
      "metadata": {
        "id": "6JTs11yPiFR0"
      }
    },
    {
      "cell_type": "markdown",
      "source": [
        "**19. Compare SVM and Naïve Bayes for classification tasks**\n",
        "\n",
        "**SVM**\n",
        "- Accuracy:\tGenerally more accurate\n",
        "- Speed:\tCan be slower to train\n",
        "- Interpretability:\tLess interpretable\n",
        "- Data Requirements:\tCan work well with small datasets\n",
        "\n",
        "**Naïve Bayes**\n",
        "- Accuracy: Can be less accurate, especially if the independence assumption is violated\n",
        "- Speed: Faster to train\n",
        "- Interpretability: More interpretable\n",
        "- Data Requirements: May require more data\n"
      ],
      "metadata": {
        "id": "aunX2FQTiIHz"
      }
    },
    {
      "cell_type": "markdown",
      "source": [
        "**20. How does Laplace Smoothing help in Naïve Bayes?**\n",
        "\n",
        "Laplace Smoothing is a technique that is used to prevent problems that can arise when a feature has a zero probability of occurring. It works by adding a small value to the count of each feature, which ensures that no feature has a zero probability."
      ],
      "metadata": {
        "id": "9P-2g0xJi6G6"
      }
    },
    {
      "cell_type": "markdown",
      "source": [
        "##**Practical Questions**"
      ],
      "metadata": {
        "id": "B73X1bnzi8Cu"
      }
    },
    {
      "cell_type": "markdown",
      "source": [
        "**21. Write a Python program to train an SVM Classifier on the Iris dataset and evaluate accuracy**"
      ],
      "metadata": {
        "id": "IpN0rHAoi-ZT"
      }
    },
    {
      "cell_type": "code",
      "source": [
        "import numpy as np\n",
        "from sklearn import datasets\n",
        "from sklearn.model_selection import train_test_split\n",
        "from sklearn.preprocessing import StandardScaler\n",
        "from sklearn.svm import SVC\n",
        "from sklearn.metrics import accuracy_score\n",
        "\n",
        "# Load the Iris dataset\n",
        "iris = datasets.load_iris()\n",
        "X = iris.data\n",
        "y = iris.target\n",
        "\n",
        "# Split the data and scale it\n",
        "X_train, X_test, y_train, y_test = train_test_split(X, y, test_size=0.3, random_state=42)\n",
        "scaler = StandardScaler()\n",
        "X_train_scaled = scaler.fit_transform(X_train)\n",
        "X_test_scaled = scaler.transform(X_test)\n",
        "\n",
        "# Train the SVM classifier\n",
        "svm_classifier = SVC(kernel='rbf', random_state=42)\n",
        "svm_classifier.fit(X_train_scaled, y_train)\n",
        "\n",
        "# Make predictions and evaluate the accuracy\n",
        "y_pred = svm_classifier.predict(X_test_scaled)\n",
        "accuracy = accuracy_score(y_test, y_pred)\n",
        "print(f\"Accuracy: {accuracy:.4f}\")"
      ],
      "metadata": {
        "colab": {
          "base_uri": "https://localhost:8080/"
        },
        "id": "rQj5QZTEaRPO",
        "outputId": "776c9611-3119-43ed-c6f6-30ce46ca8ffd"
      },
      "execution_count": 1,
      "outputs": [
        {
          "output_type": "stream",
          "name": "stdout",
          "text": [
            "Accuracy: 1.0000\n"
          ]
        }
      ]
    },
    {
      "cell_type": "markdown",
      "source": [
        "**22. Write a Python program to train two SVM classifiers with Linear and RBF kernels on the Wine dataset, then compare their accuracies**"
      ],
      "metadata": {
        "id": "VRQLHK7QjCrg"
      }
    },
    {
      "cell_type": "code",
      "source": [
        "from sklearn import datasets\n",
        "from sklearn.model_selection import train_test_split\n",
        "from sklearn.preprocessing import StandardScaler\n",
        "from sklearn.svm import SVC\n",
        "from sklearn.metrics import accuracy_score\n",
        "\n",
        "# Load the Wine dataset\n",
        "wine = datasets.load_wine()\n",
        "X = wine.data\n",
        "y = wine.target\n",
        "\n",
        "# Split and scale the data\n",
        "X_train, X_test, y_train, y_test = train_test_split(X, y, test_size=0.3, random_state=42)\n",
        "scaler = StandardScaler()\n",
        "X_train_scaled = scaler.fit_transform(X_train)\n",
        "X_test_scaled = scaler.transform(X_test)\n",
        "\n",
        "# Train the linear SVM\n",
        "svm_linear = SVC(kernel='linear', random_state=42)\n",
        "svm_linear.fit(X_train_scaled, y_train)\n",
        "y_pred_linear = svm_linear.predict(X_test_scaled)\n",
        "accuracy_linear = accuracy_score(y_test, y_pred_linear)\n",
        "\n",
        "# Train the RBF SVM\n",
        "svm_rbf = SVC(kernel='rbf', random_state=42)\n",
        "svm_rbf.fit(X_train_scaled, y_train)\n",
        "y_pred_rbf = svm_rbf.predict(X_test_scaled)\n",
        "accuracy_rbf = accuracy_score(y_test, y_pred_rbf)\n",
        "\n",
        "# Compare the accuracies\n",
        "print(f\"Linear Kernel SVM Accuracy: {accuracy_linear:.4f}\")\n",
        "print(f\"RBF Kernel SVM Accuracy: {accuracy_rbf:.4f}\")"
      ],
      "metadata": {
        "colab": {
          "base_uri": "https://localhost:8080/"
        },
        "id": "Uf952k7WjAEn",
        "outputId": "c6ba45d7-fe42-40b9-8a86-f4210e9a82f5"
      },
      "execution_count": 2,
      "outputs": [
        {
          "output_type": "stream",
          "name": "stdout",
          "text": [
            "Linear Kernel SVM Accuracy: 0.9815\n",
            "RBF Kernel SVM Accuracy: 0.9815\n"
          ]
        }
      ]
    },
    {
      "cell_type": "markdown",
      "source": [
        "**23. Write a Python program to train an SVM Regressor (SVR) on a housing dataset and evaluate it using Mean Squared Error (MSE)**"
      ],
      "metadata": {
        "id": "D_zWq5EpjGnf"
      }
    },
    {
      "cell_type": "code",
      "source": [
        "from sklearn import datasets\n",
        "from sklearn.model_selection import train_test_split\n",
        "from sklearn.preprocessing import StandardScaler\n",
        "from sklearn.svm import SVR\n",
        "from sklearn.metrics import mean_squared_error\n",
        "\n",
        "# Load the housing dataset\n",
        "housing = datasets.fetch_california_housing()\n",
        "X = housing.data\n",
        "y = housing.target\n",
        "\n",
        "# Split and scale the data\n",
        "X_train, X_test, y_train, y_test = train_test_split(X, y, test_size=0.2, random_state=42)\n",
        "scaler_X = StandardScaler()\n",
        "X_train_scaled = scaler_X.fit_transform(X_train)\n",
        "X_test_scaled = scaler_X.transform(X_test)\n",
        "scaler_y = StandardScaler()\n",
        "y_train_scaled = scaler_y.fit_transform(y_train.reshape(-1, 1)).ravel()\n",
        "\n",
        "# Train the SVR\n",
        "svr = SVR(kernel='rbf')\n",
        "svr.fit(X_train_scaled, y_train_scaled)\n",
        "\n",
        "# Make predictions and evaluate the MSE\n",
        "y_pred_scaled = svr.predict(X_test_scaled)\n",
        "y_pred = scaler_y.inverse_transform(y_pred_scaled.reshape(-1, 1))\n",
        "mse = mean_squared_error(y_test, y_pred)\n",
        "print(f\"Mean Squared Error (MSE): {mse:.4f}\")"
      ],
      "metadata": {
        "colab": {
          "base_uri": "https://localhost:8080/"
        },
        "id": "gaeyojGUjEJG",
        "outputId": "c616ef8a-4d1b-4bed-c988-88a98d0d5e4c"
      },
      "execution_count": 3,
      "outputs": [
        {
          "output_type": "stream",
          "name": "stdout",
          "text": [
            "Mean Squared Error (MSE): 0.3542\n"
          ]
        }
      ]
    },
    {
      "cell_type": "markdown",
      "source": [
        "**24. Write a Python program to train an SVM Classifier with a Polynomial Kernel and visualize the decision boundary**"
      ],
      "metadata": {
        "id": "HGd-IMB5jLdK"
      }
    },
    {
      "cell_type": "code",
      "source": [
        "import numpy as np\n",
        "import matplotlib.pyplot as plt\n",
        "from sklearn.datasets import make_moons\n",
        "from sklearn.preprocessing import StandardScaler\n",
        "from sklearn.svm import SVC\n",
        "\n",
        "# Create a synthetic dataset\n",
        "X, y = make_moons(n_samples=100, noise=0.15, random_state=42)\n",
        "\n",
        "# Scale the data\n",
        "scaler = StandardScaler()\n",
        "X_scaled = scaler.fit_transform(X)\n",
        "\n",
        "# Train the SVM with a polynomial kernel\n",
        "poly_svm = SVC(kernel='poly', degree=3, coef0=1, C=5)\n",
        "poly_svm.fit(X_scaled, y)\n",
        "\n",
        "# Visualize the decision boundary\n",
        "def plot_decision_boundary(model, X, y):\n",
        "    x_min, x_max = X[:, 0].min() - 1, X[:, 0].max() + 1\n",
        "    y_min, y_max = X[:, 1].min() - 1, X[:, 1].max() + 1\n",
        "    xx, yy = np.meshgrid(np.arange(x_min, x_max, 0.02),\n",
        "                           np.arange(y_min, y_max, 0.02))\n",
        "    Z = model.predict(np.c_[xx.ravel(), yy.ravel()])\n",
        "    Z = Z.reshape(xx.shape)\n",
        "    plt.contourf(xx, yy, Z, alpha=0.3, cmap=plt.cm.coolwarm)\n",
        "    plt.scatter(X[:, 0], X[:, 1], c=y, cmap=plt.cm.coolwarm, s=20, edgecolors='k')\n",
        "    plt.title('SVM Decision Boundary with Polynomial Kernel')\n",
        "    plt.xlabel('Feature 1')\n",
        "    plt.ylabel('Feature 2')\n",
        "    plt.show()\n",
        "\n",
        "plot_decision_boundary(poly_svm, X_scaled, y)"
      ],
      "metadata": {
        "colab": {
          "base_uri": "https://localhost:8080/",
          "height": 472
        },
        "id": "Jx5LU2NWjJdH",
        "outputId": "b6c7a4e7-2072-418e-8cde-d2d61baff61b"
      },
      "execution_count": 4,
      "outputs": [
        {
          "output_type": "display_data",
          "data": {
            "text/plain": [
              "<Figure size 640x480 with 1 Axes>"
            ],
            "image/png": "[encoded data removed]"
          },
          "metadata": {}
        }
      ]
    },
    {
      "cell_type": "markdown",
      "source": [
        "**25. Write a Python program to train a Gaussian Naïve Bayes classifier on the Breast Cancer dataset and evaluate accuracy**"
      ],
      "metadata": {
        "id": "wTjkfcudjQrB"
      }
    },
    {
      "cell_type": "code",
      "source": [
        "from sklearn.datasets import load_breast_cancer\n",
        "from sklearn.model_selection import train_test_split\n",
        "from sklearn.naive_bayes import GaussianNB\n",
        "from sklearn.metrics import accuracy_score\n",
        "\n",
        "# Load the breast cancer dataset\n",
        "cancer = load_breast_cancer()\n",
        "X = cancer.data\n",
        "y = cancer.target\n",
        "\n",
        "# Split the data\n",
        "X_train, X_test, y_train, y_test = train_test_split(X, y, test_size=0.3, random_state=42)\n",
        "\n",
        "# Train the Gaussian Naive Bayes classifier\n",
        "gnb = GaussianNB()\n",
        "gnb.fit(X_train, y_train)\n",
        "\n",
        "# Make predictions and evaluate the accuracy\n",
        "y_pred = gnb.predict(X_test)\n",
        "accuracy = accuracy_score(y_test, y_pred)\n",
        "print(f\"Accuracy: {accuracy:.4f}\")"
      ],
      "metadata": {
        "colab": {
          "base_uri": "https://localhost:8080/"
        },
        "id": "-qFcB8ONjQEW",
        "outputId": "0d90905d-3acd-40df-c956-50e7354353a9"
      },
      "execution_count": 5,
      "outputs": [
        {
          "output_type": "stream",
          "name": "stdout",
          "text": [
            "Accuracy: 0.9415\n"
          ]
        }
      ]
    },
    {
      "cell_type": "markdown",
      "source": [
        "**26. Write a Python program to train a Multinomial Naïve Bayes classifier for text classification using the 20 Newsgroups dataset**"
      ],
      "metadata": {
        "id": "WTqOD53FjUYB"
      }
    },
    {
      "cell_type": "code",
      "source": [
        "from sklearn.datasets import fetch_20newsgroups\n",
        "from sklearn.feature_extraction.text import TfidfVectorizer\n",
        "from sklearn.naive_bayes import MultinomialNB\n",
        "from sklearn.pipeline import make_pipeline\n",
        "from sklearn.metrics import accuracy_score\n",
        "\n",
        "# Load the 20 Newsgroups dataset\n",
        "train_data = fetch_20newsgroups(subset='train', shuffle=True, random_state=42)\n",
        "test_data = fetch_20newsgroups(subset='test', shuffle=True, random_state=42)\n",
        "\n",
        "# Create a pipeline with a TfidfVectorizer and a MultinomialNB classifier\n",
        "model = make_pipeline(\n",
        "    TfidfVectorizer(),\n",
        "    MultinomialNB()\n",
        ")\n",
        "\n",
        "# Train the model\n",
        "model.fit(train_data.data, train_data.target)\n",
        "\n",
        "# Make predictions and evaluate the accuracy\n",
        "y_pred = model.predict(test_data.data)\n",
        "accuracy = accuracy_score(test_data.target, y_pred)\n",
        "print(f\"Accuracy: {accuracy:.4f}\")"
      ],
      "metadata": {
        "colab": {
          "base_uri": "https://localhost:8080/"
        },
        "id": "xvu-UBfqjSKn",
        "outputId": "839b35a0-cadb-4175-f0c7-03cddc4461cd"
      },
      "execution_count": 6,
      "outputs": [
        {
          "output_type": "stream",
          "name": "stdout",
          "text": [
            "Accuracy: 0.7739\n"
          ]
        }
      ]
    },
    {
      "cell_type": "markdown",
      "source": [
        "**27. Write a Python program to train an SVM Classifier with different C values and compare the decision boundaries visually**"
      ],
      "metadata": {
        "id": "81p452G7jYFh"
      }
    },
    {
      "cell_type": "code",
      "source": [
        "import numpy as np\n",
        "import matplotlib.pyplot as plt\n",
        "from sklearn.datasets import make_blobs\n",
        "from sklearn.svm import SVC\n",
        "\n",
        "# Create a synthetic dataset\n",
        "X, y = make_blobs(n_samples=100, centers=2, random_state=6, cluster_std=1.2)\n",
        "\n",
        "# Train SVMs with different C values\n",
        "C_values = [0.1, 1, 100]\n",
        "plt.figure(figsize=(18, 5))\n",
        "for i, C in enumerate(C_values):\n",
        "    svm_model = SVC(kernel='linear', C=C, random_state=42)\n",
        "    svm_model.fit(X, y)\n",
        "\n",
        "    # Plot the decision boundary\n",
        "    plt.subplot(1, len(C_values), i + 1)\n",
        "    ax = plt.gca()\n",
        "    xlim = ax.get_xlim()\n",
        "    ylim = ax.get_ylim()\n",
        "\n",
        "    xx, yy = np.meshgrid(np.linspace(xlim[0], xlim[1], 50),\n",
        "                           np.linspace(ylim[0], ylim[1], 50))\n",
        "    Z = svm_model.decision_function(np.c_[xx.ravel(), yy.ravel()])\n",
        "    Z = Z.reshape(xx.shape)\n",
        "\n",
        "    plt.contour(xx, yy, Z, colors='k', levels=[-1, 0, 1], alpha=0.5, linestyles=['--', '-', '--'])\n",
        "    plt.scatter(svm_model.support_vectors_[:, 0], svm_model.support_vectors_[:, 1], s=100,\n",
        "                linewidth=1, facecolors='none', edgecolors='k')\n",
        "    plt.scatter(X[:, 0], X[:, 1], c=y, cmap=plt.cm.coolwarm, s=30)\n",
        "    plt.title(f'SVM with C = {C}')\n",
        "\n",
        "plt.suptitle('Effect of C on Decision Boundary and Margin')\n",
        "plt.show()"
      ],
      "metadata": {
        "colab": {
          "base_uri": "https://localhost:8080/",
          "height": 470
        },
        "id": "vEcuzIdIjV5v",
        "outputId": "65a65693-3ac5-4c30-a3a2-2bb8a13089dc"
      },
      "execution_count": 7,
      "outputs": [
        {
          "output_type": "display_data",
          "data": {
            "text/plain": [
              "<Figure size 1800x500 with 3 Axes>"
            ],
            "image/png": "[encoded data removed]"
          },
          "metadata": {}
        }
      ]
    },
    {
      "cell_type": "markdown",
      "source": [
        "**28. Write a Python program to train a Bernoulli Naïve Bayes classifier for binary classification on a dataset with binary features**"
      ],
      "metadata": {
        "id": "8P7ONnSwjcKS"
      }
    },
    {
      "cell_type": "code",
      "source": [
        "import numpy as np\n",
        "from sklearn.naive_bayes import BernoulliNB\n",
        "from sklearn.metrics import accuracy_score\n",
        "\n",
        "# Create a synthetic dataset\n",
        "X_train = np.array([\n",
        "    [1, 0, 1, 0],\n",
        "    [0, 1, 1, 0],\n",
        "    [0, 1, 0, 1],\n",
        "    [1, 0, 0, 1],\n",
        "    [0, 1, 1, 1],\n",
        "    [1, 0, 1, 1]\n",
        "])\n",
        "y_train = np.array([0, 1, 1, 0, 1, 0])\n",
        "X_test = np.array([\n",
        "    [1, 0, 0, 0],\n",
        "    [0, 1, 1, 0]\n",
        "])\n",
        "y_test = np.array([0, 1])\n",
        "\n",
        "# Train the Bernoulli Naive Bayes classifier\n",
        "bnb = BernoulliNB()\n",
        "bnb.fit(X_train, y_train)\n",
        "\n",
        "# Make predictions and evaluate the accuracy\n",
        "y_pred = bnb.predict(X_test)\n",
        "accuracy = accuracy_score(y_test, y_pred)\n",
        "print(f\"Accuracy: {accuracy:.4f}\")"
      ],
      "metadata": {
        "colab": {
          "base_uri": "https://localhost:8080/"
        },
        "id": "y32sPYU0jZiv",
        "outputId": "0f941715-ae2c-4fd3-a056-0af4d064d7cd"
      },
      "execution_count": 8,
      "outputs": [
        {
          "output_type": "stream",
          "name": "stdout",
          "text": [
            "Accuracy: 1.0000\n"
          ]
        }
      ]
    },
    {
      "cell_type": "markdown",
      "source": [
        "**29. Write a Python program to apply feature scaling before training an SVM model and compare results with unscaled data**"
      ],
      "metadata": {
        "id": "cvNcQ2CGjfXb"
      }
    },
    {
      "cell_type": "code",
      "source": [
        "from sklearn.datasets import load_breast_cancer\n",
        "from sklearn.model_selection import train_test_split\n",
        "from sklearn.preprocessing import StandardScaler\n",
        "from sklearn.svm import SVC\n",
        "from sklearn.metrics import accuracy_score\n",
        "\n",
        "# Load the breast cancer dataset\n",
        "cancer = load_breast_cancer()\n",
        "X = cancer.data\n",
        "y = cancer.target\n",
        "\n",
        "# Split the data\n",
        "X_train, X_test, y_train, y_test = train_test_split(X, y, test_size=0.3, random_state=42)\n",
        "\n",
        "# Train an SVM on the unscaled data\n",
        "svm_unscaled = SVC(kernel='rbf', random_state=42)\n",
        "svm_unscaled.fit(X_train, y_train)\n",
        "y_pred_unscaled = svm_unscaled.predict(X_test)\n",
        "accuracy_unscaled = accuracy_score(y_test, y_pred_unscaled)\n",
        "\n",
        "# Scale the data\n",
        "scaler = StandardScaler()\n",
        "X_train_scaled = scaler.fit_transform(X_train)\n",
        "X_test_scaled = scaler.transform(X_test)\n",
        "\n",
        "# Train an SVM on the scaled data\n",
        "svm_scaled = SVC(kernel='rbf', random_state=42)\n",
        "svm_scaled.fit(X_train_scaled, y_train)\n",
        "y_pred_scaled = svm_scaled.predict(X_test_scaled)\n",
        "accuracy_scaled = accuracy_score(y_test, y_pred_scaled)\n",
        "\n",
        "# Compare the accuracies\n",
        "print(f\"Accuracy on unscaled data: {accuracy_unscaled:.4f}\")\n",
        "print(f\"Accuracy on scaled data: {accuracy_scaled:.4f}\")"
      ],
      "metadata": {
        "colab": {
          "base_uri": "https://localhost:8080/"
        },
        "id": "vi__PrmPjdeZ",
        "outputId": "2a8fe9a1-d3c4-455e-ed6c-a7733dbb4742"
      },
      "execution_count": 9,
      "outputs": [
        {
          "output_type": "stream",
          "name": "stdout",
          "text": [
            "Accuracy on unscaled data: 0.9357\n",
            "Accuracy on scaled data: 0.9766\n"
          ]
        }
      ]
    },
    {
      "cell_type": "markdown",
      "source": [
        "**30. Write a Python program to train a Gaussian Naïve Bayes model and compare the predictions before and after Laplace Smoothing**"
      ],
      "metadata": {
        "id": "xKz_37Lqjipf"
      }
    },
    {
      "cell_type": "code",
      "source": [
        "import numpy as np\n",
        "from sklearn.naive_bayes import MultinomialNB\n",
        "\n",
        "# Create a synthetic dataset\n",
        "X_train = np.array([\n",
        "    [1, 0, 0],\n",
        "    [0, 1, 1],\n",
        "    [1, 0, 0],\n",
        "    [0, 1, 1]\n",
        "])\n",
        "y_train = np.array([0, 1, 0, 1])\n",
        "X_test = np.array([[1, 1, 0]])\n",
        "\n",
        "# Train a Multinomial Naive Bayes classifier without smoothing\n",
        "mnb_no_smooth = MultinomialNB(alpha=1e-10)\n",
        "mnb_no_smooth.fit(X_train, y_train)\n",
        "pred_no_smooth = mnb_no_smooth.predict_proba(X_test)\n",
        "\n",
        "# Train a Multinomial Naive Bayes classifier with Laplace smoothing\n",
        "mnb_smooth = MultinomialNB(alpha=1.0)\n",
        "mnb_smooth.fit(X_train, y_train)\n",
        "pred_smooth = mnb_smooth.predict_proba(X_test)\n",
        "\n",
        "# Compare the predictions\n",
        "print(f\"Predictions without smoothing: {pred_no_smooth}\")\n",
        "print(f\"Predictions with Laplace smoothing: {pred_smooth}\")"
      ],
      "metadata": {
        "colab": {
          "base_uri": "https://localhost:8080/"
        },
        "id": "rNqnHlA-jgp4",
        "outputId": "d5ad4765-94bb-4f14-cc5f-d368f9b056cd"
      },
      "execution_count": 10,
      "outputs": [
        {
          "output_type": "stream",
          "name": "stdout",
          "text": [
            "Predictions without smoothing: [[0.8 0.2]]\n",
            "Predictions with Laplace smoothing: [[0.66216216 0.33783784]]\n"
          ]
        }
      ]
    },
    {
      "cell_type": "markdown",
      "source": [
        "**31. Write a Python program to train an SVM Classifier and use GridSearchCV to tune the hyperparameters (C, gamma, kernel)**"
      ],
      "metadata": {
        "id": "O_5BF41tjmBR"
      }
    },
    {
      "cell_type": "code",
      "source": [
        "from sklearn.datasets import load_iris\n",
        "from sklearn.model_selection import train_test_split, GridSearchCV\n",
        "from sklearn.preprocessing import StandardScaler\n",
        "from sklearn.svm import SVC\n",
        "\n",
        "# Load the Iris dataset\n",
        "iris = load_iris()\n",
        "X = iris.data\n",
        "y = iris.target\n",
        "\n",
        "# Split and scale the data\n",
        "X_train, X_test, y_train, y_test = train_test_split(X, y, test_size=0.3, random_state=42)\n",
        "scaler = StandardScaler()\n",
        "X_train_scaled = scaler.fit_transform(X_train)\n",
        "X_test_scaled = scaler.transform(X_test)\n",
        "\n",
        "# Define the hyperparameter grid\n",
        "param_grid = {\n",
        "    'C': [0.1, 1, 10, 100],\n",
        "    'gamma': [1, 0.1, 0.01, 0.001],\n",
        "    'kernel': ['rbf', 'poly', 'linear']\n",
        "}\n",
        "\n",
        "# Create a GridSearchCV object\n",
        "grid_search = GridSearchCV(SVC(), param_grid, refit=True, verbose=0, cv=5)\n",
        "\n",
        "# Fit the grid search to the data\n",
        "grid_search.fit(X_train_scaled, y_train)\n",
        "\n",
        "# Print the best hyperparameters\n",
        "print(f\"Best Parameters: {grid_search.best_params_}\")"
      ],
      "metadata": {
        "colab": {
          "base_uri": "https://localhost:8080/"
        },
        "id": "_AG46Z_ojj8j",
        "outputId": "f58b499d-4b74-4fc6-ee64-4b1ff6cb901e"
      },
      "execution_count": 11,
      "outputs": [
        {
          "output_type": "stream",
          "name": "stdout",
          "text": [
            "Best Parameters: {'C': 0.1, 'gamma': 1, 'kernel': 'poly'}\n"
          ]
        }
      ]
    },
    {
      "cell_type": "markdown",
      "source": [
        "**32. Write a Python program to train an SVM Classifier on an imbalanced dataset and apply class weighting and check it improve accuracy**"
      ],
      "metadata": {
        "id": "8g_7DvfWjpB8"
      }
    },
    {
      "cell_type": "code",
      "source": [
        "from sklearn.datasets import make_classification\n",
        "from sklearn.model_selection import train_test_split\n",
        "from sklearn.svm import SVC\n",
        "from sklearn.metrics import classification_report\n",
        "import numpy as np\n",
        "\n",
        "# Create an imbalanced dataset\n",
        "X, y = make_classification(n_samples=1000, n_features=10, n_classes=2,\n",
        "                           weights=[0.95, 0.05], random_state=42)\n",
        "X_train, X_test, y_train, y_test = train_test_split(X, y, test_size=0.3, random_state=42, stratify=y)\n",
        "\n",
        "# Train an SVM without class weighting\n",
        "svm_unweighted = SVC(gamma='auto')\n",
        "svm_unweighted.fit(X_train, y_train)\n",
        "y_pred_unweighted = svm_unweighted.predict(X_test)\n",
        "\n",
        "# Train an SVM with class weighting\n",
        "svm_weighted = SVC(gamma='auto', class_weight='balanced')\n",
        "svm_weighted.fit(X_train, y_train)\n",
        "y_pred_weighted = svm_weighted.predict(X_test)\n",
        "\n",
        "# Compare the classification reports\n",
        "print(\"--- Report for Standard SVM (No Class Weighting) ---\")\n",
        "print(classification_report(y_test, y_pred_unweighted))\n",
        "print(\"--- Report for SVM with Class Weighting ---\")\n",
        "print(classification_report(y_test, y_pred_weighted))"
      ],
      "metadata": {
        "colab": {
          "base_uri": "https://localhost:8080/"
        },
        "id": "REBlFpVsjnMi",
        "outputId": "93b07cbb-7cd6-48cc-cfc8-70df39f432b2"
      },
      "execution_count": 12,
      "outputs": [
        {
          "output_type": "stream",
          "name": "stdout",
          "text": [
            "--- Report for Standard SVM (No Class Weighting) ---\n",
            "              precision    recall  f1-score   support\n",
            "\n",
            "           0       0.96      1.00      0.98       284\n",
            "           1       1.00      0.19      0.32        16\n",
            "\n",
            "    accuracy                           0.96       300\n",
            "   macro avg       0.98      0.59      0.65       300\n",
            "weighted avg       0.96      0.96      0.94       300\n",
            "\n",
            "--- Report for SVM with Class Weighting ---\n",
            "              precision    recall  f1-score   support\n",
            "\n",
            "           0       0.98      0.90      0.94       284\n",
            "           1       0.26      0.62      0.37        16\n",
            "\n",
            "    accuracy                           0.89       300\n",
            "   macro avg       0.62      0.76      0.65       300\n",
            "weighted avg       0.94      0.89      0.91       300\n",
            "\n"
          ]
        }
      ]
    },
    {
      "cell_type": "markdown",
      "source": [
        "**33. Write a Python program to implement a Naïve Bayes classifier for spam detection using email data**\n",
        "\n"
      ],
      "metadata": {
        "id": "DVCI58AAjsms"
      }
    },
    {
      "cell_type": "code",
      "source": [
        "import pandas as pd\n",
        "from sklearn.model_selection import train_test_split\n",
        "from sklearn.feature_extraction.text import CountVectorizer\n",
        "from sklearn.naive_bayes import MultinomialNB\n",
        "from sklearn.metrics import accuracy_score, classification_report\n",
        "\n",
        "# The dummy dataframe\n",
        "data = {\n",
        "    'label': ['ham', 'ham', 'spam', 'ham', 'spam', 'ham', 'spam', 'spam'],\n",
        "    'message': [\n",
        "        'Go until jurong point, crazy..',\n",
        "        'Ok lar... Joking wif u oni...',\n",
        "        'Free entry in 2 a wkly comp to win FA Cup final tkts 21st May 2005.',\n",
        "        'U dun say so early hor... U c already then say...',\n",
        "        'WINNER!! As a valued network customer you have been selected to receivea £900 prize reward!',\n",
        "        'I am going to home.',\n",
        "        'Claim your free prize now!',\n",
        "        'Special offer just for you, money back guarantee'\n",
        "    ]\n",
        "}\n",
        "df = pd.DataFrame(data)\n",
        "df['label'] = df['label'].map({'ham': 0, 'spam': 1})\n",
        "X = df['message']\n",
        "y = df['label']\n",
        "\n",
        "# Add stratify=y to ensure the test set is representative\n",
        "X_train, X_test, y_train, y_test = train_test_split(X, y, test_size=0.3, random_state=42, stratify=y)\n",
        "\n",
        "# Vectorize the text data\n",
        "vectorizer = CountVectorizer()\n",
        "X_train_counts = vectorizer.fit_transform(X_train)\n",
        "X_test_counts = vectorizer.transform(X_test)\n",
        "\n",
        "# Train the Multinomial Naïve Bayes model\n",
        "mnb = MultinomialNB()\n",
        "mnb.fit(X_train_counts, y_train)\n",
        "\n",
        "# Make predictions and evaluate the model\n",
        "y_pred = mnb.predict(X_test_counts)\n",
        "accuracy = accuracy_score(y_test, y_pred)\n",
        "print(f\"Accuracy: {accuracy:.4f}\\n\")\n",
        "print(\"Classification Report:\")\n",
        "print(classification_report(y_test, y_pred))"
      ],
      "metadata": {
        "colab": {
          "base_uri": "https://localhost:8080/"
        },
        "id": "PsG7kEqMjqky",
        "outputId": "b60faf7b-5916-479a-cafa-1e0e54227213"
      },
      "execution_count": 30,
      "outputs": [
        {
          "output_type": "stream",
          "name": "stdout",
          "text": [
            "Accuracy: 0.3333\n",
            "\n",
            "Classification Report:\n",
            "              precision    recall  f1-score   support\n",
            "\n",
            "           0       0.00      0.00      0.00         2\n",
            "           1       0.33      1.00      0.50         1\n",
            "\n",
            "    accuracy                           0.33         3\n",
            "   macro avg       0.17      0.50      0.25         3\n",
            "weighted avg       0.11      0.33      0.17         3\n",
            "\n"
          ]
        },
        {
          "output_type": "stream",
          "name": "stderr",
          "text": [
            "/usr/local/lib/python3.12/dist-packages/sklearn/metrics/_classification.py:1565: UndefinedMetricWarning: Precision is ill-defined and being set to 0.0 in labels with no predicted samples. Use `zero_division` parameter to control this behavior.\n",
            "  _warn_prf(average, modifier, f\"{metric.capitalize()} is\", len(result))\n",
            "/usr/local/lib/python3.12/dist-packages/sklearn/metrics/_classification.py:1565: UndefinedMetricWarning: Precision is ill-defined and being set to 0.0 in labels with no predicted samples. Use `zero_division` parameter to control this behavior.\n",
            "  _warn_prf(average, modifier, f\"{metric.capitalize()} is\", len(result))\n",
            "/usr/local/lib/python3.12/dist-packages/sklearn/metrics/_classification.py:1565: UndefinedMetricWarning: Precision is ill-defined and being set to 0.0 in labels with no predicted samples. Use `zero_division` parameter to control this behavior.\n",
            "  _warn_prf(average, modifier, f\"{metric.capitalize()} is\", len(result))\n"
          ]
        }
      ]
    },
    {
      "cell_type": "markdown",
      "source": [
        "**34. Write a Python program to train an SVM Classifier and a Naïve Bayes Classifier on the same dataset and compare their accuracy**"
      ],
      "metadata": {
        "id": "E9w1eCYBjv9q"
      }
    },
    {
      "cell_type": "code",
      "source": [
        "from sklearn.datasets import load_breast_cancer\n",
        "from sklearn.model_selection import train_test_split\n",
        "from sklearn.preprocessing import StandardScaler\n",
        "from sklearn.svm import SVC\n",
        "from sklearn.naive_bayes import GaussianNB\n",
        "from sklearn.metrics import accuracy_score\n",
        "\n",
        "# Load the breast cancer dataset\n",
        "data = load_breast_cancer()\n",
        "X, y = data.data, data.target\n",
        "\n",
        "# Split the data\n",
        "X_train, X_test, y_train, y_test = train_test_split(X, y, test_size=0.3, random_state=42)\n",
        "\n",
        "# Train the SVM classifier\n",
        "scaler = StandardScaler()\n",
        "X_train_scaled = scaler.fit_transform(X_train)\n",
        "X_test_scaled = scaler.transform(X_test)\n",
        "svm = SVC(random_state=42)\n",
        "svm.fit(X_train_scaled, y_train)\n",
        "y_pred_svm = svm.predict(X_test_scaled)\n",
        "accuracy_svm = accuracy_score(y_test, y_pred_svm)\n",
        "\n",
        "# Train the Gaussian Naive Bayes classifier\n",
        "gnb = GaussianNB()\n",
        "gnb.fit(X_train, y_train)\n",
        "y_pred_gnb = gnb.predict(X_test)\n",
        "accuracy_gnb = accuracy_score(y_test, y_pred_gnb)\n",
        "\n",
        "# Compare the accuracies\n",
        "print(f\"SVM Accuracy: {accuracy_svm:.4f}\")\n",
        "print(f\"Naïve Bayes Accuracy: {accuracy_gnb:.4f}\")"
      ],
      "metadata": {
        "colab": {
          "base_uri": "https://localhost:8080/"
        },
        "id": "LgJReeoAjtzi",
        "outputId": "406f191f-b2b8-4622-dc03-8199b984f5d6"
      },
      "execution_count": 14,
      "outputs": [
        {
          "output_type": "stream",
          "name": "stdout",
          "text": [
            "SVM Accuracy: 0.9766\n",
            "Naïve Bayes Accuracy: 0.9415\n"
          ]
        }
      ]
    },
    {
      "cell_type": "markdown",
      "source": [
        "**35. Write a Python program to perform feature selection before training a Naïve Bayes classifier and compare results**"
      ],
      "metadata": {
        "id": "XddaPOqyjzcC"
      }
    },
    {
      "cell_type": "code",
      "source": [
        "from sklearn.datasets import fetch_20newsgroups\n",
        "from sklearn.feature_extraction.text import TfidfVectorizer\n",
        "from sklearn.feature_selection import SelectKBest, chi2\n",
        "from sklearn.naive_bayes import MultinomialNB\n",
        "from sklearn.pipeline import Pipeline\n",
        "\n",
        "# Load the 20 Newsgroups dataset\n",
        "data = fetch_20newsgroups(subset='all', categories=['sci.med', 'sci.space'], shuffle=True, random_state=42)\n",
        "X, y = data.data, data.target\n",
        "\n",
        "# Create a pipeline without feature selection\n",
        "pipeline_all_features = Pipeline([\n",
        "    ('vect', TfidfVectorizer()),\n",
        "    ('clf', MultinomialNB()),\n",
        "])\n",
        "pipeline_all_features.fit(X, y)\n",
        "accuracy_all = pipeline_all_features.score(X, y)\n",
        "\n",
        "# Create a pipeline with feature selection\n",
        "pipeline_feature_selection = Pipeline([\n",
        "    ('vect', TfidfVectorizer()),\n",
        "    ('selector', SelectKBest(chi2, k=1000)),\n",
        "    ('clf', MultinomialNB()),\n",
        "])\n",
        "pipeline_feature_selection.fit(X, y)\n",
        "accuracy_selected = pipeline_feature_selection.score(X, y)\n",
        "\n",
        "# Compare the accuracies\n",
        "print(f\"Accuracy with all features: {accuracy_all:.4f}\")\n",
        "print(f\"Accuracy with selected features: {accuracy_selected:.4f}\")"
      ],
      "metadata": {
        "colab": {
          "base_uri": "https://localhost:8080/"
        },
        "id": "veevSiXKjxNC",
        "outputId": "1fa3a19a-3fc3-43ea-b08a-0f59c8a995b3"
      },
      "execution_count": 15,
      "outputs": [
        {
          "output_type": "stream",
          "name": "stdout",
          "text": [
            "Accuracy with all features: 0.9975\n",
            "Accuracy with selected features: 0.9884\n"
          ]
        }
      ]
    },
    {
      "cell_type": "markdown",
      "source": [
        "**36. Write a Python program to train an SVM Classifier using One-vs-Rest (OvR) and One-vs-One (OvO) strategies on the Wine dataset and compare their accuracy**"
      ],
      "metadata": {
        "id": "sue7BjR9j20x"
      }
    },
    {
      "cell_type": "code",
      "source": [
        "from sklearn.datasets import load_wine\n",
        "from sklearn.model_selection import train_test_split\n",
        "from sklearn.preprocessing import StandardScaler\n",
        "from sklearn.svm import SVC\n",
        "from sklearn.metrics import accuracy_score\n",
        "\n",
        "# Load the Wine dataset\n",
        "wine = load_wine()\n",
        "X, y = wine.data, wine.target\n",
        "\n",
        "# Split and scale the data\n",
        "X_train, X_test, y_train, y_test = train_test_split(X, y, test_size=0.3, random_state=42)\n",
        "scaler = StandardScaler()\n",
        "X_train_scaled = scaler.fit_transform(X_train)\n",
        "X_test_scaled = scaler.transform(X_test)\n",
        "\n",
        "# Train an SVM with the OvR strategy\n",
        "svm_ovr = SVC(decision_function_shape='ovr', random_state=42)\n",
        "svm_ovr.fit(X_train_scaled, y_train)\n",
        "y_pred_ovr = svm_ovr.predict(X_test_scaled)\n",
        "accuracy_ovr = accuracy_score(y_test, y_pred_ovr)\n",
        "\n",
        "# Train an SVM with the OvO strategy\n",
        "svm_ovo = SVC(decision_function_shape='ovo', random_state=42)\n",
        "svm_ovo.fit(X_train_scaled, y_train)\n",
        "y_pred_ovo = svm_ovo.predict(X_test_scaled)\n",
        "accuracy_ovo = accuracy_score(y_test, y_pred_ovo)\n",
        "\n",
        "# Compare the accuracies\n",
        "print(f\"One-vs-Rest (OvR) Accuracy: {accuracy_ovr:.4f}\")\n",
        "print(f\"One-vs-One (OvO) Accuracy: {accuracy_ovo:.4f}\")"
      ],
      "metadata": {
        "colab": {
          "base_uri": "https://localhost:8080/"
        },
        "id": "bnnksJYlj0n7",
        "outputId": "731000ea-b0e6-43ba-9c61-f019a7c53ac2"
      },
      "execution_count": 16,
      "outputs": [
        {
          "output_type": "stream",
          "name": "stdout",
          "text": [
            "One-vs-Rest (OvR) Accuracy: 0.9815\n",
            "One-vs-One (OvO) Accuracy: 0.9815\n"
          ]
        }
      ]
    },
    {
      "cell_type": "markdown",
      "source": [
        "**37. Write a Python program to train an SVM Classifier using Linear, Polynomial, and RBF kernels on the Breast Cancer dataset and compare their accuracy**"
      ],
      "metadata": {
        "id": "qTbFzTmEj5zq"
      }
    },
    {
      "cell_type": "code",
      "source": [
        "from sklearn.datasets import load_breast_cancer\n",
        "from sklearn.model_selection import train_test_split\n",
        "from sklearn.preprocessing import StandardScaler\n",
        "from sklearn.svm import SVC\n",
        "from sklearn.metrics import accuracy_score\n",
        "\n",
        "# Load the breast cancer dataset\n",
        "cancer = load_breast_cancer()\n",
        "X, y = cancer.data, cancer.target\n",
        "\n",
        "# Split and scale the data\n",
        "X_train, X_test, y_train, y_test = train_test_split(X, y, test_size=0.3, random_state=42)\n",
        "scaler = StandardScaler()\n",
        "X_train_scaled = scaler.fit_transform(X_train)\n",
        "X_test_scaled = scaler.transform(X_test)\n",
        "\n",
        "# Train and evaluate SVMs with different kernels\n",
        "kernels = ['linear', 'poly', 'rbf']\n",
        "accuracies = {}\n",
        "for kernel in kernels:\n",
        "    model = SVC(kernel=kernel, random_state=42)\n",
        "    model.fit(X_train_scaled, y_train)\n",
        "    y_pred = model.predict(X_test_scaled)\n",
        "    accuracies[kernel] = accuracy_score(y_test, y_pred)\n",
        "\n",
        "# Print the accuracies\n",
        "for kernel, acc in accuracies.items():\n",
        "    print(f\"Accuracy with {kernel.upper()} kernel: {acc:.4f}\")"
      ],
      "metadata": {
        "colab": {
          "base_uri": "https://localhost:8080/"
        },
        "id": "tse35quHj35T",
        "outputId": "e565da1b-07c1-4d30-cd6a-37311ab74b27"
      },
      "execution_count": 17,
      "outputs": [
        {
          "output_type": "stream",
          "name": "stdout",
          "text": [
            "Accuracy with LINEAR kernel: 0.9766\n",
            "Accuracy with POLY kernel: 0.8947\n",
            "Accuracy with RBF kernel: 0.9766\n"
          ]
        }
      ]
    },
    {
      "cell_type": "markdown",
      "source": [
        "**38. Write a Python program to train an SVM Classifier using Stratified K-Fold Cross-Validation and compute the average accuracy**"
      ],
      "metadata": {
        "id": "TSJAoUNYj84n"
      }
    },
    {
      "cell_type": "code",
      "source": [
        "from sklearn.datasets import load_iris\n",
        "from sklearn.model_selection import StratifiedKFold, cross_val_score\n",
        "from sklearn.preprocessing import StandardScaler\n",
        "from sklearn.svm import SVC\n",
        "from sklearn.pipeline import make_pipeline\n",
        "import numpy as np\n",
        "\n",
        "# Load the Iris dataset\n",
        "iris = load_iris()\n",
        "X, y = iris.data, iris.target\n",
        "\n",
        "# Create a pipeline with a scaler and an SVM\n",
        "pipeline = make_pipeline(StandardScaler(), SVC(kernel='rbf', random_state=42))\n",
        "\n",
        "# Perform stratified k-fold cross-validation\n",
        "k_folds = 10\n",
        "skf = StratifiedKFold(n_splits=k_folds, shuffle=True, random_state=42)\n",
        "scores = cross_val_score(pipeline, X, y, cv=skf)\n",
        "\n",
        "print(f\"Average Accuracy: {scores.mean():.4f}\")\n",
        "print(f\"Standard Deviation: {scores.std():.4f}\")"
      ],
      "metadata": {
        "colab": {
          "base_uri": "https://localhost:8080/"
        },
        "id": "XMPg7Ci0j65k",
        "outputId": "8ad81521-f220-4ff8-e1d1-62dfcda47afb"
      },
      "execution_count": 18,
      "outputs": [
        {
          "output_type": "stream",
          "name": "stdout",
          "text": [
            "Average Accuracy: 0.9600\n",
            "Standard Deviation: 0.0442\n"
          ]
        }
      ]
    },
    {
      "cell_type": "markdown",
      "source": [
        "**39. Write a Python program to train a Naïve Bayes classifier using different prior probabilities and compare performance**"
      ],
      "metadata": {
        "id": "vqw0Z5f4kAdX"
      }
    },
    {
      "cell_type": "code",
      "source": [
        "from sklearn.datasets import load_iris\n",
        "from sklearn.model_selection import train_test_split\n",
        "from sklearn.naive_bayes import GaussianNB\n",
        "from sklearn.metrics import accuracy_score\n",
        "import numpy as np\n",
        "\n",
        "# Load the Iris dataset\n",
        "iris = load_iris()\n",
        "X, y = iris.data, iris.target\n",
        "X_train, X_test, y_train, y_test = train_test_split(X, y, test_size=0.3, random_state=42)\n",
        "\n",
        "# Train a Gaussian Naive Bayes classifier with default priors\n",
        "gnb_default = GaussianNB()\n",
        "gnb_default.fit(X_train, y_train)\n",
        "y_pred_default = gnb_default.predict(X_test)\n",
        "accuracy_default = accuracy_score(y_test, y_pred_default)\n",
        "\n",
        "# Train a Gaussian Naive Bayes classifier with custom priors\n",
        "custom_priors = [0.8, 0.1, 0.1]\n",
        "gnb_custom = GaussianNB(priors=custom_priors)\n",
        "gnb_custom.fit(X_train, y_train)\n",
        "y_pred_custom = gnb_custom.predict(X_test)\n",
        "accuracy_custom = accuracy_score(y_test, y_pred_custom)\n",
        "\n",
        "# Compare the accuracies\n",
        "print(f\"Accuracy with learned priors: {accuracy_default:.4f}\")\n",
        "print(f\"Accuracy with custom priors: {accuracy_custom:.4f}\")"
      ],
      "metadata": {
        "colab": {
          "base_uri": "https://localhost:8080/"
        },
        "id": "bPM41U5Aj-qc",
        "outputId": "8ca95665-20ee-46c9-d20a-9df54a597241"
      },
      "execution_count": 19,
      "outputs": [
        {
          "output_type": "stream",
          "name": "stdout",
          "text": [
            "Accuracy with learned priors: 0.9778\n",
            "Accuracy with custom priors: 0.9778\n"
          ]
        }
      ]
    },
    {
      "cell_type": "markdown",
      "source": [
        "**40. Write a Python program to perform Recursive Feature Elimination (RFE) before training an SVM Classifier and compare accuracy**"
      ],
      "metadata": {
        "id": "SLZUH8J4kDio"
      }
    },
    {
      "cell_type": "code",
      "source": [
        "from sklearn.datasets import make_classification\n",
        "from sklearn.model_selection import train_test_split\n",
        "from sklearn.preprocessing import StandardScaler\n",
        "from sklearn.svm import SVC\n",
        "from sklearn.feature_selection import RFE\n",
        "from sklearn.metrics import accuracy_score\n",
        "\n",
        "\n",
        "# 1. Create a dataset (with n_useless argument removed)\n",
        "X, y = make_classification(n_samples=500, n_features=25, n_informative=5,\n",
        "                           n_redundant=5, random_state=42)\n",
        "X_train, X_test, y_train, y_test = train_test_split(X, y, test_size=0.3, random_state=42)\n",
        "\n",
        "# Scale the data\n",
        "scaler = StandardScaler()\n",
        "X_train_scaled = scaler.fit_transform(X_train)\n",
        "X_test_scaled = scaler.transform(X_test)\n",
        "\n",
        "# 2. Train SVM on all features\n",
        "# RFE with SVC requires a linear kernel to access feature coefficients\n",
        "svm_all = SVC(kernel='linear', random_state=42)\n",
        "svm_all.fit(X_train_scaled, y_train)\n",
        "accuracy_all = accuracy_score(y_test, svm_all.predict(X_test_scaled))\n",
        "\n",
        "# 3. Apply RFE to select the top 5 features\n",
        "# The estimator inside RFE must also be a linear SVM\n",
        "rfe_estimator = SVC(kernel='linear', random_state=42)\n",
        "rfe = RFE(estimator=rfe_estimator, n_features_to_select=5)\n",
        "rfe.fit(X_train_scaled, y_train)\n",
        "\n",
        "# Transform the data to keep only the selected features\n",
        "X_train_rfe = rfe.transform(X_train_scaled)\n",
        "X_test_rfe = rfe.transform(X_test_scaled)\n",
        "\n",
        "# 4. Train SVM on RFE-selected features\n",
        "svm_rfe = SVC(kernel='linear', random_state=42)\n",
        "svm_rfe.fit(X_train_rfe, y_train)\n",
        "accuracy_rfe = accuracy_score(y_test, svm_rfe.predict(X_test_rfe))\n",
        "\n",
        "# 5. Compare results\n",
        "print(f\"Accuracy with all 25 features: {accuracy_all:.4f}\")\n",
        "print(f\"Accuracy with RFE-selected 5 features: {accuracy_rfe:.4f}\")"
      ],
      "metadata": {
        "colab": {
          "base_uri": "https://localhost:8080/"
        },
        "id": "MGTA_6Q2kBi1",
        "outputId": "4a918c06-9c1a-47a0-890e-ec7b86bb7425"
      },
      "execution_count": 28,
      "outputs": [
        {
          "output_type": "stream",
          "name": "stdout",
          "text": [
            "Accuracy with all 25 features: 0.8600\n",
            "Accuracy with RFE-selected 5 features: 0.8867\n"
          ]
        }
      ]
    },
    {
      "cell_type": "markdown",
      "source": [
        "**41. Write a Python program to train an SVM Classifier and evaluate its performance using Precision, Recall, and F1-Score instead of accuracy**"
      ],
      "metadata": {
        "id": "HdOOMD7GkHes"
      }
    },
    {
      "cell_type": "code",
      "source": [
        "from sklearn.datasets import load_breast_cancer\n",
        "from sklearn.model_selection import train_test_split\n",
        "from sklearn.preprocessing import StandardScaler\n",
        "from sklearn.svm import SVC\n",
        "from sklearn.metrics import classification_report\n",
        "\n",
        "# Load the breast cancer dataset\n",
        "cancer = load_breast_cancer()\n",
        "X, y = cancer.data, cancer.target\n",
        "\n",
        "# Split and scale the data\n",
        "X_train, X_test, y_train, y_test = train_test_split(X, y, test_size=0.3, random_state=42)\n",
        "scaler = StandardScaler()\n",
        "X_train_scaled = scaler.fit_transform(X_train)\n",
        "X_test_scaled = scaler.transform(X_test)\n",
        "\n",
        "# Train the SVM\n",
        "svm = SVC(random_state=42)\n",
        "svm.fit(X_train_scaled, y_train)\n",
        "\n",
        "# Make predictions and print the classification report\n",
        "y_pred = svm.predict(X_test_scaled)\n",
        "report = classification_report(y_test, y_pred, target_names=cancer.target_names)\n",
        "print(report)"
      ],
      "metadata": {
        "colab": {
          "base_uri": "https://localhost:8080/"
        },
        "id": "dsdn2zOEkFJ1",
        "outputId": "379eced0-4b9f-4cb9-bd9b-4190d3cf18ab"
      },
      "execution_count": 21,
      "outputs": [
        {
          "output_type": "stream",
          "name": "stdout",
          "text": [
            "              precision    recall  f1-score   support\n",
            "\n",
            "   malignant       0.97      0.97      0.97        63\n",
            "      benign       0.98      0.98      0.98       108\n",
            "\n",
            "    accuracy                           0.98       171\n",
            "   macro avg       0.97      0.97      0.97       171\n",
            "weighted avg       0.98      0.98      0.98       171\n",
            "\n"
          ]
        }
      ]
    },
    {
      "cell_type": "markdown",
      "source": [
        "**42. Write a Python program to train a Naïve Bayes Classifier and evaluate its performance using Log Loss (Cross-Entropy Loss)**"
      ],
      "metadata": {
        "id": "ly-v8fA0kKrQ"
      }
    },
    {
      "cell_type": "code",
      "source": [
        "from sklearn.datasets import load_iris\n",
        "from sklearn.model_selection import train_test_split\n",
        "from sklearn.naive_bayes import GaussianNB\n",
        "from sklearn.metrics import log_loss\n",
        "\n",
        "# Load the Iris dataset\n",
        "iris = load_iris()\n",
        "X, y = iris.data, iris.target\n",
        "X_train, X_test, y_train, y_test = train_test_split(X, y, test_size=0.3, random_state=42)\n",
        "\n",
        "# Train the Gaussian Naive Bayes classifier\n",
        "gnb = GaussianNB()\n",
        "gnb.fit(X_train, y_train)\n",
        "\n",
        "# Predict probabilities and calculate the log loss\n",
        "y_pred_proba = gnb.predict_proba(X_test)\n",
        "loss = log_loss(y_test, y_pred_proba)\n",
        "print(f\"Log Loss: {loss:.4f}\")"
      ],
      "metadata": {
        "colab": {
          "base_uri": "https://localhost:8080/"
        },
        "id": "o49HwD7lkIxN",
        "outputId": "c5778635-fe18-4b1c-d810-6560908e785d"
      },
      "execution_count": 22,
      "outputs": [
        {
          "output_type": "stream",
          "name": "stdout",
          "text": [
            "Log Loss: 0.0490\n"
          ]
        }
      ]
    },
    {
      "cell_type": "markdown",
      "source": [
        "**43. Write a Python program to train an SVM Classifier and visualize the Confusion Matrix using seaborn**"
      ],
      "metadata": {
        "id": "yGVO01TTkNl0"
      }
    },
    {
      "cell_type": "code",
      "source": [
        "import matplotlib.pyplot as plt\n",
        "import seaborn as sns\n",
        "from sklearn.datasets import load_digits\n",
        "from sklearn.model_selection import train_test_split\n",
        "from sklearn.preprocessing import StandardScaler\n",
        "from sklearn.svm import SVC\n",
        "from sklearn.metrics import confusion_matrix\n",
        "\n",
        "# Load the digits dataset\n",
        "digits = load_digits()\n",
        "X, y = digits.data, digits.target\n",
        "\n",
        "# Split and scale the data\n",
        "X_train, X_test, y_train, y_test = train_test_split(X, y, test_size=0.3, random_state=42)\n",
        "scaler = StandardScaler()\n",
        "X_train_scaled = scaler.fit_transform(X_train)\n",
        "X_test_scaled = scaler.transform(X_test)\n",
        "\n",
        "# Train the SVM\n",
        "svm = SVC(random_state=42)\n",
        "svm.fit(X_train_scaled, y_train)\n",
        "y_pred = svm.predict(X_test_scaled)\n",
        "\n",
        "# Compute and visualize the confusion matrix\n",
        "cm = confusion_matrix(y_test, y_pred)\n",
        "plt.figure(figsize=(10, 8))\n",
        "sns.heatmap(cm, annot=True, fmt='d', cmap='Blues',\n",
        "            xticklabels=digits.target_names, yticklabels=digits.target_names)\n",
        "plt.xlabel('Predicted Label')\n",
        "plt.ylabel('True Label')\n",
        "plt.title('SVM Confusion Matrix on Digits Dataset')\n",
        "plt.show()"
      ],
      "metadata": {
        "colab": {
          "base_uri": "https://localhost:8080/",
          "height": 718
        },
        "id": "ttGdzOS6kL4m",
        "outputId": "9da5f9d6-67b9-4661-b124-d302b2074713"
      },
      "execution_count": 23,
      "outputs": [
        {
          "output_type": "display_data",
          "data": {
            "text/plain": [
              "<Figure size 1000x800 with 2 Axes>"
            ],
            "image/png": "[encoded data removed]"
          },
          "metadata": {}
        }
      ]
    },
    {
      "cell_type": "markdown",
      "source": [
        "**44. Write a Python program to train an SVM Regressor (SVR) and evaluate its performance using Mean Absolute Error (MAE) instead of MSE**"
      ],
      "metadata": {
        "id": "UvYsgMGWkQn0"
      }
    },
    {
      "cell_type": "code",
      "source": [
        "from sklearn.datasets import fetch_california_housing\n",
        "from sklearn.model_selection import train_test_split\n",
        "from sklearn.preprocessing import StandardScaler\n",
        "from sklearn.svm import SVR\n",
        "from sklearn.metrics import mean_absolute_error\n",
        "\n",
        "# Load the housing dataset\n",
        "housing = fetch_california_housing()\n",
        "X, y = housing.data, housing.target\n",
        "\n",
        "# Split and scale the data\n",
        "X_train, X_test, y_train, y_test = train_test_split(X, y, test_size=0.2, random_state=42)\n",
        "scaler = StandardScaler()\n",
        "X_train_scaled = scaler.fit_transform(X_train)\n",
        "X_test_scaled = scaler.transform(X_test)\n",
        "\n",
        "# Train the SVR\n",
        "svr = SVR(kernel='rbf')\n",
        "svr.fit(X_train_scaled, y_train)\n",
        "\n",
        "# Make predictions and evaluate the MAE\n",
        "y_pred = svr.predict(X_test_scaled)\n",
        "mae = mean_absolute_error(y_test, y_pred)\n",
        "print(f\"Mean Absolute Error (MAE): {mae:.4f}\")"
      ],
      "metadata": {
        "colab": {
          "base_uri": "https://localhost:8080/"
        },
        "id": "DpXe_kifkOyu",
        "outputId": "b7b98648-19c1-463c-d7ba-b050077b7565"
      },
      "execution_count": 24,
      "outputs": [
        {
          "output_type": "stream",
          "name": "stdout",
          "text": [
            "Mean Absolute Error (MAE): 0.3986\n"
          ]
        }
      ]
    },
    {
      "cell_type": "markdown",
      "source": [
        "**45. Write a Python program to train a Naïve Bayes classifier and evaluate its performance using the ROC-AUC score**"
      ],
      "metadata": {
        "id": "DaevydSakTiB"
      }
    },
    {
      "cell_type": "code",
      "source": [
        "import matplotlib.pyplot as plt\n",
        "from sklearn.datasets import load_breast_cancer\n",
        "from sklearn.model_selection import train_test_split\n",
        "from sklearn.naive_bayes import GaussianNB\n",
        "from sklearn.metrics import roc_curve, roc_auc_score\n",
        "\n",
        "# Load the breast cancer dataset\n",
        "cancer = load_breast_cancer()\n",
        "X, y = cancer.data, cancer.target\n",
        "X_train, X_test, y_train, y_test = train_test_split(X, y, test_size=0.3, random_state=42)\n",
        "\n",
        "# Train the Gaussian Naive Bayes classifier\n",
        "gnb = GaussianNB()\n",
        "gnb.fit(X_train, y_train)\n",
        "\n",
        "# Predict probabilities and calculate the ROC-AUC score\n",
        "y_pred_proba = gnb.predict_proba(X_test)[:, 1]\n",
        "auc_score = roc_auc_score(y_test, y_pred_proba)\n",
        "print(f\"ROC-AUC Score: {auc_score:.4f}\")\n",
        "\n",
        "# Plot the ROC curve\n",
        "fpr, tpr, thresholds = roc_curve(y_test, y_pred_proba)\n",
        "plt.figure(figsize=(8, 6))\n",
        "plt.plot(fpr, tpr, color='darkorange', lw=2, label=f'ROC curve (area = {auc_score:.2f})')\n",
        "plt.plot([0, 1], [0, 1], color='navy', lw=2, linestyle='--')\n",
        "plt.xlabel('False Positive Rate')\n",
        "plt.ylabel('True Positive Rate')\n",
        "plt.title('Receiver Operating Characteristic (ROC) Curve')\n",
        "plt.legend(loc=\"lower right\")\n",
        "plt.show()"
      ],
      "metadata": {
        "colab": {
          "base_uri": "https://localhost:8080/",
          "height": 581
        },
        "id": "pxbG7rcwkRtG",
        "outputId": "aac3b3eb-7ffb-4c30-deff-83eb6c84716b"
      },
      "execution_count": 25,
      "outputs": [
        {
          "output_type": "stream",
          "name": "stdout",
          "text": [
            "ROC-AUC Score: 0.9922\n"
          ]
        },
        {
          "output_type": "display_data",
          "data": {
            "text/plain": [
              "<Figure size 800x600 with 1 Axes>"
            ],
            "image/png": "[encoded data removed]"
          },
          "metadata": {}
        }
      ]
    },
    {
      "cell_type": "markdown",
      "source": [
        "**46. Write a Python program to train an SVM Classifier and visualize the Precision-Recall Curve**"
      ],
      "metadata": {
        "id": "xnoGUu44kW3x"
      }
    },
    {
      "cell_type": "code",
      "source": [
        "import matplotlib.pyplot as plt\n",
        "from sklearn.datasets import make_classification\n",
        "from sklearn.model_selection import train_test_split\n",
        "from sklearn.preprocessing import StandardScaler\n",
        "from sklearn.svm import SVC\n",
        "from sklearn.metrics import precision_recall_curve, auc\n",
        "\n",
        "# Create a synthetic dataset\n",
        "X, y = make_classification(n_samples=1000, n_features=20, n_classes=2,\n",
        "                           weights=[0.9, 0.1], random_state=42)\n",
        "X_train, X_test, y_train, y_test = train_test_split(X, y, test_size=0.3, random_state=42, stratify=y)\n",
        "\n",
        "# Scale the data and train the SVM\n",
        "scaler = StandardScaler()\n",
        "X_train_scaled = scaler.fit_transform(X_train)\n",
        "X_test_scaled = scaler.transform(X_test)\n",
        "svm = SVC(probability=True, random_state=42)\n",
        "svm.fit(X_train_scaled, y_train)\n",
        "\n",
        "# Get decision function scores\n",
        "y_scores = svm.decision_function(X_test_scaled)\n",
        "\n",
        "# Calculate precision and recall\n",
        "precision, recall, thresholds = precision_recall_curve(y_test, y_scores)\n",
        "pr_auc = auc(recall, precision)\n",
        "\n",
        "# Plot the Precision-Recall curve\n",
        "plt.figure(figsize=(8, 6))\n",
        "plt.plot(recall, precision, color='b', lw=2, label=f'PR curve (area = {pr_auc:.2f})')\n",
        "plt.xlabel('Recall')\n",
        "plt.ylabel('Precision')\n",
        "plt.title('Precision-Recall Curve for SVM')\n",
        "plt.legend(loc=\"lower left\")\n",
        "plt.grid(True)\n",
        "plt.show()"
      ],
      "metadata": {
        "colab": {
          "base_uri": "https://localhost:8080/",
          "height": 564
        },
        "id": "sXPlXbD6kUwa",
        "outputId": "bdc20ef5-0418-43b5-85e1-e60e8e88cb34"
      },
      "execution_count": 26,
      "outputs": [
        {
          "output_type": "display_data",
          "data": {
            "text/plain": [
              "<Figure size 800x600 with 1 Axes>"
            ],
            "image/png": "[encoded data removed]"
          },
          "metadata": {}
        }
      ]
    },
    {
      "cell_type": "code",
      "source": [],
      "metadata": {
        "id": "Ks_LsB9okX_X"
      },
      "execution_count": null,
      "outputs": []
    }
  ]
}